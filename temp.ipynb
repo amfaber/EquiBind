{
 "cells": [
  {
   "cell_type": "code",
   "execution_count": 40,
   "metadata": {},
   "outputs": [
    {
     "data": {
      "text/plain": [
       "<module 'argparse' from '/home/amfaber/anaconda3/envs/equibind/lib/python3.7/argparse.py'>"
      ]
     },
     "execution_count": 40,
     "metadata": {},
     "output_type": "execute_result"
    }
   ],
   "source": [
    "from datasets import ligands\n",
    "from commons.process_mols import read_molecules_from_sdf, get_lig_graph_revised\n",
    "from equibind_inference import get_default_args, parse_arguments\n",
    "import importlib\n",
    "from torch.utils.data import DataLoader\n",
    "importlib.reload(ligands)\n",
    "import equibind_inference\n",
    "importlib.reload(equibind_inference)\n",
    "import dgl\n",
    "from dgl import batch\n",
    "import torch\n",
    "from commons.utils import seed_all\n",
    "import copy\n",
    "import argparse\n",
    "importlib.reload(argparse)"
   ]
  },
  {
   "cell_type": "code",
   "execution_count": 41,
   "metadata": {},
   "outputs": [],
   "source": [
    "args, cmdline = parse_arguments([\"-r\", \"/home/amfaber/Masters/POR-DD/data/raw_data/cyp_screen/protein.pdb\",\n",
    "                        \"-l\", \"/home/amfaber/Masters/POR-DD/data/raw_data/cyp_screen/test_3D_opt_1216.sdf\"])\n",
    "args = get_default_args(args, cmdline)"
   ]
  },
  {
   "cell_type": "code",
   "execution_count": 42,
   "metadata": {},
   "outputs": [
    {
     "name": "stdout",
     "output_type": "stream",
     "text": [
      "device = cuda:0\n"
     ]
    },
    {
     "name": "stderr",
     "output_type": "stream",
     "text": [
      "RDKit WARNING: [19:10:58] Warning: molecule is tagged as 3D, but all Z coords are zero\n",
      "[19:10:58] Warning: molecule is tagged as 3D, but all Z coords are zero\n"
     ]
    }
   ],
   "source": [
    "ligs, rec_graph, model = equibind_inference.load_statics(args)\n",
    "rec_graph = rec_graph.to(args.device)"
   ]
  },
  {
   "cell_type": "code",
   "execution_count": 43,
   "metadata": {},
   "outputs": [
    {
     "name": "stderr",
     "output_type": "stream",
     "text": [
      "0it [00:00, ?it/s][Parallel(n_jobs=1)]: Using backend SequentialBackend with 1 concurrent workers.\n",
      "8it [00:00, 52.06it/s]\n",
      "[Parallel(n_jobs=1)]: Done   8 out of   8 | elapsed:    0.2s finished\n"
     ]
    },
    {
     "name": "stdout",
     "output_type": "stream",
     "text": [
      "[2022-05-22 19:11:02.996523] The lig_radius 5 was too small for one lig atom such that it had no neighbors. So we connected 3 to the closest other lig atom [0]\n"
     ]
    },
    {
     "name": "stderr",
     "output_type": "stream",
     "text": [
      "0it [00:00, ?it/s][Parallel(n_jobs=1)]: Using backend SequentialBackend with 1 concurrent workers.\n",
      "8it [00:00, 407.24it/s]\n",
      "[Parallel(n_jobs=1)]: Done   8 out of   8 | elapsed:    0.0s finished\n"
     ]
    }
   ],
   "source": [
    "idx = 1050\n",
    "bs = 8\n",
    "lig_data = ligands.Ligands(ligs[(idx//bs)*bs:((idx//bs)+1)*bs], rec_graph, args, n_jobs = 1)\n",
    "# lig_data = ligands.Ligands(ligs, rec_graph, args, n_jobs = 4)\n"
   ]
  },
  {
   "cell_type": "code",
   "execution_count": 44,
   "metadata": {},
   "outputs": [],
   "source": [
    "lig_loader = DataLoader(lig_data, batch_size = bs, collate_fn = lig_data.collate(rec_batch = True))"
   ]
  },
  {
   "cell_type": "code",
   "execution_count": null,
   "metadata": {},
   "outputs": [],
   "source": []
  },
  {
   "cell_type": "code",
   "execution_count": 46,
   "metadata": {},
   "outputs": [
    {
     "name": "stdout",
     "output_type": "stream",
     "text": [
      "[2022-05-22 19:11:14.392611] None complex_names where Nan encountered\n",
      "Succeeded for Thonzylamine\n",
      "Succeeded for Cyclomethicone 5\n",
      "Succeeded for Hexylresorcinol\n",
      "[2022-05-22 19:11:15.190677] None complex_names where Nan encountered\n",
      "Failed for Chromium picolinate\n",
      "Succeeded for Methyl undecenoyl leucinate\n",
      "Succeeded for DL-Methylephedrine\n",
      "Succeeded for Diethyltoluamide\n",
      "Succeeded for Vanillyl butyl ether\n"
     ]
    },
    {
     "ename": "DGLError",
     "evalue": "Invalid key \"0\". Must be one of the edge types.",
     "output_type": "error",
     "traceback": [
      "\u001b[0;31m---------------------------------------------------------------------------\u001b[0m",
      "\u001b[0;31mDGLError\u001b[0m                                  Traceback (most recent call last)",
      "\u001b[0;32m/tmp/ipykernel_17697/86132805.py\u001b[0m in \u001b[0;36m<module>\u001b[0;34m\u001b[0m\n\u001b[1;32m      3\u001b[0m \u001b[0;32mwith\u001b[0m \u001b[0mtorch\u001b[0m\u001b[0;34m.\u001b[0m\u001b[0mno_grad\u001b[0m\u001b[0;34m(\u001b[0m\u001b[0;34m)\u001b[0m\u001b[0;34m:\u001b[0m\u001b[0;34m\u001b[0m\u001b[0;34m\u001b[0m\u001b[0m\n\u001b[1;32m      4\u001b[0m     \u001b[0mpred\u001b[0m\u001b[0;34m,\u001b[0m \u001b[0msuc\u001b[0m\u001b[0;34m,\u001b[0m \u001b[0mfail\u001b[0m \u001b[0;34m=\u001b[0m \u001b[0mequibind_inference\u001b[0m\u001b[0;34m.\u001b[0m\u001b[0m_run\u001b[0m\u001b[0;34m(\u001b[0m\u001b[0mnext\u001b[0m\u001b[0;34m(\u001b[0m\u001b[0miter\u001b[0m\u001b[0;34m(\u001b[0m\u001b[0mlig_loader\u001b[0m\u001b[0;34m)\u001b[0m\u001b[0;34m)\u001b[0m\u001b[0;34m,\u001b[0m \u001b[0mmodel\u001b[0m\u001b[0;34m)\u001b[0m\u001b[0;34m\u001b[0m\u001b[0;34m\u001b[0m\u001b[0m\n\u001b[0;32m----> 5\u001b[0;31m \u001b[0;32mfor\u001b[0m \u001b[0mlig\u001b[0m\u001b[0;34m,\u001b[0m \u001b[0mlig_coord\u001b[0m\u001b[0;34m,\u001b[0m \u001b[0mlig_graph\u001b[0m\u001b[0;34m,\u001b[0m \u001b[0mrec_graph\u001b[0m\u001b[0;34m,\u001b[0m \u001b[0mgeometry_graph\u001b[0m \u001b[0;32min\u001b[0m \u001b[0mzip\u001b[0m\u001b[0;34m(\u001b[0m\u001b[0;34m*\u001b[0m\u001b[0mbatch\u001b[0m\u001b[0;34m)\u001b[0m\u001b[0;34m:\u001b[0m\u001b[0;34m\u001b[0m\u001b[0;34m\u001b[0m\u001b[0m\n\u001b[0m\u001b[1;32m      6\u001b[0m     \u001b[0mequibind_inference\u001b[0m\u001b[0;34m.\u001b[0m\u001b[0mrun_corrections\u001b[0m\u001b[0;34m(\u001b[0m\u001b[0mlig\u001b[0m\u001b[0;34m,\u001b[0m \u001b[0mlig_coord\u001b[0m\u001b[0;34m,\u001b[0m \u001b[0mpred\u001b[0m\u001b[0;34m)\u001b[0m\u001b[0;34m\u001b[0m\u001b[0;34m\u001b[0m\u001b[0m\n",
      "\u001b[0;32m~/anaconda3/envs/equibind/lib/python3.7/site-packages/dgl/heterograph.py\u001b[0m in \u001b[0;36m__getitem__\u001b[0;34m(self, key)\u001b[0m\n\u001b[1;32m   2237\u001b[0m \u001b[0;34m\u001b[0m\u001b[0m\n\u001b[1;32m   2238\u001b[0m         \u001b[0;32mif\u001b[0m \u001b[0mlen\u001b[0m\u001b[0;34m(\u001b[0m\u001b[0metypes\u001b[0m\u001b[0;34m)\u001b[0m \u001b[0;34m==\u001b[0m \u001b[0;36m0\u001b[0m\u001b[0;34m:\u001b[0m\u001b[0;34m\u001b[0m\u001b[0;34m\u001b[0m\u001b[0m\n\u001b[0;32m-> 2239\u001b[0;31m             \u001b[0;32mraise\u001b[0m \u001b[0mDGLError\u001b[0m\u001b[0;34m(\u001b[0m\u001b[0;34m'Invalid key \"{}\". Must be one of the edge types.'\u001b[0m\u001b[0;34m.\u001b[0m\u001b[0mformat\u001b[0m\u001b[0;34m(\u001b[0m\u001b[0morig_key\u001b[0m\u001b[0;34m)\u001b[0m\u001b[0;34m)\u001b[0m\u001b[0;34m\u001b[0m\u001b[0;34m\u001b[0m\u001b[0m\n\u001b[0m\u001b[1;32m   2240\u001b[0m \u001b[0;34m\u001b[0m\u001b[0m\n\u001b[1;32m   2241\u001b[0m         \u001b[0;32mif\u001b[0m \u001b[0mlen\u001b[0m\u001b[0;34m(\u001b[0m\u001b[0metypes\u001b[0m\u001b[0;34m)\u001b[0m \u001b[0;34m==\u001b[0m \u001b[0;36m1\u001b[0m\u001b[0;34m:\u001b[0m\u001b[0;34m\u001b[0m\u001b[0;34m\u001b[0m\u001b[0m\n",
      "\u001b[0;31mDGLError\u001b[0m: Invalid key \"0\". Must be one of the edge types."
     ]
    }
   ],
   "source": [
    "batch = next(iter(lig_loader))\n",
    "ligs, lig_coords, lig_graphs, rec_graphs, geometry_graphs = batch\n",
    "with torch.no_grad():\n",
    "    pred, suc, fail = equibind_inference._run(next(iter(lig_loader)), model)\n",
    "for lig, lig_coord, lig_graph, rec_graph, geometry_graph in batch:\n",
    "    equibind_inference.run_corrections(lig, lig_coord, pred)"
   ]
  },
  {
   "cell_type": "code",
   "execution_count": null,
   "metadata": {},
   "outputs": [
    {
     "data": {
      "text/plain": [
       "tensor([[17.9542,  3.2036, 62.2651],\n",
       "        [17.3889,  3.2567, 62.3026],\n",
       "        [16.7102,  3.6463, 62.3573],\n",
       "        [15.8822,  3.9909, 63.0453],\n",
       "        [15.4047,  4.2120, 63.0222],\n",
       "        [14.5473,  4.6452, 63.3473],\n",
       "        [13.4776,  4.9445, 64.8004],\n",
       "        [12.9852,  5.1882, 65.6492],\n",
       "        [13.4660,  5.8248, 65.5774],\n",
       "        [14.0161,  5.0252, 64.2333],\n",
       "        [12.8471,  5.6899, 66.3143],\n",
       "        [13.9480,  5.6137, 64.7232],\n",
       "        [12.4853,  6.0445, 67.0912],\n",
       "        [13.9514,  5.8752, 64.6366],\n",
       "        [18.5769,  3.2336, 62.2478],\n",
       "        [17.8971,  3.3200, 62.3166],\n",
       "        [17.4279,  3.4691, 62.5217],\n",
       "        [17.7210,  3.2649, 62.3602],\n",
       "        [17.4294,  3.3732, 62.2524],\n",
       "        [16.6550,  3.7203, 62.6537],\n",
       "        [16.4544,  3.9434, 62.5628],\n",
       "        [15.8046,  4.0962, 63.0771],\n",
       "        [15.9222,  4.0276, 62.9092],\n",
       "        [15.5524,  4.1002, 63.0780],\n",
       "        [15.1116,  4.3068, 63.2008],\n",
       "        [14.6416,  4.6702, 63.5371],\n",
       "        [14.3754,  4.6448, 63.2891],\n",
       "        [13.5142,  4.6041, 64.4067],\n",
       "        [12.4305,  5.0606, 66.0240],\n",
       "        [13.3530,  6.2786, 65.9955],\n",
       "        [12.7904,  6.2872, 66.9911],\n",
       "        [14.2436,  6.3522, 64.7556]], device='cuda:0')"
      ]
     },
     "execution_count": 24,
     "metadata": {},
     "output_type": "execute_result"
    }
   ],
   "source": [
    "pred[2]"
   ]
  },
  {
   "cell_type": "code",
   "execution_count": null,
   "metadata": {},
   "outputs": [
    {
     "name": "stdout",
     "output_type": "stream",
     "text": [
      "invoked. shape = torch.Size([165, 17])\n",
      "invoked. shape = torch.Size([6212, 3])\n",
      "[2022-05-22 18:22:18.294238] ['Thonzylamine', 'Cyclomethicone 5', 'Hexylresorcinol', 'Chromium picolinate'] complex_names where Nan encountered\n"
     ]
    },
    {
     "ename": "AssertionError",
     "evalue": "",
     "output_type": "error",
     "traceback": [
      "\u001b[0;31m---------------------------------------------------------------------------\u001b[0m",
      "\u001b[0;31mAssertionError\u001b[0m                            Traceback (most recent call last)",
      "\u001b[0;32m/tmp/ipykernel_15357/3409814826.py\u001b[0m in \u001b[0;36m<module>\u001b[0;34m\u001b[0m\n\u001b[1;32m      2\u001b[0m \u001b[0;32mfor\u001b[0m \u001b[0mi\u001b[0m\u001b[0;34m,\u001b[0m \u001b[0msample_batched\u001b[0m \u001b[0;32min\u001b[0m \u001b[0menumerate\u001b[0m\u001b[0;34m(\u001b[0m\u001b[0mlig_loader\u001b[0m\u001b[0;34m)\u001b[0m\u001b[0;34m:\u001b[0m\u001b[0;34m\u001b[0m\u001b[0;34m\u001b[0m\u001b[0m\n\u001b[1;32m      3\u001b[0m     \u001b[0;32mwith\u001b[0m \u001b[0mtorch\u001b[0m\u001b[0;34m.\u001b[0m\u001b[0mno_grad\u001b[0m\u001b[0;34m(\u001b[0m\u001b[0;34m)\u001b[0m\u001b[0;34m:\u001b[0m\u001b[0;34m\u001b[0m\u001b[0;34m\u001b[0m\u001b[0m\n\u001b[0;32m----> 4\u001b[0;31m         \u001b[0mbatched_res\u001b[0m \u001b[0;34m=\u001b[0m \u001b[0mmodel\u001b[0m\u001b[0;34m(\u001b[0m\u001b[0;34m*\u001b[0m\u001b[0msample_batched\u001b[0m\u001b[0;34m[\u001b[0m\u001b[0;36m2\u001b[0m\u001b[0;34m:\u001b[0m\u001b[0;34m]\u001b[0m\u001b[0;34m,\u001b[0m \u001b[0mcomplex_names\u001b[0m \u001b[0;34m=\u001b[0m \u001b[0;34m[\u001b[0m\u001b[0mmol\u001b[0m\u001b[0;34m.\u001b[0m\u001b[0mGetProp\u001b[0m\u001b[0;34m(\u001b[0m\u001b[0;34m'_Name'\u001b[0m\u001b[0;34m)\u001b[0m \u001b[0;32mfor\u001b[0m \u001b[0mmol\u001b[0m \u001b[0;32min\u001b[0m \u001b[0msample_batched\u001b[0m\u001b[0;34m[\u001b[0m\u001b[0;36m0\u001b[0m\u001b[0;34m]\u001b[0m\u001b[0;34m]\u001b[0m\u001b[0;34m)\u001b[0m\u001b[0;34m[\u001b[0m\u001b[0;36m0\u001b[0m\u001b[0;34m]\u001b[0m\u001b[0;34m\u001b[0m\u001b[0;34m\u001b[0m\u001b[0m\n\u001b[0m\u001b[1;32m      5\u001b[0m \u001b[0;34m\u001b[0m\u001b[0m\n",
      "\u001b[0;32m~/anaconda3/envs/equibind/lib/python3.7/site-packages/torch/nn/modules/module.py\u001b[0m in \u001b[0;36m_call_impl\u001b[0;34m(self, *input, **kwargs)\u001b[0m\n\u001b[1;32m   1108\u001b[0m         if not (self._backward_hooks or self._forward_hooks or self._forward_pre_hooks or _global_backward_hooks\n\u001b[1;32m   1109\u001b[0m                 or _global_forward_hooks or _global_forward_pre_hooks):\n\u001b[0;32m-> 1110\u001b[0;31m             \u001b[0;32mreturn\u001b[0m \u001b[0mforward_call\u001b[0m\u001b[0;34m(\u001b[0m\u001b[0;34m*\u001b[0m\u001b[0minput\u001b[0m\u001b[0;34m,\u001b[0m \u001b[0;34m**\u001b[0m\u001b[0mkwargs\u001b[0m\u001b[0;34m)\u001b[0m\u001b[0;34m\u001b[0m\u001b[0;34m\u001b[0m\u001b[0m\n\u001b[0m\u001b[1;32m   1111\u001b[0m         \u001b[0;31m# Do not call functions when jit is used\u001b[0m\u001b[0;34m\u001b[0m\u001b[0;34m\u001b[0m\u001b[0;34m\u001b[0m\u001b[0m\n\u001b[1;32m   1112\u001b[0m         \u001b[0mfull_backward_hooks\u001b[0m\u001b[0;34m,\u001b[0m \u001b[0mnon_full_backward_hooks\u001b[0m \u001b[0;34m=\u001b[0m \u001b[0;34m[\u001b[0m\u001b[0;34m]\u001b[0m\u001b[0;34m,\u001b[0m \u001b[0;34m[\u001b[0m\u001b[0;34m]\u001b[0m\u001b[0;34m\u001b[0m\u001b[0;34m\u001b[0m\u001b[0m\n",
      "\u001b[0;32m~/Masters/POR-DD/EquiBind/models/equibind.py\u001b[0m in \u001b[0;36mforward\u001b[0;34m(self, lig_graph, rec_graph, geometry_graph, complex_names, epoch)\u001b[0m\n\u001b[1;32m   1026\u001b[0m             \u001b[0moutputs\u001b[0m \u001b[0;34m=\u001b[0m \u001b[0mself\u001b[0m\u001b[0;34m.\u001b[0m\u001b[0miegmn\u001b[0m\u001b[0;34m(\u001b[0m\u001b[0mlig_graph\u001b[0m\u001b[0;34m,\u001b[0m \u001b[0mrec_graph\u001b[0m\u001b[0;34m,\u001b[0m \u001b[0mgeometry_graph\u001b[0m\u001b[0;34m,\u001b[0m \u001b[0mcomplex_names\u001b[0m\u001b[0;34m,\u001b[0m \u001b[0mepoch\u001b[0m\u001b[0;34m)\u001b[0m\u001b[0;34m\u001b[0m\u001b[0;34m\u001b[0m\u001b[0m\n\u001b[1;32m   1027\u001b[0m         \u001b[0;32mexcept\u001b[0m \u001b[0mAssertionError\u001b[0m \u001b[0;32mas\u001b[0m \u001b[0me\u001b[0m\u001b[0;34m:\u001b[0m\u001b[0;34m\u001b[0m\u001b[0;34m\u001b[0m\u001b[0m\n\u001b[0;32m-> 1028\u001b[0;31m             \u001b[0;32mraise\u001b[0m \u001b[0me\u001b[0m\u001b[0;34m\u001b[0m\u001b[0;34m\u001b[0m\u001b[0m\n\u001b[0m\u001b[1;32m   1029\u001b[0m         \u001b[0;32mfinally\u001b[0m\u001b[0;34m:\u001b[0m\u001b[0;34m\u001b[0m\u001b[0;34m\u001b[0m\u001b[0m\n\u001b[1;32m   1030\u001b[0m             \u001b[0mlig_graph\u001b[0m\u001b[0;34m.\u001b[0m\u001b[0mndata\u001b[0m\u001b[0;34m[\u001b[0m\u001b[0;34m'feat'\u001b[0m\u001b[0;34m]\u001b[0m \u001b[0;34m=\u001b[0m \u001b[0mfailsafe\u001b[0m\u001b[0;34m\u001b[0m\u001b[0;34m\u001b[0m\u001b[0m\n",
      "\u001b[0;32m~/Masters/POR-DD/EquiBind/models/equibind.py\u001b[0m in \u001b[0;36mforward\u001b[0;34m(self, lig_graph, rec_graph, geometry_graph, complex_names, epoch)\u001b[0m\n\u001b[1;32m   1024\u001b[0m         \u001b[0mfailsafe\u001b[0m \u001b[0;34m=\u001b[0m \u001b[0mlig_graph\u001b[0m\u001b[0;34m.\u001b[0m\u001b[0mndata\u001b[0m\u001b[0;34m[\u001b[0m\u001b[0;34m'feat'\u001b[0m\u001b[0;34m]\u001b[0m\u001b[0;34m\u001b[0m\u001b[0;34m\u001b[0m\u001b[0m\n\u001b[1;32m   1025\u001b[0m         \u001b[0;32mtry\u001b[0m\u001b[0;34m:\u001b[0m\u001b[0;34m\u001b[0m\u001b[0;34m\u001b[0m\u001b[0m\n\u001b[0;32m-> 1026\u001b[0;31m             \u001b[0moutputs\u001b[0m \u001b[0;34m=\u001b[0m \u001b[0mself\u001b[0m\u001b[0;34m.\u001b[0m\u001b[0miegmn\u001b[0m\u001b[0;34m(\u001b[0m\u001b[0mlig_graph\u001b[0m\u001b[0;34m,\u001b[0m \u001b[0mrec_graph\u001b[0m\u001b[0;34m,\u001b[0m \u001b[0mgeometry_graph\u001b[0m\u001b[0;34m,\u001b[0m \u001b[0mcomplex_names\u001b[0m\u001b[0;34m,\u001b[0m \u001b[0mepoch\u001b[0m\u001b[0;34m)\u001b[0m\u001b[0;34m\u001b[0m\u001b[0;34m\u001b[0m\u001b[0m\n\u001b[0m\u001b[1;32m   1027\u001b[0m         \u001b[0;32mexcept\u001b[0m \u001b[0mAssertionError\u001b[0m \u001b[0;32mas\u001b[0m \u001b[0me\u001b[0m\u001b[0;34m:\u001b[0m\u001b[0;34m\u001b[0m\u001b[0;34m\u001b[0m\u001b[0m\n\u001b[1;32m   1028\u001b[0m             \u001b[0;32mraise\u001b[0m \u001b[0me\u001b[0m\u001b[0;34m\u001b[0m\u001b[0;34m\u001b[0m\u001b[0m\n",
      "\u001b[0;32m~/anaconda3/envs/equibind/lib/python3.7/site-packages/torch/nn/modules/module.py\u001b[0m in \u001b[0;36m_call_impl\u001b[0;34m(self, *input, **kwargs)\u001b[0m\n\u001b[1;32m   1108\u001b[0m         if not (self._backward_hooks or self._forward_hooks or self._forward_pre_hooks or _global_backward_hooks\n\u001b[1;32m   1109\u001b[0m                 or _global_forward_hooks or _global_forward_pre_hooks):\n\u001b[0;32m-> 1110\u001b[0;31m             \u001b[0;32mreturn\u001b[0m \u001b[0mforward_call\u001b[0m\u001b[0;34m(\u001b[0m\u001b[0;34m*\u001b[0m\u001b[0minput\u001b[0m\u001b[0;34m,\u001b[0m \u001b[0;34m**\u001b[0m\u001b[0mkwargs\u001b[0m\u001b[0;34m)\u001b[0m\u001b[0;34m\u001b[0m\u001b[0;34m\u001b[0m\u001b[0m\n\u001b[0m\u001b[1;32m   1111\u001b[0m         \u001b[0;31m# Do not call functions when jit is used\u001b[0m\u001b[0;34m\u001b[0m\u001b[0;34m\u001b[0m\u001b[0;34m\u001b[0m\u001b[0m\n\u001b[1;32m   1112\u001b[0m         \u001b[0mfull_backward_hooks\u001b[0m\u001b[0;34m,\u001b[0m \u001b[0mnon_full_backward_hooks\u001b[0m \u001b[0;34m=\u001b[0m \u001b[0;34m[\u001b[0m\u001b[0;34m]\u001b[0m\u001b[0;34m,\u001b[0m \u001b[0;34m[\u001b[0m\u001b[0;34m]\u001b[0m\u001b[0;34m\u001b[0m\u001b[0;34m\u001b[0m\u001b[0m\n",
      "\u001b[0;32m~/Masters/POR-DD/EquiBind/models/equibind.py\u001b[0m in \u001b[0;36mforward\u001b[0;34m(self, lig_graph, rec_graph, geometry_graph, complex_names, epoch)\u001b[0m\n\u001b[1;32m    948\u001b[0m             \u001b[0;32mif\u001b[0m \u001b[0mtorch\u001b[0m\u001b[0;34m.\u001b[0m\u001b[0misnan\u001b[0m\u001b[0;34m(\u001b[0m\u001b[0mlig_keypts\u001b[0m\u001b[0;34m)\u001b[0m\u001b[0;34m.\u001b[0m\u001b[0many\u001b[0m\u001b[0;34m(\u001b[0m\u001b[0;34m)\u001b[0m\u001b[0;34m:\u001b[0m\u001b[0;34m\u001b[0m\u001b[0;34m\u001b[0m\u001b[0m\n\u001b[1;32m    949\u001b[0m                 \u001b[0mlog\u001b[0m\u001b[0;34m(\u001b[0m\u001b[0mcomplex_names\u001b[0m\u001b[0;34m,\u001b[0m \u001b[0;34m'complex_names where Nan encountered'\u001b[0m\u001b[0;34m)\u001b[0m\u001b[0;34m\u001b[0m\u001b[0;34m\u001b[0m\u001b[0m\n\u001b[0;32m--> 950\u001b[0;31m             \u001b[0;32massert\u001b[0m \u001b[0;32mnot\u001b[0m \u001b[0mtorch\u001b[0m\u001b[0;34m.\u001b[0m\u001b[0misnan\u001b[0m\u001b[0;34m(\u001b[0m\u001b[0mlig_keypts\u001b[0m\u001b[0;34m)\u001b[0m\u001b[0;34m.\u001b[0m\u001b[0many\u001b[0m\u001b[0;34m(\u001b[0m\u001b[0;34m)\u001b[0m\u001b[0;34m\u001b[0m\u001b[0;34m\u001b[0m\u001b[0m\n\u001b[0m\u001b[1;32m    951\u001b[0m             \u001b[0;32mif\u001b[0m \u001b[0mtorch\u001b[0m\u001b[0;34m.\u001b[0m\u001b[0misinf\u001b[0m\u001b[0;34m(\u001b[0m\u001b[0mlig_keypts\u001b[0m\u001b[0;34m)\u001b[0m\u001b[0;34m.\u001b[0m\u001b[0many\u001b[0m\u001b[0;34m(\u001b[0m\u001b[0;34m)\u001b[0m\u001b[0;34m:\u001b[0m\u001b[0;34m\u001b[0m\u001b[0;34m\u001b[0m\u001b[0m\n\u001b[1;32m    952\u001b[0m                 \u001b[0mlog\u001b[0m\u001b[0;34m(\u001b[0m\u001b[0mcomplex_names\u001b[0m\u001b[0;34m,\u001b[0m \u001b[0;34m'complex_names where inf encountered'\u001b[0m\u001b[0;34m)\u001b[0m\u001b[0;34m\u001b[0m\u001b[0;34m\u001b[0m\u001b[0m\n",
      "\u001b[0;31mAssertionError\u001b[0m: "
     ]
    }
   ],
   "source": [
    "torch.cuda.empty_cache()\n",
    "for i, sample_batched in enumerate(lig_loader):\n",
    "    with torch.no_grad():\n",
    "        batched_res = model(*sample_batched[2:], complex_names = [mol.GetProp('_Name') for mol in sample_batched[0]])[0]\n",
    "    "
   ]
  },
  {
   "cell_type": "code",
   "execution_count": 9,
   "metadata": {},
   "outputs": [
    {
     "name": "stdout",
     "output_type": "stream",
     "text": [
      "invoked. shape = torch.Size([165, 17])\n",
      "invoked. shape = torch.Size([6212, 3])\n",
      "[2022-05-22 18:22:20.813819] ['Thonzylamine', 'Cyclomethicone 5', 'Hexylresorcinol', 'Chromium picolinate'] complex_names where Nan encountered\n"
     ]
    },
    {
     "ename": "AssertionError",
     "evalue": "",
     "output_type": "error",
     "traceback": [
      "\u001b[0;31m---------------------------------------------------------------------------\u001b[0m",
      "\u001b[0;31mAssertionError\u001b[0m                            Traceback (most recent call last)",
      "\u001b[0;32m/tmp/ipykernel_15357/3540687036.py\u001b[0m in \u001b[0;36m<module>\u001b[0;34m\u001b[0m\n\u001b[1;32m      1\u001b[0m \u001b[0;32mwith\u001b[0m \u001b[0mtorch\u001b[0m\u001b[0;34m.\u001b[0m\u001b[0mno_grad\u001b[0m\u001b[0;34m(\u001b[0m\u001b[0;34m)\u001b[0m\u001b[0;34m:\u001b[0m\u001b[0;34m\u001b[0m\u001b[0;34m\u001b[0m\u001b[0m\n\u001b[0;32m----> 2\u001b[0;31m     \u001b[0m_\u001b[0m \u001b[0;34m=\u001b[0m \u001b[0mmodel\u001b[0m\u001b[0;34m(\u001b[0m\u001b[0;34m*\u001b[0m\u001b[0msample_batched\u001b[0m\u001b[0;34m[\u001b[0m\u001b[0;36m2\u001b[0m\u001b[0;34m:\u001b[0m\u001b[0;34m]\u001b[0m\u001b[0;34m,\u001b[0m \u001b[0mcomplex_names\u001b[0m \u001b[0;34m=\u001b[0m \u001b[0;34m[\u001b[0m\u001b[0mmol\u001b[0m\u001b[0;34m.\u001b[0m\u001b[0mGetProp\u001b[0m\u001b[0;34m(\u001b[0m\u001b[0;34m'_Name'\u001b[0m\u001b[0;34m)\u001b[0m \u001b[0;32mfor\u001b[0m \u001b[0mmol\u001b[0m \u001b[0;32min\u001b[0m \u001b[0msample_batched\u001b[0m\u001b[0;34m[\u001b[0m\u001b[0;36m0\u001b[0m\u001b[0;34m]\u001b[0m\u001b[0;34m]\u001b[0m\u001b[0;34m)\u001b[0m\u001b[0;34m[\u001b[0m\u001b[0;36m0\u001b[0m\u001b[0;34m]\u001b[0m\u001b[0;34m\u001b[0m\u001b[0;34m\u001b[0m\u001b[0m\n\u001b[0m",
      "\u001b[0;32m~/anaconda3/envs/equibind/lib/python3.7/site-packages/torch/nn/modules/module.py\u001b[0m in \u001b[0;36m_call_impl\u001b[0;34m(self, *input, **kwargs)\u001b[0m\n\u001b[1;32m   1108\u001b[0m         if not (self._backward_hooks or self._forward_hooks or self._forward_pre_hooks or _global_backward_hooks\n\u001b[1;32m   1109\u001b[0m                 or _global_forward_hooks or _global_forward_pre_hooks):\n\u001b[0;32m-> 1110\u001b[0;31m             \u001b[0;32mreturn\u001b[0m \u001b[0mforward_call\u001b[0m\u001b[0;34m(\u001b[0m\u001b[0;34m*\u001b[0m\u001b[0minput\u001b[0m\u001b[0;34m,\u001b[0m \u001b[0;34m**\u001b[0m\u001b[0mkwargs\u001b[0m\u001b[0;34m)\u001b[0m\u001b[0;34m\u001b[0m\u001b[0;34m\u001b[0m\u001b[0m\n\u001b[0m\u001b[1;32m   1111\u001b[0m         \u001b[0;31m# Do not call functions when jit is used\u001b[0m\u001b[0;34m\u001b[0m\u001b[0;34m\u001b[0m\u001b[0;34m\u001b[0m\u001b[0m\n\u001b[1;32m   1112\u001b[0m         \u001b[0mfull_backward_hooks\u001b[0m\u001b[0;34m,\u001b[0m \u001b[0mnon_full_backward_hooks\u001b[0m \u001b[0;34m=\u001b[0m \u001b[0;34m[\u001b[0m\u001b[0;34m]\u001b[0m\u001b[0;34m,\u001b[0m \u001b[0;34m[\u001b[0m\u001b[0;34m]\u001b[0m\u001b[0;34m\u001b[0m\u001b[0;34m\u001b[0m\u001b[0m\n",
      "\u001b[0;32m~/Masters/POR-DD/EquiBind/models/equibind.py\u001b[0m in \u001b[0;36mforward\u001b[0;34m(self, lig_graph, rec_graph, geometry_graph, complex_names, epoch)\u001b[0m\n\u001b[1;32m   1026\u001b[0m             \u001b[0moutputs\u001b[0m \u001b[0;34m=\u001b[0m \u001b[0mself\u001b[0m\u001b[0;34m.\u001b[0m\u001b[0miegmn\u001b[0m\u001b[0;34m(\u001b[0m\u001b[0mlig_graph\u001b[0m\u001b[0;34m,\u001b[0m \u001b[0mrec_graph\u001b[0m\u001b[0;34m,\u001b[0m \u001b[0mgeometry_graph\u001b[0m\u001b[0;34m,\u001b[0m \u001b[0mcomplex_names\u001b[0m\u001b[0;34m,\u001b[0m \u001b[0mepoch\u001b[0m\u001b[0;34m)\u001b[0m\u001b[0;34m\u001b[0m\u001b[0;34m\u001b[0m\u001b[0m\n\u001b[1;32m   1027\u001b[0m         \u001b[0;32mexcept\u001b[0m \u001b[0mAssertionError\u001b[0m \u001b[0;32mas\u001b[0m \u001b[0me\u001b[0m\u001b[0;34m:\u001b[0m\u001b[0;34m\u001b[0m\u001b[0;34m\u001b[0m\u001b[0m\n\u001b[0;32m-> 1028\u001b[0;31m             \u001b[0;32mraise\u001b[0m \u001b[0me\u001b[0m\u001b[0;34m\u001b[0m\u001b[0;34m\u001b[0m\u001b[0m\n\u001b[0m\u001b[1;32m   1029\u001b[0m         \u001b[0;32mfinally\u001b[0m\u001b[0;34m:\u001b[0m\u001b[0;34m\u001b[0m\u001b[0;34m\u001b[0m\u001b[0m\n\u001b[1;32m   1030\u001b[0m             \u001b[0mlig_graph\u001b[0m\u001b[0;34m.\u001b[0m\u001b[0mndata\u001b[0m\u001b[0;34m[\u001b[0m\u001b[0;34m'feat'\u001b[0m\u001b[0;34m]\u001b[0m \u001b[0;34m=\u001b[0m \u001b[0mfailsafe\u001b[0m\u001b[0;34m\u001b[0m\u001b[0;34m\u001b[0m\u001b[0m\n",
      "\u001b[0;32m~/Masters/POR-DD/EquiBind/models/equibind.py\u001b[0m in \u001b[0;36mforward\u001b[0;34m(self, lig_graph, rec_graph, geometry_graph, complex_names, epoch)\u001b[0m\n\u001b[1;32m   1024\u001b[0m         \u001b[0mfailsafe\u001b[0m \u001b[0;34m=\u001b[0m \u001b[0mlig_graph\u001b[0m\u001b[0;34m.\u001b[0m\u001b[0mndata\u001b[0m\u001b[0;34m[\u001b[0m\u001b[0;34m'feat'\u001b[0m\u001b[0;34m]\u001b[0m\u001b[0;34m\u001b[0m\u001b[0;34m\u001b[0m\u001b[0m\n\u001b[1;32m   1025\u001b[0m         \u001b[0;32mtry\u001b[0m\u001b[0;34m:\u001b[0m\u001b[0;34m\u001b[0m\u001b[0;34m\u001b[0m\u001b[0m\n\u001b[0;32m-> 1026\u001b[0;31m             \u001b[0moutputs\u001b[0m \u001b[0;34m=\u001b[0m \u001b[0mself\u001b[0m\u001b[0;34m.\u001b[0m\u001b[0miegmn\u001b[0m\u001b[0;34m(\u001b[0m\u001b[0mlig_graph\u001b[0m\u001b[0;34m,\u001b[0m \u001b[0mrec_graph\u001b[0m\u001b[0;34m,\u001b[0m \u001b[0mgeometry_graph\u001b[0m\u001b[0;34m,\u001b[0m \u001b[0mcomplex_names\u001b[0m\u001b[0;34m,\u001b[0m \u001b[0mepoch\u001b[0m\u001b[0;34m)\u001b[0m\u001b[0;34m\u001b[0m\u001b[0;34m\u001b[0m\u001b[0m\n\u001b[0m\u001b[1;32m   1027\u001b[0m         \u001b[0;32mexcept\u001b[0m \u001b[0mAssertionError\u001b[0m \u001b[0;32mas\u001b[0m \u001b[0me\u001b[0m\u001b[0;34m:\u001b[0m\u001b[0;34m\u001b[0m\u001b[0;34m\u001b[0m\u001b[0m\n\u001b[1;32m   1028\u001b[0m             \u001b[0;32mraise\u001b[0m \u001b[0me\u001b[0m\u001b[0;34m\u001b[0m\u001b[0;34m\u001b[0m\u001b[0m\n",
      "\u001b[0;32m~/anaconda3/envs/equibind/lib/python3.7/site-packages/torch/nn/modules/module.py\u001b[0m in \u001b[0;36m_call_impl\u001b[0;34m(self, *input, **kwargs)\u001b[0m\n\u001b[1;32m   1108\u001b[0m         if not (self._backward_hooks or self._forward_hooks or self._forward_pre_hooks or _global_backward_hooks\n\u001b[1;32m   1109\u001b[0m                 or _global_forward_hooks or _global_forward_pre_hooks):\n\u001b[0;32m-> 1110\u001b[0;31m             \u001b[0;32mreturn\u001b[0m \u001b[0mforward_call\u001b[0m\u001b[0;34m(\u001b[0m\u001b[0;34m*\u001b[0m\u001b[0minput\u001b[0m\u001b[0;34m,\u001b[0m \u001b[0;34m**\u001b[0m\u001b[0mkwargs\u001b[0m\u001b[0;34m)\u001b[0m\u001b[0;34m\u001b[0m\u001b[0;34m\u001b[0m\u001b[0m\n\u001b[0m\u001b[1;32m   1111\u001b[0m         \u001b[0;31m# Do not call functions when jit is used\u001b[0m\u001b[0;34m\u001b[0m\u001b[0;34m\u001b[0m\u001b[0;34m\u001b[0m\u001b[0m\n\u001b[1;32m   1112\u001b[0m         \u001b[0mfull_backward_hooks\u001b[0m\u001b[0;34m,\u001b[0m \u001b[0mnon_full_backward_hooks\u001b[0m \u001b[0;34m=\u001b[0m \u001b[0;34m[\u001b[0m\u001b[0;34m]\u001b[0m\u001b[0;34m,\u001b[0m \u001b[0;34m[\u001b[0m\u001b[0;34m]\u001b[0m\u001b[0;34m\u001b[0m\u001b[0;34m\u001b[0m\u001b[0m\n",
      "\u001b[0;32m~/Masters/POR-DD/EquiBind/models/equibind.py\u001b[0m in \u001b[0;36mforward\u001b[0;34m(self, lig_graph, rec_graph, geometry_graph, complex_names, epoch)\u001b[0m\n\u001b[1;32m    948\u001b[0m             \u001b[0;32mif\u001b[0m \u001b[0mtorch\u001b[0m\u001b[0;34m.\u001b[0m\u001b[0misnan\u001b[0m\u001b[0;34m(\u001b[0m\u001b[0mlig_keypts\u001b[0m\u001b[0;34m)\u001b[0m\u001b[0;34m.\u001b[0m\u001b[0many\u001b[0m\u001b[0;34m(\u001b[0m\u001b[0;34m)\u001b[0m\u001b[0;34m:\u001b[0m\u001b[0;34m\u001b[0m\u001b[0;34m\u001b[0m\u001b[0m\n\u001b[1;32m    949\u001b[0m                 \u001b[0mlog\u001b[0m\u001b[0;34m(\u001b[0m\u001b[0mcomplex_names\u001b[0m\u001b[0;34m,\u001b[0m \u001b[0;34m'complex_names where Nan encountered'\u001b[0m\u001b[0;34m)\u001b[0m\u001b[0;34m\u001b[0m\u001b[0;34m\u001b[0m\u001b[0m\n\u001b[0;32m--> 950\u001b[0;31m             \u001b[0;32massert\u001b[0m \u001b[0;32mnot\u001b[0m \u001b[0mtorch\u001b[0m\u001b[0;34m.\u001b[0m\u001b[0misnan\u001b[0m\u001b[0;34m(\u001b[0m\u001b[0mlig_keypts\u001b[0m\u001b[0;34m)\u001b[0m\u001b[0;34m.\u001b[0m\u001b[0many\u001b[0m\u001b[0;34m(\u001b[0m\u001b[0;34m)\u001b[0m\u001b[0;34m\u001b[0m\u001b[0;34m\u001b[0m\u001b[0m\n\u001b[0m\u001b[1;32m    951\u001b[0m             \u001b[0;32mif\u001b[0m \u001b[0mtorch\u001b[0m\u001b[0;34m.\u001b[0m\u001b[0misinf\u001b[0m\u001b[0;34m(\u001b[0m\u001b[0mlig_keypts\u001b[0m\u001b[0;34m)\u001b[0m\u001b[0;34m.\u001b[0m\u001b[0many\u001b[0m\u001b[0;34m(\u001b[0m\u001b[0;34m)\u001b[0m\u001b[0;34m:\u001b[0m\u001b[0;34m\u001b[0m\u001b[0;34m\u001b[0m\u001b[0m\n\u001b[1;32m    952\u001b[0m                 \u001b[0mlog\u001b[0m\u001b[0;34m(\u001b[0m\u001b[0mcomplex_names\u001b[0m\u001b[0;34m,\u001b[0m \u001b[0;34m'complex_names where inf encountered'\u001b[0m\u001b[0;34m)\u001b[0m\u001b[0;34m\u001b[0m\u001b[0;34m\u001b[0m\u001b[0m\n",
      "\u001b[0;31mAssertionError\u001b[0m: "
     ]
    }
   ],
   "source": [
    "with torch.no_grad():\n",
    "    _ = model(*sample_batched[2:], complex_names = [mol.GetProp('_Name') for mol in sample_batched[0]])[0]"
   ]
  },
  {
   "cell_type": "code",
   "execution_count": 13,
   "metadata": {},
   "outputs": [],
   "source": [
    "with torch.no_grad(), open(\"test\", \"w+\") as file:\n",
    "    pass"
   ]
  },
  {
   "cell_type": "code",
   "execution_count": 10,
   "metadata": {},
   "outputs": [
    {
     "data": {
      "text/plain": [
       "torch.Size([165, 17])"
      ]
     },
     "execution_count": 10,
     "metadata": {},
     "output_type": "execute_result"
    }
   ],
   "source": [
    "sample_batched[2].ndata['feat'].shape"
   ]
  },
  {
   "cell_type": "code",
   "execution_count": 11,
   "metadata": {},
   "outputs": [
    {
     "data": {
      "text/plain": [
       "torch.Size([6212, 3])"
      ]
     },
     "execution_count": 11,
     "metadata": {},
     "output_type": "execute_result"
    }
   ],
   "source": [
    "sample_batched[3].ndata['feat'].shape"
   ]
  },
  {
   "cell_type": "code",
   "execution_count": 20,
   "metadata": {},
   "outputs": [
    {
     "name": "stdout",
     "output_type": "stream",
     "text": [
      "tensor([3, 1, 1])\n",
      "tensor([0, 0, 0])\n"
     ]
    }
   ],
   "source": [
    "with test.local_scope():\n",
    "    x = torch.tensor([1]*3)\n",
    "    test.ndata['feat'] = x\n",
    "    x[0] = 3\n",
    "    print(test.ndata['feat'])\n",
    "print(test.ndata['feat'])"
   ]
  },
  {
   "cell_type": "code",
   "execution_count": 50,
   "metadata": {},
   "outputs": [
    {
     "data": {
      "text/plain": [
       "Graph(num_nodes=26, num_edges=412,\n",
       "      ndata_schemes={'feat': Scheme(shape=(17,), dtype=torch.float32), 'x': Scheme(shape=(3,), dtype=torch.float32), 'mu_r_norm': Scheme(shape=(5,), dtype=torch.float32), 'new_x': Scheme(shape=(3,), dtype=torch.float32)}\n",
       "      edata_schemes={'feat': Scheme(shape=(15,), dtype=torch.float32)})"
      ]
     },
     "execution_count": 50,
     "metadata": {},
     "output_type": "execute_result"
    }
   ],
   "source": [
    "AtomEncoder(lig_data[0][2])"
   ]
  },
  {
   "cell_type": "code",
   "execution_count": 48,
   "metadata": {},
   "outputs": [
    {
     "data": {
      "text/plain": [
       "torch.Size([26, 64])"
      ]
     },
     "execution_count": 48,
     "metadata": {},
     "output_type": "execute_result"
    }
   ],
   "source": [
    "sample_batched[2].ndata['feat'].shape"
   ]
  },
  {
   "cell_type": "code",
   "execution_count": 46,
   "metadata": {},
   "outputs": [
    {
     "data": {
      "text/plain": [
       "tensor([[True, True, True],\n",
       "        [True, True, True],\n",
       "        [True, True, True],\n",
       "        [True, True, True],\n",
       "        [True, True, True],\n",
       "        [True, True, True],\n",
       "        [True, True, True],\n",
       "        [True, True, True],\n",
       "        [True, True, True],\n",
       "        [True, True, True],\n",
       "        [True, True, True],\n",
       "        [True, True, True],\n",
       "        [True, True, True],\n",
       "        [True, True, True],\n",
       "        [True, True, True],\n",
       "        [True, True, True],\n",
       "        [True, True, True],\n",
       "        [True, True, True],\n",
       "        [True, True, True],\n",
       "        [True, True, True],\n",
       "        [True, True, True],\n",
       "        [True, True, True],\n",
       "        [True, True, True],\n",
       "        [True, True, True],\n",
       "        [True, True, True],\n",
       "        [True, True, True]], device='cuda:0')"
      ]
     },
     "execution_count": 46,
     "metadata": {},
     "output_type": "execute_result"
    }
   ],
   "source": [
    "lig_data[0][2].ndata['new_x'] == sample_batched[2].ndata['new_x']"
   ]
  },
  {
   "cell_type": "code",
   "execution_count": 12,
   "metadata": {},
   "outputs": [
    {
     "data": {
      "text/plain": [
       "True"
      ]
     },
     "execution_count": 12,
     "metadata": {},
     "output_type": "execute_result"
    }
   ],
   "source": [
    "test is sample_batched[2].ndata['feat']"
   ]
  },
  {
   "cell_type": "code",
   "execution_count": 22,
   "metadata": {},
   "outputs": [],
   "source": [
    "sample_batched[2].ndata['feat'] = torch.tensor([1]*26).to(args.device)"
   ]
  },
  {
   "cell_type": "code",
   "execution_count": 24,
   "metadata": {},
   "outputs": [
    {
     "data": {
      "text/plain": [
       "tensor([1, 1, 1, 1, 1, 1, 1, 1, 1, 1, 1, 1, 1, 1, 1, 1, 1, 1, 1, 1, 1, 1, 1, 1,\n",
       "        1, 1], device='cuda:0')"
      ]
     },
     "execution_count": 24,
     "metadata": {},
     "output_type": "execute_result"
    }
   ],
   "source": [
    "sample_batched[2].ndata['feat']"
   ]
  },
  {
   "cell_type": "code",
   "execution_count": 23,
   "metadata": {},
   "outputs": [
    {
     "data": {
      "text/plain": [
       "tensor([[-1.0000, -1.0000, -1.0000,  ..., -1.0000, -1.0000, -1.0000],\n",
       "        [-0.0213, -0.7755,  0.2933,  ..., -0.1179, -0.6421, -0.5562],\n",
       "        [-0.5568, -0.4912, -0.0321,  ...,  0.3873, -0.2955, -0.1874],\n",
       "        ...,\n",
       "        [-0.2246, -0.1478, -0.2877,  ...,  0.4583, -0.5429, -0.2579],\n",
       "        [-0.3535, -0.0949, -0.3343,  ...,  0.4454, -0.5163, -0.3957],\n",
       "        [ 0.3798, -0.2484,  0.2378,  ..., -0.5562, -0.3614, -0.4164]],\n",
       "       device='cuda:0')"
      ]
     },
     "execution_count": 23,
     "metadata": {},
     "output_type": "execute_result"
    }
   ],
   "source": [
    "test"
   ]
  },
  {
   "cell_type": "code",
   "execution_count": null,
   "metadata": {},
   "outputs": [],
   "source": []
  },
  {
   "cell_type": "code",
   "execution_count": 15,
   "metadata": {},
   "outputs": [
    {
     "name": "stdout",
     "output_type": "stream",
     "text": [
      "invoked. shape = torch.Size([314, 17])\n",
      "invoked. shape = torch.Size([12424, 64])\n"
     ]
    },
    {
     "ename": "AssertionError",
     "evalue": "x.shape[1] = 64, self.num_categorical_features =  1, self.num_scalar_features = 2",
     "output_type": "error",
     "traceback": [
      "\u001b[0;31m---------------------------------------------------------------------------\u001b[0m",
      "\u001b[0;31mAssertionError\u001b[0m                            Traceback (most recent call last)",
      "\u001b[0;32m/tmp/ipykernel_15296/1478531042.py\u001b[0m in \u001b[0;36m<module>\u001b[0;34m\u001b[0m\n\u001b[1;32m      1\u001b[0m \u001b[0;32mwith\u001b[0m \u001b[0mtorch\u001b[0m\u001b[0;34m.\u001b[0m\u001b[0mno_grad\u001b[0m\u001b[0;34m(\u001b[0m\u001b[0;34m)\u001b[0m\u001b[0;34m:\u001b[0m\u001b[0;34m\u001b[0m\u001b[0;34m\u001b[0m\u001b[0m\n\u001b[0;32m----> 2\u001b[0;31m     \u001b[0mmodel\u001b[0m\u001b[0;34m(\u001b[0m\u001b[0;34m*\u001b[0m\u001b[0msample_batched\u001b[0m\u001b[0;34m[\u001b[0m\u001b[0;36m2\u001b[0m\u001b[0;34m:\u001b[0m\u001b[0;34m]\u001b[0m\u001b[0;34m,\u001b[0m \u001b[0mcomplex_names\u001b[0m \u001b[0;34m=\u001b[0m \u001b[0;34m[\u001b[0m\u001b[0mmol\u001b[0m\u001b[0;34m.\u001b[0m\u001b[0mGetProp\u001b[0m\u001b[0;34m(\u001b[0m\u001b[0;34m'_Name'\u001b[0m\u001b[0;34m)\u001b[0m \u001b[0;32mfor\u001b[0m \u001b[0mmol\u001b[0m \u001b[0;32min\u001b[0m \u001b[0msample_batched\u001b[0m\u001b[0;34m[\u001b[0m\u001b[0;36m0\u001b[0m\u001b[0;34m]\u001b[0m\u001b[0;34m]\u001b[0m\u001b[0;34m)\u001b[0m\u001b[0;34m[\u001b[0m\u001b[0;36m0\u001b[0m\u001b[0;34m]\u001b[0m\u001b[0;34m\u001b[0m\u001b[0;34m\u001b[0m\u001b[0m\n\u001b[0m",
      "\u001b[0;32m~/anaconda3/envs/equibind/lib/python3.7/site-packages/torch/nn/modules/module.py\u001b[0m in \u001b[0;36m_call_impl\u001b[0;34m(self, *input, **kwargs)\u001b[0m\n\u001b[1;32m   1108\u001b[0m         if not (self._backward_hooks or self._forward_hooks or self._forward_pre_hooks or _global_backward_hooks\n\u001b[1;32m   1109\u001b[0m                 or _global_forward_hooks or _global_forward_pre_hooks):\n\u001b[0;32m-> 1110\u001b[0;31m             \u001b[0;32mreturn\u001b[0m \u001b[0mforward_call\u001b[0m\u001b[0;34m(\u001b[0m\u001b[0;34m*\u001b[0m\u001b[0minput\u001b[0m\u001b[0;34m,\u001b[0m \u001b[0;34m**\u001b[0m\u001b[0mkwargs\u001b[0m\u001b[0;34m)\u001b[0m\u001b[0;34m\u001b[0m\u001b[0;34m\u001b[0m\u001b[0m\n\u001b[0m\u001b[1;32m   1111\u001b[0m         \u001b[0;31m# Do not call functions when jit is used\u001b[0m\u001b[0;34m\u001b[0m\u001b[0;34m\u001b[0m\u001b[0;34m\u001b[0m\u001b[0m\n\u001b[1;32m   1112\u001b[0m         \u001b[0mfull_backward_hooks\u001b[0m\u001b[0;34m,\u001b[0m \u001b[0mnon_full_backward_hooks\u001b[0m \u001b[0;34m=\u001b[0m \u001b[0;34m[\u001b[0m\u001b[0;34m]\u001b[0m\u001b[0;34m,\u001b[0m \u001b[0;34m[\u001b[0m\u001b[0;34m]\u001b[0m\u001b[0;34m\u001b[0m\u001b[0;34m\u001b[0m\u001b[0m\n",
      "\u001b[0;32m~/Masters/POR-DD/EquiBind/models/equibind.py\u001b[0m in \u001b[0;36mforward\u001b[0;34m(self, lig_graph, rec_graph, geometry_graph, complex_names, epoch)\u001b[0m\n\u001b[1;32m   1026\u001b[0m             \u001b[0moutputs\u001b[0m \u001b[0;34m=\u001b[0m \u001b[0mself\u001b[0m\u001b[0;34m.\u001b[0m\u001b[0miegmn\u001b[0m\u001b[0;34m(\u001b[0m\u001b[0mlig_graph\u001b[0m\u001b[0;34m,\u001b[0m \u001b[0mrec_graph\u001b[0m\u001b[0;34m,\u001b[0m \u001b[0mgeometry_graph\u001b[0m\u001b[0;34m,\u001b[0m \u001b[0mcomplex_names\u001b[0m\u001b[0;34m,\u001b[0m \u001b[0mepoch\u001b[0m\u001b[0;34m)\u001b[0m\u001b[0;34m\u001b[0m\u001b[0;34m\u001b[0m\u001b[0m\n\u001b[1;32m   1027\u001b[0m         \u001b[0;32mexcept\u001b[0m \u001b[0mAssertionError\u001b[0m \u001b[0;32mas\u001b[0m \u001b[0me\u001b[0m\u001b[0;34m:\u001b[0m\u001b[0;34m\u001b[0m\u001b[0;34m\u001b[0m\u001b[0m\n\u001b[0;32m-> 1028\u001b[0;31m             \u001b[0;32mraise\u001b[0m \u001b[0me\u001b[0m\u001b[0;34m\u001b[0m\u001b[0;34m\u001b[0m\u001b[0m\n\u001b[0m\u001b[1;32m   1029\u001b[0m         \u001b[0;32mfinally\u001b[0m\u001b[0;34m:\u001b[0m\u001b[0;34m\u001b[0m\u001b[0;34m\u001b[0m\u001b[0m\n\u001b[1;32m   1030\u001b[0m             \u001b[0mlig_graph\u001b[0m\u001b[0;34m.\u001b[0m\u001b[0mndata\u001b[0m\u001b[0;34m[\u001b[0m\u001b[0;34m'feat'\u001b[0m\u001b[0;34m]\u001b[0m \u001b[0;34m=\u001b[0m \u001b[0mfailsafe\u001b[0m\u001b[0;34m\u001b[0m\u001b[0;34m\u001b[0m\u001b[0m\n",
      "\u001b[0;32m~/Masters/POR-DD/EquiBind/models/equibind.py\u001b[0m in \u001b[0;36mforward\u001b[0;34m(self, lig_graph, rec_graph, geometry_graph, complex_names, epoch)\u001b[0m\n\u001b[1;32m   1024\u001b[0m         \u001b[0mfailsafe\u001b[0m \u001b[0;34m=\u001b[0m \u001b[0mlig_graph\u001b[0m\u001b[0;34m.\u001b[0m\u001b[0mndata\u001b[0m\u001b[0;34m[\u001b[0m\u001b[0;34m'feat'\u001b[0m\u001b[0;34m]\u001b[0m\u001b[0;34m\u001b[0m\u001b[0;34m\u001b[0m\u001b[0m\n\u001b[1;32m   1025\u001b[0m         \u001b[0;32mtry\u001b[0m\u001b[0;34m:\u001b[0m\u001b[0;34m\u001b[0m\u001b[0;34m\u001b[0m\u001b[0m\n\u001b[0;32m-> 1026\u001b[0;31m             \u001b[0moutputs\u001b[0m \u001b[0;34m=\u001b[0m \u001b[0mself\u001b[0m\u001b[0;34m.\u001b[0m\u001b[0miegmn\u001b[0m\u001b[0;34m(\u001b[0m\u001b[0mlig_graph\u001b[0m\u001b[0;34m,\u001b[0m \u001b[0mrec_graph\u001b[0m\u001b[0;34m,\u001b[0m \u001b[0mgeometry_graph\u001b[0m\u001b[0;34m,\u001b[0m \u001b[0mcomplex_names\u001b[0m\u001b[0;34m,\u001b[0m \u001b[0mepoch\u001b[0m\u001b[0;34m)\u001b[0m\u001b[0;34m\u001b[0m\u001b[0;34m\u001b[0m\u001b[0m\n\u001b[0m\u001b[1;32m   1027\u001b[0m         \u001b[0;32mexcept\u001b[0m \u001b[0mAssertionError\u001b[0m \u001b[0;32mas\u001b[0m \u001b[0me\u001b[0m\u001b[0;34m:\u001b[0m\u001b[0;34m\u001b[0m\u001b[0;34m\u001b[0m\u001b[0m\n\u001b[1;32m   1028\u001b[0m             \u001b[0;32mraise\u001b[0m \u001b[0me\u001b[0m\u001b[0;34m\u001b[0m\u001b[0;34m\u001b[0m\u001b[0m\n",
      "\u001b[0;32m~/anaconda3/envs/equibind/lib/python3.7/site-packages/torch/nn/modules/module.py\u001b[0m in \u001b[0;36m_call_impl\u001b[0;34m(self, *input, **kwargs)\u001b[0m\n\u001b[1;32m   1108\u001b[0m         if not (self._backward_hooks or self._forward_hooks or self._forward_pre_hooks or _global_backward_hooks\n\u001b[1;32m   1109\u001b[0m                 or _global_forward_hooks or _global_forward_pre_hooks):\n\u001b[0;32m-> 1110\u001b[0;31m             \u001b[0;32mreturn\u001b[0m \u001b[0mforward_call\u001b[0m\u001b[0;34m(\u001b[0m\u001b[0;34m*\u001b[0m\u001b[0minput\u001b[0m\u001b[0;34m,\u001b[0m \u001b[0;34m**\u001b[0m\u001b[0mkwargs\u001b[0m\u001b[0;34m)\u001b[0m\u001b[0;34m\u001b[0m\u001b[0;34m\u001b[0m\u001b[0m\n\u001b[0m\u001b[1;32m   1111\u001b[0m         \u001b[0;31m# Do not call functions when jit is used\u001b[0m\u001b[0;34m\u001b[0m\u001b[0;34m\u001b[0m\u001b[0;34m\u001b[0m\u001b[0m\n\u001b[1;32m   1112\u001b[0m         \u001b[0mfull_backward_hooks\u001b[0m\u001b[0;34m,\u001b[0m \u001b[0mnon_full_backward_hooks\u001b[0m \u001b[0;34m=\u001b[0m \u001b[0;34m[\u001b[0m\u001b[0;34m]\u001b[0m\u001b[0;34m,\u001b[0m \u001b[0;34m[\u001b[0m\u001b[0;34m]\u001b[0m\u001b[0;34m\u001b[0m\u001b[0;34m\u001b[0m\u001b[0m\n",
      "\u001b[0;32m~/Masters/POR-DD/EquiBind/models/equibind.py\u001b[0m in \u001b[0;36mforward\u001b[0;34m(self, lig_graph, rec_graph, geometry_graph, complex_names, epoch)\u001b[0m\n\u001b[1;32m    759\u001b[0m             \u001b[0mh_feats_rec\u001b[0m \u001b[0;34m=\u001b[0m \u001b[0mself\u001b[0m\u001b[0;34m.\u001b[0m\u001b[0mrec_embedder\u001b[0m\u001b[0;34m(\u001b[0m\u001b[0mrec_graph\u001b[0m\u001b[0;34m.\u001b[0m\u001b[0mndata\u001b[0m\u001b[0;34m[\u001b[0m\u001b[0;34m'feat'\u001b[0m\u001b[0;34m]\u001b[0m\u001b[0;34m)\u001b[0m\u001b[0;34m\u001b[0m\u001b[0;34m\u001b[0m\u001b[0m\n\u001b[1;32m    760\u001b[0m         \u001b[0;32melse\u001b[0m\u001b[0;34m:\u001b[0m\u001b[0;34m\u001b[0m\u001b[0;34m\u001b[0m\u001b[0m\n\u001b[0;32m--> 761\u001b[0;31m             \u001b[0mh_feats_rec\u001b[0m \u001b[0;34m=\u001b[0m \u001b[0mself\u001b[0m\u001b[0;34m.\u001b[0m\u001b[0mrec_embedder\u001b[0m\u001b[0;34m(\u001b[0m\u001b[0mrec_graph\u001b[0m\u001b[0;34m.\u001b[0m\u001b[0mndata\u001b[0m\u001b[0;34m[\u001b[0m\u001b[0;34m'feat'\u001b[0m\u001b[0;34m]\u001b[0m\u001b[0;34m)\u001b[0m  \u001b[0;31m# (N_res, emb_dim)\u001b[0m\u001b[0;34m\u001b[0m\u001b[0;34m\u001b[0m\u001b[0m\n\u001b[0m\u001b[1;32m    762\u001b[0m \u001b[0;34m\u001b[0m\u001b[0m\n\u001b[1;32m    763\u001b[0m         \u001b[0mrand_dist\u001b[0m \u001b[0;34m=\u001b[0m \u001b[0mtorch\u001b[0m\u001b[0;34m.\u001b[0m\u001b[0mdistributions\u001b[0m\u001b[0;34m.\u001b[0m\u001b[0mnormal\u001b[0m\u001b[0;34m.\u001b[0m\u001b[0mNormal\u001b[0m\u001b[0;34m(\u001b[0m\u001b[0mloc\u001b[0m\u001b[0;34m=\u001b[0m\u001b[0;36m0\u001b[0m\u001b[0;34m,\u001b[0m \u001b[0mscale\u001b[0m\u001b[0;34m=\u001b[0m\u001b[0mself\u001b[0m\u001b[0;34m.\u001b[0m\u001b[0mrandom_vec_std\u001b[0m\u001b[0;34m)\u001b[0m\u001b[0;34m\u001b[0m\u001b[0;34m\u001b[0m\u001b[0m\n",
      "\u001b[0;32m~/anaconda3/envs/equibind/lib/python3.7/site-packages/torch/nn/modules/module.py\u001b[0m in \u001b[0;36m_call_impl\u001b[0;34m(self, *input, **kwargs)\u001b[0m\n\u001b[1;32m   1108\u001b[0m         if not (self._backward_hooks or self._forward_hooks or self._forward_pre_hooks or _global_backward_hooks\n\u001b[1;32m   1109\u001b[0m                 or _global_forward_hooks or _global_forward_pre_hooks):\n\u001b[0;32m-> 1110\u001b[0;31m             \u001b[0;32mreturn\u001b[0m \u001b[0mforward_call\u001b[0m\u001b[0;34m(\u001b[0m\u001b[0;34m*\u001b[0m\u001b[0minput\u001b[0m\u001b[0;34m,\u001b[0m \u001b[0;34m**\u001b[0m\u001b[0mkwargs\u001b[0m\u001b[0;34m)\u001b[0m\u001b[0;34m\u001b[0m\u001b[0;34m\u001b[0m\u001b[0m\n\u001b[0m\u001b[1;32m   1111\u001b[0m         \u001b[0;31m# Do not call functions when jit is used\u001b[0m\u001b[0;34m\u001b[0m\u001b[0;34m\u001b[0m\u001b[0;34m\u001b[0m\u001b[0m\n\u001b[1;32m   1112\u001b[0m         \u001b[0mfull_backward_hooks\u001b[0m\u001b[0;34m,\u001b[0m \u001b[0mnon_full_backward_hooks\u001b[0m \u001b[0;34m=\u001b[0m \u001b[0;34m[\u001b[0m\u001b[0;34m]\u001b[0m\u001b[0;34m,\u001b[0m \u001b[0;34m[\u001b[0m\u001b[0;34m]\u001b[0m\u001b[0;34m\u001b[0m\u001b[0;34m\u001b[0m\u001b[0m\n",
      "\u001b[0;32m~/Masters/POR-DD/EquiBind/commons/process_mols.py\u001b[0m in \u001b[0;36mforward\u001b[0;34m(self, x)\u001b[0m\n\u001b[1;32m    237\u001b[0m         \u001b[0mx_embedding\u001b[0m \u001b[0;34m=\u001b[0m \u001b[0;36m0\u001b[0m\u001b[0;34m\u001b[0m\u001b[0;34m\u001b[0m\u001b[0m\n\u001b[1;32m    238\u001b[0m         \u001b[0mprint\u001b[0m\u001b[0;34m(\u001b[0m\u001b[0;34mf\"invoked. shape = {x.shape}\"\u001b[0m\u001b[0;34m)\u001b[0m\u001b[0;34m\u001b[0m\u001b[0;34m\u001b[0m\u001b[0m\n\u001b[0;32m--> 239\u001b[0;31m         \u001b[0;32massert\u001b[0m \u001b[0mx\u001b[0m\u001b[0;34m.\u001b[0m\u001b[0mshape\u001b[0m\u001b[0;34m[\u001b[0m\u001b[0;36m1\u001b[0m\u001b[0;34m]\u001b[0m \u001b[0;34m==\u001b[0m \u001b[0mself\u001b[0m\u001b[0;34m.\u001b[0m\u001b[0mnum_categorical_features\u001b[0m \u001b[0;34m+\u001b[0m \u001b[0mself\u001b[0m\u001b[0;34m.\u001b[0m\u001b[0mnum_scalar_features\u001b[0m\u001b[0;34m,\u001b[0m \u001b[0;34mf\"x.shape[1] = {x.shape[1]}, self.num_categorical_features =  {self.num_categorical_features}, self.num_scalar_features = {self.num_scalar_features}\"\u001b[0m\u001b[0;34m\u001b[0m\u001b[0;34m\u001b[0m\u001b[0m\n\u001b[0m\u001b[1;32m    240\u001b[0m         \u001b[0;32mfor\u001b[0m \u001b[0mi\u001b[0m \u001b[0;32min\u001b[0m \u001b[0mrange\u001b[0m\u001b[0;34m(\u001b[0m\u001b[0mself\u001b[0m\u001b[0;34m.\u001b[0m\u001b[0mnum_categorical_features\u001b[0m\u001b[0;34m)\u001b[0m\u001b[0;34m:\u001b[0m\u001b[0;34m\u001b[0m\u001b[0;34m\u001b[0m\u001b[0m\n\u001b[1;32m    241\u001b[0m             \u001b[0mx_embedding\u001b[0m \u001b[0;34m+=\u001b[0m \u001b[0mself\u001b[0m\u001b[0;34m.\u001b[0m\u001b[0matom_embedding_list\u001b[0m\u001b[0;34m[\u001b[0m\u001b[0mi\u001b[0m\u001b[0;34m]\u001b[0m\u001b[0;34m(\u001b[0m\u001b[0mx\u001b[0m\u001b[0;34m[\u001b[0m\u001b[0;34m:\u001b[0m\u001b[0;34m,\u001b[0m \u001b[0mi\u001b[0m\u001b[0;34m]\u001b[0m\u001b[0;34m.\u001b[0m\u001b[0mlong\u001b[0m\u001b[0;34m(\u001b[0m\u001b[0;34m)\u001b[0m\u001b[0;34m)\u001b[0m\u001b[0;34m\u001b[0m\u001b[0;34m\u001b[0m\u001b[0m\n",
      "\u001b[0;31mAssertionError\u001b[0m: x.shape[1] = 64, self.num_categorical_features =  1, self.num_scalar_features = 2"
     ]
    }
   ],
   "source": [
    "with torch.no_grad():\n",
    "    model(*sample_batched[2:], complex_names = [mol.GetProp('_Name') for mol in sample_batched[0]])[0]"
   ]
  },
  {
   "cell_type": "code",
   "execution_count": null,
   "metadata": {},
   "outputs": [],
   "source": []
  },
  {
   "cell_type": "code",
   "execution_count": 11,
   "metadata": {},
   "outputs": [],
   "source": [
    "ligs, lig_coords, lig_graphs, rec_graphs, geometry_graphs = sample_batched"
   ]
  },
  {
   "cell_type": "code",
   "execution_count": 15,
   "metadata": {},
   "outputs": [
    {
     "data": {
      "text/plain": [
       "16"
      ]
     },
     "execution_count": 15,
     "metadata": {},
     "output_type": "execute_result"
    }
   ],
   "source": [
    "len(list(map(dgl.unbatch, [lig_graphs, rec_graphs, geometry_graphs]))[0])"
   ]
  },
  {
   "cell_type": "code",
   "execution_count": 50,
   "metadata": {},
   "outputs": [
    {
     "data": {
      "text/plain": [
       "tensor([[ 5.0000,  0.0000,  4.0000,  ...,  0.0000,  0.0000, -0.0416],\n",
       "        [ 5.0000,  0.0000,  4.0000,  ...,  0.0000,  0.0000,  0.0437],\n",
       "        [ 7.0000,  0.0000,  2.0000,  ...,  0.0000,  0.0000, -0.3814],\n",
       "        ...,\n",
       "        [ 0.0000,  0.0000,  1.0000,  ...,  0.0000,  0.0000,  0.0254],\n",
       "        [ 0.0000,  0.0000,  1.0000,  ...,  0.0000,  0.0000,  0.0254],\n",
       "        [ 0.0000,  0.0000,  1.0000,  ...,  0.0000,  0.0000,  0.0254]],\n",
       "       device='cuda:0')"
      ]
     },
     "execution_count": 50,
     "metadata": {},
     "output_type": "execute_result"
    }
   ],
   "source": [
    "lig_data[0][2].ndata[\"feat\"]"
   ]
  },
  {
   "cell_type": "code",
   "execution_count": 42,
   "metadata": {},
   "outputs": [
    {
     "data": {
      "text/plain": [
       "tensor([[14,  0,  4,  5,  0,  0,  0,  2,  0,  0,  0,  0,  0,  0,  0,  0,  0],\n",
       "        [ 7,  0,  2,  5,  0,  0,  0,  2,  0,  0,  0,  0,  0,  0,  0,  0,  0],\n",
       "        [ 7,  0,  2,  5,  0,  0,  0,  1,  0,  0,  0,  0,  0,  0,  0,  0,  0],\n",
       "        [ 7,  0,  2,  5,  0,  0,  0,  2,  0,  0,  0,  0,  0,  0,  0,  0,  0],\n",
       "        [ 7,  0,  2,  5,  0,  0,  0,  2,  0,  0,  0,  0,  0,  0,  0,  0,  0],\n",
       "        [ 7,  0,  1,  5,  0,  0,  0,  1,  0,  0,  0,  0,  0,  0,  0,  0,  0],\n",
       "        [ 7,  0,  1,  5,  0,  0,  0,  1,  0,  0,  0,  0,  0,  0,  0,  0,  0],\n",
       "        [ 6,  0,  2,  5,  0,  0,  0,  1,  1,  1,  0,  0,  0,  1,  0,  0,  0],\n",
       "        [ 5,  0,  3,  5,  0,  0,  0,  1,  1,  1,  0,  0,  0,  1,  0,  0,  0],\n",
       "        [ 5,  0,  3,  5,  0,  0,  0,  1,  1,  1,  0,  0,  0,  1,  0,  0,  0],\n",
       "        [ 5,  0,  4,  5,  0,  0,  0,  2,  0,  0,  0,  0,  0,  0,  0,  0,  0],\n",
       "        [ 5,  0,  3,  5,  0,  0,  0,  1,  1,  1,  0,  0,  0,  1,  0,  0,  0],\n",
       "        [ 5,  0,  3,  5,  0,  0,  0,  1,  1,  1,  0,  0,  0,  1,  0,  0,  0],\n",
       "        [ 5,  0,  3,  5,  0,  0,  0,  1,  1,  1,  0,  0,  0,  1,  0,  0,  0],\n",
       "        [ 5,  0,  4,  5,  0,  0,  0,  2,  0,  0,  0,  0,  0,  0,  0,  0,  0],\n",
       "        [ 5,  0,  3,  5,  0,  0,  0,  1,  0,  0,  0,  0,  0,  0,  0,  0,  0],\n",
       "        [ 0,  0,  1,  5,  0,  0,  0,  5,  0,  0,  0,  0,  0,  0,  0,  0,  0],\n",
       "        [ 0,  0,  1,  5,  0,  0,  0,  5,  0,  0,  0,  0,  0,  0,  0,  0,  0],\n",
       "        [ 0,  0,  1,  5,  0,  0,  0,  5,  0,  0,  0,  0,  0,  0,  0,  0,  0],\n",
       "        [ 0,  0,  1,  5,  0,  0,  0,  5,  0,  0,  0,  0,  0,  0,  0,  0,  0],\n",
       "        [ 0,  0,  1,  5,  0,  0,  0,  5,  0,  0,  0,  0,  0,  0,  0,  0,  0],\n",
       "        [ 0,  0,  1,  5,  0,  0,  0,  5,  0,  0,  0,  0,  0,  0,  0,  0,  0],\n",
       "        [ 0,  0,  1,  5,  0,  0,  0,  5,  0,  0,  0,  0,  0,  0,  0,  0,  0],\n",
       "        [ 0,  0,  1,  5,  0,  0,  0,  5,  0,  0,  0,  0,  0,  0,  0,  0,  0],\n",
       "        [ 0,  0,  1,  5,  0,  0,  0,  5,  0,  0,  0,  0,  0,  0,  0,  0,  0],\n",
       "        [ 0,  0,  1,  5,  0,  0,  0,  5,  0,  0,  0,  0,  0,  0,  0,  0,  0]],\n",
       "       device='cuda:0')"
      ]
     },
     "execution_count": 42,
     "metadata": {},
     "output_type": "execute_result"
    }
   ],
   "source": [
    "lig_data[0][2].ndata[\"feat\"].long()"
   ]
  },
  {
   "cell_type": "code",
   "execution_count": 31,
   "metadata": {},
   "outputs": [
    {
     "ename": "AssertionError",
     "evalue": "x.shape[1] = 64, self.num_categorical_features =  16, self.num_scalar_features = 1",
     "output_type": "error",
     "traceback": [
      "\u001b[0;31m---------------------------------------------------------------------------\u001b[0m",
      "\u001b[0;31mAssertionError\u001b[0m                            Traceback (most recent call last)",
      "\u001b[0;32m/tmp/ipykernel_2348/621642397.py\u001b[0m in \u001b[0;36m<module>\u001b[0;34m\u001b[0m\n\u001b[0;32m----> 1\u001b[0;31m \u001b[0mmodel\u001b[0m\u001b[0;34m(\u001b[0m\u001b[0;34m*\u001b[0m\u001b[0msample_batched\u001b[0m\u001b[0;34m[\u001b[0m\u001b[0;36m2\u001b[0m\u001b[0;34m:\u001b[0m\u001b[0;34m]\u001b[0m\u001b[0;34m,\u001b[0m \u001b[0mcomplex_names\u001b[0m \u001b[0;34m=\u001b[0m \u001b[0;34m[\u001b[0m\u001b[0mmol\u001b[0m\u001b[0;34m.\u001b[0m\u001b[0mGetProp\u001b[0m\u001b[0;34m(\u001b[0m\u001b[0;34m'_Name'\u001b[0m\u001b[0;34m)\u001b[0m \u001b[0;32mfor\u001b[0m \u001b[0mmol\u001b[0m \u001b[0;32min\u001b[0m \u001b[0msample_batched\u001b[0m\u001b[0;34m[\u001b[0m\u001b[0;36m0\u001b[0m\u001b[0;34m]\u001b[0m\u001b[0;34m]\u001b[0m\u001b[0;34m)\u001b[0m\u001b[0;34m[\u001b[0m\u001b[0;36m0\u001b[0m\u001b[0;34m]\u001b[0m\u001b[0;34m\u001b[0m\u001b[0;34m\u001b[0m\u001b[0m\n\u001b[0m",
      "\u001b[0;32m~/anaconda3/envs/equibind/lib/python3.7/site-packages/torch/nn/modules/module.py\u001b[0m in \u001b[0;36m_call_impl\u001b[0;34m(self, *input, **kwargs)\u001b[0m\n\u001b[1;32m   1108\u001b[0m         if not (self._backward_hooks or self._forward_hooks or self._forward_pre_hooks or _global_backward_hooks\n\u001b[1;32m   1109\u001b[0m                 or _global_forward_hooks or _global_forward_pre_hooks):\n\u001b[0;32m-> 1110\u001b[0;31m             \u001b[0;32mreturn\u001b[0m \u001b[0mforward_call\u001b[0m\u001b[0;34m(\u001b[0m\u001b[0;34m*\u001b[0m\u001b[0minput\u001b[0m\u001b[0;34m,\u001b[0m \u001b[0;34m**\u001b[0m\u001b[0mkwargs\u001b[0m\u001b[0;34m)\u001b[0m\u001b[0;34m\u001b[0m\u001b[0;34m\u001b[0m\u001b[0m\n\u001b[0m\u001b[1;32m   1111\u001b[0m         \u001b[0;31m# Do not call functions when jit is used\u001b[0m\u001b[0;34m\u001b[0m\u001b[0;34m\u001b[0m\u001b[0;34m\u001b[0m\u001b[0m\n\u001b[1;32m   1112\u001b[0m         \u001b[0mfull_backward_hooks\u001b[0m\u001b[0;34m,\u001b[0m \u001b[0mnon_full_backward_hooks\u001b[0m \u001b[0;34m=\u001b[0m \u001b[0;34m[\u001b[0m\u001b[0;34m]\u001b[0m\u001b[0;34m,\u001b[0m \u001b[0;34m[\u001b[0m\u001b[0;34m]\u001b[0m\u001b[0;34m\u001b[0m\u001b[0;34m\u001b[0m\u001b[0m\n",
      "\u001b[0;32m~/Masters/POR-DD/EquiBind/models/equibind.py\u001b[0m in \u001b[0;36mforward\u001b[0;34m(self, lig_graph, rec_graph, geometry_graph, complex_names, epoch)\u001b[0m\n\u001b[1;32m   1027\u001b[0m         \u001b[0;32mif\u001b[0m \u001b[0mself\u001b[0m\u001b[0;34m.\u001b[0m\u001b[0mdebug\u001b[0m\u001b[0;34m:\u001b[0m \u001b[0mlog\u001b[0m\u001b[0;34m(\u001b[0m\u001b[0mcomplex_names\u001b[0m\u001b[0;34m)\u001b[0m\u001b[0;34m\u001b[0m\u001b[0;34m\u001b[0m\u001b[0m\n\u001b[1;32m   1028\u001b[0m         \u001b[0mpredicted_ligs_coords_list\u001b[0m \u001b[0;34m=\u001b[0m \u001b[0;34m[\u001b[0m\u001b[0;34m]\u001b[0m\u001b[0;34m\u001b[0m\u001b[0;34m\u001b[0m\u001b[0m\n\u001b[0;32m-> 1029\u001b[0;31m         \u001b[0moutputs\u001b[0m \u001b[0;34m=\u001b[0m \u001b[0mself\u001b[0m\u001b[0;34m.\u001b[0m\u001b[0miegmn\u001b[0m\u001b[0;34m(\u001b[0m\u001b[0mlig_graph\u001b[0m\u001b[0;34m,\u001b[0m \u001b[0mrec_graph\u001b[0m\u001b[0;34m,\u001b[0m \u001b[0mgeometry_graph\u001b[0m\u001b[0;34m,\u001b[0m \u001b[0mcomplex_names\u001b[0m\u001b[0;34m,\u001b[0m \u001b[0mepoch\u001b[0m\u001b[0;34m)\u001b[0m\u001b[0;34m\u001b[0m\u001b[0;34m\u001b[0m\u001b[0m\n\u001b[0m\u001b[1;32m   1030\u001b[0m         \u001b[0mevolved_ligs\u001b[0m \u001b[0;34m=\u001b[0m \u001b[0moutputs\u001b[0m\u001b[0;34m[\u001b[0m\u001b[0;36m4\u001b[0m\u001b[0;34m]\u001b[0m\u001b[0;34m\u001b[0m\u001b[0;34m\u001b[0m\u001b[0m\n\u001b[1;32m   1031\u001b[0m         \u001b[0;32mif\u001b[0m \u001b[0mself\u001b[0m\u001b[0;34m.\u001b[0m\u001b[0mevolve_only\u001b[0m\u001b[0;34m:\u001b[0m\u001b[0;34m\u001b[0m\u001b[0;34m\u001b[0m\u001b[0m\n",
      "\u001b[0;32m~/anaconda3/envs/equibind/lib/python3.7/site-packages/torch/nn/modules/module.py\u001b[0m in \u001b[0;36m_call_impl\u001b[0;34m(self, *input, **kwargs)\u001b[0m\n\u001b[1;32m   1108\u001b[0m         if not (self._backward_hooks or self._forward_hooks or self._forward_pre_hooks or _global_backward_hooks\n\u001b[1;32m   1109\u001b[0m                 or _global_forward_hooks or _global_forward_pre_hooks):\n\u001b[0;32m-> 1110\u001b[0;31m             \u001b[0;32mreturn\u001b[0m \u001b[0mforward_call\u001b[0m\u001b[0;34m(\u001b[0m\u001b[0;34m*\u001b[0m\u001b[0minput\u001b[0m\u001b[0;34m,\u001b[0m \u001b[0;34m**\u001b[0m\u001b[0mkwargs\u001b[0m\u001b[0;34m)\u001b[0m\u001b[0;34m\u001b[0m\u001b[0;34m\u001b[0m\u001b[0m\n\u001b[0m\u001b[1;32m   1111\u001b[0m         \u001b[0;31m# Do not call functions when jit is used\u001b[0m\u001b[0;34m\u001b[0m\u001b[0;34m\u001b[0m\u001b[0;34m\u001b[0m\u001b[0m\n\u001b[1;32m   1112\u001b[0m         \u001b[0mfull_backward_hooks\u001b[0m\u001b[0;34m,\u001b[0m \u001b[0mnon_full_backward_hooks\u001b[0m \u001b[0;34m=\u001b[0m \u001b[0;34m[\u001b[0m\u001b[0;34m]\u001b[0m\u001b[0;34m,\u001b[0m \u001b[0;34m[\u001b[0m\u001b[0;34m]\u001b[0m\u001b[0;34m\u001b[0m\u001b[0;34m\u001b[0m\u001b[0m\n",
      "\u001b[0;32m~/Masters/POR-DD/EquiBind/models/equibind.py\u001b[0m in \u001b[0;36mforward\u001b[0;34m(self, lig_graph, rec_graph, geometry_graph, complex_names, epoch)\u001b[0m\n\u001b[1;32m    754\u001b[0m         \u001b[0mcoords_rec\u001b[0m \u001b[0;34m=\u001b[0m \u001b[0mrec_graph\u001b[0m\u001b[0;34m.\u001b[0m\u001b[0mndata\u001b[0m\u001b[0;34m[\u001b[0m\u001b[0;34m'x'\u001b[0m\u001b[0;34m]\u001b[0m\u001b[0;34m\u001b[0m\u001b[0;34m\u001b[0m\u001b[0m\n\u001b[1;32m    755\u001b[0m \u001b[0;34m\u001b[0m\u001b[0m\n\u001b[0;32m--> 756\u001b[0;31m         \u001b[0mh_feats_lig\u001b[0m \u001b[0;34m=\u001b[0m \u001b[0mself\u001b[0m\u001b[0;34m.\u001b[0m\u001b[0mlig_atom_embedder\u001b[0m\u001b[0;34m(\u001b[0m\u001b[0mlig_graph\u001b[0m\u001b[0;34m.\u001b[0m\u001b[0mndata\u001b[0m\u001b[0;34m[\u001b[0m\u001b[0;34m'feat'\u001b[0m\u001b[0;34m]\u001b[0m\u001b[0;34m)\u001b[0m\u001b[0;34m\u001b[0m\u001b[0;34m\u001b[0m\u001b[0m\n\u001b[0m\u001b[1;32m    757\u001b[0m \u001b[0;34m\u001b[0m\u001b[0m\n\u001b[1;32m    758\u001b[0m         \u001b[0;32mif\u001b[0m \u001b[0mself\u001b[0m\u001b[0;34m.\u001b[0m\u001b[0muse_rec_atoms\u001b[0m\u001b[0;34m:\u001b[0m\u001b[0;34m\u001b[0m\u001b[0;34m\u001b[0m\u001b[0m\n",
      "\u001b[0;32m~/anaconda3/envs/equibind/lib/python3.7/site-packages/torch/nn/modules/module.py\u001b[0m in \u001b[0;36m_call_impl\u001b[0;34m(self, *input, **kwargs)\u001b[0m\n\u001b[1;32m   1108\u001b[0m         if not (self._backward_hooks or self._forward_hooks or self._forward_pre_hooks or _global_backward_hooks\n\u001b[1;32m   1109\u001b[0m                 or _global_forward_hooks or _global_forward_pre_hooks):\n\u001b[0;32m-> 1110\u001b[0;31m             \u001b[0;32mreturn\u001b[0m \u001b[0mforward_call\u001b[0m\u001b[0;34m(\u001b[0m\u001b[0;34m*\u001b[0m\u001b[0minput\u001b[0m\u001b[0;34m,\u001b[0m \u001b[0;34m**\u001b[0m\u001b[0mkwargs\u001b[0m\u001b[0;34m)\u001b[0m\u001b[0;34m\u001b[0m\u001b[0;34m\u001b[0m\u001b[0m\n\u001b[0m\u001b[1;32m   1111\u001b[0m         \u001b[0;31m# Do not call functions when jit is used\u001b[0m\u001b[0;34m\u001b[0m\u001b[0;34m\u001b[0m\u001b[0;34m\u001b[0m\u001b[0m\n\u001b[1;32m   1112\u001b[0m         \u001b[0mfull_backward_hooks\u001b[0m\u001b[0;34m,\u001b[0m \u001b[0mnon_full_backward_hooks\u001b[0m \u001b[0;34m=\u001b[0m \u001b[0;34m[\u001b[0m\u001b[0;34m]\u001b[0m\u001b[0;34m,\u001b[0m \u001b[0;34m[\u001b[0m\u001b[0;34m]\u001b[0m\u001b[0;34m\u001b[0m\u001b[0;34m\u001b[0m\u001b[0m\n",
      "\u001b[0;32m~/Masters/POR-DD/EquiBind/commons/process_mols.py\u001b[0m in \u001b[0;36mforward\u001b[0;34m(self, x)\u001b[0m\n\u001b[1;32m    237\u001b[0m         \u001b[0mx_embedding\u001b[0m \u001b[0;34m=\u001b[0m \u001b[0;36m0\u001b[0m\u001b[0;34m\u001b[0m\u001b[0;34m\u001b[0m\u001b[0m\n\u001b[1;32m    238\u001b[0m         \u001b[0;31m#print(f\"x.shape[1] = {x.shape[1]}, self.num_categorical_features =  {self.num_categorical_features}, self.num_scalar_features = {self.num_scalar_features}\")\u001b[0m\u001b[0;34m\u001b[0m\u001b[0;34m\u001b[0m\u001b[0;34m\u001b[0m\u001b[0m\n\u001b[0;32m--> 239\u001b[0;31m         \u001b[0;32massert\u001b[0m \u001b[0mx\u001b[0m\u001b[0;34m.\u001b[0m\u001b[0mshape\u001b[0m\u001b[0;34m[\u001b[0m\u001b[0;36m1\u001b[0m\u001b[0;34m]\u001b[0m \u001b[0;34m==\u001b[0m \u001b[0mself\u001b[0m\u001b[0;34m.\u001b[0m\u001b[0mnum_categorical_features\u001b[0m \u001b[0;34m+\u001b[0m \u001b[0mself\u001b[0m\u001b[0;34m.\u001b[0m\u001b[0mnum_scalar_features\u001b[0m\u001b[0;34m,\u001b[0m \u001b[0;34mf\"x.shape[1] = {x.shape[1]}, self.num_categorical_features =  {self.num_categorical_features}, self.num_scalar_features = {self.num_scalar_features}\"\u001b[0m\u001b[0;34m\u001b[0m\u001b[0;34m\u001b[0m\u001b[0m\n\u001b[0m\u001b[1;32m    240\u001b[0m         \u001b[0;32mfor\u001b[0m \u001b[0mi\u001b[0m \u001b[0;32min\u001b[0m \u001b[0mrange\u001b[0m\u001b[0;34m(\u001b[0m\u001b[0mself\u001b[0m\u001b[0;34m.\u001b[0m\u001b[0mnum_categorical_features\u001b[0m\u001b[0;34m)\u001b[0m\u001b[0;34m:\u001b[0m\u001b[0;34m\u001b[0m\u001b[0;34m\u001b[0m\u001b[0m\n\u001b[1;32m    241\u001b[0m             \u001b[0mx_embedding\u001b[0m \u001b[0;34m+=\u001b[0m \u001b[0mself\u001b[0m\u001b[0;34m.\u001b[0m\u001b[0matom_embedding_list\u001b[0m\u001b[0;34m[\u001b[0m\u001b[0mi\u001b[0m\u001b[0;34m]\u001b[0m\u001b[0;34m(\u001b[0m\u001b[0mx\u001b[0m\u001b[0;34m[\u001b[0m\u001b[0;34m:\u001b[0m\u001b[0;34m,\u001b[0m \u001b[0mi\u001b[0m\u001b[0;34m]\u001b[0m\u001b[0;34m.\u001b[0m\u001b[0mlong\u001b[0m\u001b[0;34m(\u001b[0m\u001b[0;34m)\u001b[0m\u001b[0;34m)\u001b[0m\u001b[0;34m\u001b[0m\u001b[0;34m\u001b[0m\u001b[0m\n",
      "\u001b[0;31mAssertionError\u001b[0m: x.shape[1] = 64, self.num_categorical_features =  16, self.num_scalar_features = 1"
     ]
    }
   ],
   "source": [
    "model(*sample_batched[2:], complex_names = [mol.GetProp('_Name') for mol in sample_batched[0]])[0]"
   ]
  },
  {
   "cell_type": "code",
   "execution_count": 10,
   "metadata": {},
   "outputs": [
    {
     "data": {
      "text/plain": [
       "60.75"
      ]
     },
     "execution_count": 10,
     "metadata": {},
     "output_type": "execute_result"
    }
   ],
   "source": [
    "1200/(10*16)*8.1"
   ]
  },
  {
   "cell_type": "code",
   "execution_count": 35,
   "metadata": {},
   "outputs": [
    {
     "data": {
      "text/plain": [
       "<torch.utils.data.dataloader._SingleProcessDataLoaderIter at 0x7fcb636b6c50>"
      ]
     },
     "execution_count": 35,
     "metadata": {},
     "output_type": "execute_result"
    }
   ],
   "source": [
    "it"
   ]
  },
  {
   "cell_type": "code",
   "execution_count": 198,
   "metadata": {},
   "outputs": [
    {
     "data": {
      "text/plain": [
       "8"
      ]
     },
     "execution_count": 198,
     "metadata": {},
     "output_type": "execute_result"
    }
   ],
   "source": [
    "len(sample_batched[1])"
   ]
  },
  {
   "cell_type": "code",
   "execution_count": 66,
   "metadata": {},
   "outputs": [
    {
     "data": {
      "text/plain": [
       "800"
      ]
     },
     "execution_count": 66,
     "metadata": {},
     "output_type": "execute_result"
    }
   ],
   "source": [
    "torch.cuda.memory_reserved()>>20"
   ]
  },
  {
   "cell_type": "code",
   "execution_count": 35,
   "metadata": {},
   "outputs": [],
   "source": [
    "torch.cuda.empty_cache()"
   ]
  },
  {
   "cell_type": "code",
   "execution_count": 70,
   "metadata": {},
   "outputs": [
    {
     "data": {
      "text/plain": [
       "800"
      ]
     },
     "execution_count": 70,
     "metadata": {},
     "output_type": "execute_result"
    }
   ],
   "source": [
    "torch.cuda.memory_reserved()//(1<<20)"
   ]
  },
  {
   "cell_type": "code",
   "execution_count": 65,
   "metadata": {},
   "outputs": [
    {
     "data": {
      "text/plain": [
       "1024"
      ]
     },
     "execution_count": 65,
     "metadata": {},
     "output_type": "execute_result"
    }
   ],
   "source": [
    "1<<10"
   ]
  },
  {
   "cell_type": "code",
   "execution_count": 180,
   "metadata": {},
   "outputs": [],
   "source": [
    "sample_batched = next(iter(batched_rec))\n",
    "sample_single = next(iter(single_rec))\n",
    "\n",
    "seed_all(1)\n",
    "with torch.no_grad():\n",
    "    single_res = model(*sample_single[1:])[:-1]\n",
    "\n",
    "seed_all(1)\n",
    "with torch.no_grad():\n",
    "    batched_res = model(*sample_batched[1:])[0]\n",
    "\n",
    "lig_graphs = [copy.deepcopy(graph) for graph in res[:bs][1]]\n",
    "geometry_graphs = [graph for graph in res[:bs][3]]\n",
    "seed_all(1)\n",
    "manual_res = None\n",
    "with torch.no_grad():\n",
    "    for lig_graph, geometry_graph in zip(lig_graphs, geometry_graphs):\n",
    "        if manual_res == None:\n",
    "            manual_res = model(lig_graph, rec_graph, geometry_graph)[:-1]\n",
    "        else:\n",
    "            new = model(lig_graph, rec_graph, geometry_graph)[:-1]\n",
    "            for ele, n in zip(manual_res, new):\n",
    "                ele += n\n"
   ]
  },
  {
   "cell_type": "code",
   "execution_count": 188,
   "metadata": {},
   "outputs": [
    {
     "data": {
      "text/plain": [
       "tensor([[ 2.9340e+00, -1.2581e+00, -2.1088e+00],\n",
       "        [ 2.0240e+00, -7.6276e-01, -7.5346e-01],\n",
       "        [-2.3342e+00,  8.3341e-01,  1.8964e+00],\n",
       "        [ 1.9232e+00, -1.9486e+00, -3.2786e+00],\n",
       "        [ 3.7085e+00,  9.1072e-02, -2.7734e+00],\n",
       "        [-8.3063e-01, -4.6569e-01, -1.5841e+00],\n",
       "        [ 3.9802e+00, -2.2665e+00, -1.6897e+00],\n",
       "        [ 3.2115e-02, -1.5851e+00,  3.2719e+00],\n",
       "        [ 4.7312e-01, -1.4434e+00,  9.1992e-01],\n",
       "        [-5.5711e-01, -4.7118e-01,  7.9440e-01],\n",
       "        [ 1.3309e+00, -1.8792e+00, -2.4594e-01],\n",
       "        [-1.2809e+00, -8.6633e-02,  1.9500e+00],\n",
       "        [-9.5441e-01, -6.5748e-01,  3.1903e+00],\n",
       "        [ 7.3798e-01, -1.9858e+00,  2.1870e+00],\n",
       "        [-1.6999e+00, -2.7394e-01,  4.4321e+00],\n",
       "        [-8.5791e-01,  1.7945e-01, -5.0359e-01],\n",
       "        [-2.6991e+00,  1.2206e+00,  1.0366e+00],\n",
       "        [ 1.2718e+00, -1.2365e+00, -3.5006e+00],\n",
       "        [ 2.9786e+00,  7.3487e-01, -2.9571e+00],\n",
       "        [ 6.7291e-01, -2.3418e+00, -1.0136e+00],\n",
       "        [ 2.0553e+00, -2.6587e+00,  8.3424e-02],\n",
       "        [ 1.5186e+00, -2.7237e+00,  2.3202e+00],\n",
       "        [-1.6243e+00,  8.2197e-01,  4.5945e+00],\n",
       "        [-2.7683e+00, -5.5854e-01,  4.3315e+00],\n",
       "        [-1.2763e+00, -7.9211e-01,  5.3187e+00],\n",
       "        [-1.1292e+00,  1.2255e+00, -5.3670e-01],\n",
       "        [ 1.6114e+00,  2.6403e+00,  2.5902e-01],\n",
       "        [ 2.5535e+00,  2.4038e+00, -1.8195e+00],\n",
       "        [ 2.0546e+00,  5.2547e+00, -2.0797e+00],\n",
       "        [-4.0761e-02,  3.9634e+00, -2.5612e+00],\n",
       "        [ 1.0858e+00,  4.2905e+00, -1.5511e+00],\n",
       "        [ 4.4177e-01,  3.3409e+00, -3.8506e+00],\n",
       "        [ 4.4746e-01,  1.9439e+00, -4.0065e+00],\n",
       "        [ 8.3781e-01,  4.1525e+00, -4.9279e+00],\n",
       "        [ 1.7906e+00,  3.0559e+00, -1.0568e+00],\n",
       "        [ 8.7217e-01,  1.3697e+00, -5.2086e+00],\n",
       "        [ 1.2615e+00,  3.5743e+00, -6.1284e+00],\n",
       "        [ 1.2812e+00,  2.1841e+00, -6.2678e+00],\n",
       "        [ 2.0807e+00,  1.8146e+00,  6.1158e-01],\n",
       "        [ 2.5601e+00,  4.8444e+00, -2.8976e+00],\n",
       "        [ 1.5417e+00,  6.1025e+00, -2.4146e+00],\n",
       "        [-7.7258e-01,  3.2837e+00, -2.0711e+00],\n",
       "        [-6.0364e-01,  4.8942e+00, -2.7924e+00],\n",
       "        [ 5.9409e-01,  4.7612e+00, -6.7095e-01],\n",
       "        [ 1.3047e-01,  1.3002e+00, -3.1952e+00],\n",
       "        [ 8.1969e-01,  5.2315e+00, -4.8372e+00],\n",
       "        [ 8.8215e-01,  2.9319e-01, -5.3196e+00],\n",
       "        [ 1.5717e+00,  4.2044e+00, -6.9520e+00],\n",
       "        [ 1.6088e+00,  1.7381e+00, -7.1980e+00],\n",
       "        [ 2.6102e+00,  9.1392e-01, -2.9218e+00],\n",
       "        [-1.0075e+00,  3.3839e+00,  6.6219e-01],\n",
       "        [-3.5267e+00,  1.4141e+00, -4.9355e+00],\n",
       "        [-2.9674e+00, -2.2240e-01, -6.4359e+00],\n",
       "        [-5.6098e-02,  3.4607e+00, -1.4868e+00],\n",
       "        [ 1.1808e+00,  2.5969e+00,  3.1312e-01],\n",
       "        [ 1.2345e+00,  3.0620e+00, -2.0433e+00],\n",
       "        [ 2.0695e+00,  2.5445e+00, -8.4262e-01],\n",
       "        [ 1.1230e+00,  1.9510e+00, -3.1104e+00],\n",
       "        [ 2.5355e+00,  1.1203e+00, -1.1227e+00],\n",
       "        [-1.6556e-01,  1.0949e+00, -2.9996e+00],\n",
       "        [-2.5635e-01, -6.8147e-02, -4.0090e+00],\n",
       "        [-3.8443e-02,  3.1625e+00, -1.0984e-01],\n",
       "        [-1.5209e-01,  3.4188e-01, -5.4921e+00],\n",
       "        [-1.2247e+00,  1.3437e+00, -5.9500e+00],\n",
       "        [-2.6148e+00,  7.9865e-01, -5.7885e+00],\n",
       "        [-3.2773e+00,  2.2379e+00, -4.4017e+00],\n",
       "        [-8.3724e-01,  3.9209e+00, -2.0053e+00],\n",
       "        [ 1.4281e+00,  2.3345e+00,  1.2932e+00],\n",
       "        [ 1.7344e+00,  3.9540e+00, -2.4824e+00],\n",
       "        [ 2.9449e+00,  3.2094e+00, -6.7121e-01],\n",
       "        [ 1.1498e+00,  2.4322e+00, -4.1105e+00],\n",
       "        [ 1.8223e+00,  3.7548e-01, -7.0839e-01],\n",
       "        [ 3.5373e+00,  9.4145e-01, -6.7858e-01],\n",
       "        [-2.3680e-01,  6.6668e-01, -1.9769e+00],\n",
       "        [-1.0564e+00,  1.7426e+00, -3.1329e+00],\n",
       "        [ 5.4163e-01, -8.0915e-01, -3.7906e+00],\n",
       "        [-1.2200e+00, -5.9748e-01, -3.8468e+00],\n",
       "        [ 8.5319e-01,  7.6771e-01, -5.6938e+00],\n",
       "        [-2.3057e-01, -5.7623e-01, -6.1146e+00],\n",
       "        [-1.1149e+00,  2.2997e+00, -5.3970e+00],\n",
       "        [-1.0615e+00,  1.5746e+00, -7.0245e+00],\n",
       "        [-2.2088e-01, -5.4526e-01,  1.5753e+00],\n",
       "        [ 1.7212e+00,  2.0621e+00, -2.2662e+00],\n",
       "        [-4.4361e-01,  2.6297e+00, -2.7335e+00],\n",
       "        [-1.0112e+00,  3.7846e+00, -3.5204e-01],\n",
       "        [ 4.1949e-01,  1.9528e+00,  5.7063e-01],\n",
       "        [ 2.7187e-01,  3.0833e+00, -4.7633e-01],\n",
       "        [-5.9432e-01,  8.1049e-01,  4.0689e-01],\n",
       "        [ 4.8636e-01,  2.5797e+00, -1.8847e+00],\n",
       "        [ 9.1643e-01, -1.4416e+00,  4.6771e-01],\n",
       "        [ 2.5014e+00,  2.0298e+00, -1.6214e+00],\n",
       "        [-1.8022e+00,  3.1275e+00, -5.3934e-01],\n",
       "        [-1.1143e+00,  4.1334e+00,  6.2867e-01],\n",
       "        [ 1.4496e+00,  1.5435e+00,  5.0831e-01],\n",
       "        [ 3.1015e-01,  2.3855e+00,  1.5889e+00],\n",
       "        [ 1.0758e+00,  3.8255e+00, -2.7749e-01],\n",
       "        [-6.0680e-01,  4.3026e-01, -6.3614e-01],\n",
       "        [-1.6119e+00,  1.1796e+00,  6.4909e-01],\n",
       "        [ 1.7652e+00, -7.9234e-01,  1.7103e-01],\n",
       "        [ 1.3158e+00, -2.3276e+00,  1.0022e+00],\n",
       "        [ 3.7403e-01, -1.7862e+00, -4.3704e-01],\n",
       "        [-1.4239e+00, -2.2517e+00, -7.0443e-01],\n",
       "        [-1.2885e+00,  3.9552e+00, -7.1255e-01],\n",
       "        [-3.2867e+00, -2.5474e+00, -2.0003e+00],\n",
       "        [-1.3306e+00, -3.1397e+00, -4.1187e+00],\n",
       "        [-1.8290e+00, -7.3995e-01, -3.9242e+00],\n",
       "        [-1.2838e+00, -1.9916e+00, -3.2109e+00],\n",
       "        [-1.6841e+00,  5.0156e-01, -3.0773e+00],\n",
       "        [-4.1218e-01,  1.0429e+00, -2.8252e+00],\n",
       "        [-2.8179e+00,  1.1320e+00, -2.5378e+00],\n",
       "        [-2.0565e+00, -2.2817e+00, -1.9443e+00],\n",
       "        [-2.7687e-01,  2.1906e+00, -2.0385e+00],\n",
       "        [-2.6795e+00,  2.2797e+00, -1.7511e+00],\n",
       "        [-1.4111e+00,  2.8116e+00, -1.4987e+00],\n",
       "        [-4.3888e-01, -2.0320e+00, -6.1916e-01],\n",
       "        [-3.8388e-01,  4.3649e+00, -5.1153e-01],\n",
       "        [-9.1207e-01, -3.9673e+00, -3.6341e+00],\n",
       "        [-2.3267e+00, -3.3753e+00, -4.3368e+00],\n",
       "        [-1.2758e+00, -5.8701e-01, -4.8766e+00],\n",
       "        [-2.8955e+00, -9.0482e-01, -4.1957e+00],\n",
       "        [-2.1775e-01, -1.8090e+00, -2.9521e+00],\n",
       "        [ 4.7330e-01,  5.7728e-01, -3.2397e+00],\n",
       "        [-3.8079e+00,  7.3228e-01, -2.7190e+00],\n",
       "        [ 7.0881e-01,  2.5968e+00, -1.8504e+00],\n",
       "        [-3.5591e+00,  2.7558e+00, -1.3366e+00],\n",
       "        [-1.6580e+00,  1.3987e-01,  1.7283e+00],\n",
       "        [-2.1180e+00, -1.2495e+00, -2.7939e+00],\n",
       "        [-1.3808e+00, -2.3021e+00, -6.2170e-01],\n",
       "        [-7.5792e-01, -8.5951e-01,  1.3627e+00],\n",
       "        [ 4.7506e-01, -6.0360e-01,  1.3706e+00],\n",
       "        [-1.2292e+00, -2.2222e+00,  9.1638e-01],\n",
       "        [-2.4647e+00, -2.6034e+00,  1.6015e+00],\n",
       "        [-2.3271e+00, -1.2577e+00, -1.2729e+00],\n",
       "        [-3.8067e+00, -1.5326e+00, -9.6206e-01],\n",
       "        [-2.6590e+00, -1.0041e-02,  1.7119e+00],\n",
       "        [-2.3614e+00, -2.2433e+00, -3.2281e+00],\n",
       "        [-2.7653e+00, -4.8162e-01, -3.2695e+00],\n",
       "        [-1.0631e+00, -1.0000e+00, -3.0371e+00],\n",
       "        [-3.6266e-01, -2.1752e+00, -1.0534e+00],\n",
       "        [-1.7092e+00, -3.3270e+00, -9.0307e-01],\n",
       "        [-4.4119e-01, -2.9568e+00,  1.2028e+00],\n",
       "        [-2.7032e+00, -3.5854e+00,  1.3312e+00],\n",
       "        [-2.2779e+00, -2.6239e+00,  2.6309e+00],\n",
       "        [-2.0730e+00, -2.4065e-01, -9.0574e-01],\n",
       "        [-4.0702e+00, -2.5861e+00, -1.1970e+00],\n",
       "        [-4.0320e+00, -1.3265e+00,  1.0252e-01],\n",
       "        [-4.4589e+00, -8.6237e-01, -1.5619e+00],\n",
       "        [ 4.8856e+00, -2.4686e+00, -1.7395e+00],\n",
       "        [ 2.9421e+00, -1.8622e+00, -7.0528e-01],\n",
       "        [ 1.7352e-01, -2.0066e+00, -6.6714e+00],\n",
       "        [ 3.8409e+00, -1.6501e+00, -4.2027e+00],\n",
       "        [ 9.0037e-01, -2.1368e+00, -4.5420e+00],\n",
       "        [ 1.6897e+00, -2.5593e+00, -3.3368e+00],\n",
       "        [ 1.4901e-03, -1.0927e+00, -4.6353e+00],\n",
       "        [ 2.8923e+00, -1.6240e+00, -3.0840e+00],\n",
       "        [-4.2009e-01, -1.0477e+00, -5.9396e+00],\n",
       "        [ 9.8812e-01, -2.6745e+00, -5.8228e+00],\n",
       "        [-4.6082e-01, -1.8589e-01, -3.6813e+00],\n",
       "        [-1.3363e+00, -9.3487e-02, -6.3801e+00],\n",
       "        [ 3.5743e+00, -1.9939e+00, -1.7868e+00],\n",
       "        [-1.3876e+00,  7.8743e-01, -4.0972e+00],\n",
       "        [-1.8237e+00,  8.3316e-01, -5.4401e+00],\n",
       "        [ 5.4522e+00, -2.6028e+00, -2.5668e+00],\n",
       "        [ 4.4166e-02, -2.1937e+00, -7.6906e+00],\n",
       "        [ 3.4238e+00, -1.1379e+00, -5.0136e+00],\n",
       "        [ 4.0023e+00, -2.6383e+00, -4.5071e+00],\n",
       "        [ 1.0119e+00, -2.5489e+00, -2.4558e+00],\n",
       "        [ 2.0421e+00, -3.6056e+00, -3.4704e+00],\n",
       "        [ 2.5183e+00, -5.8189e-01, -2.9677e+00],\n",
       "        [ 1.6219e+00, -3.5004e+00, -6.1183e+00],\n",
       "        [-1.2067e-01, -2.2569e-01, -2.6547e+00],\n",
       "        [-1.6614e+00, -6.3827e-02, -7.4121e+00],\n",
       "        [-1.7679e+00,  1.5064e+00, -3.3834e+00],\n",
       "        [-2.5360e+00,  1.5871e+00, -5.7488e+00],\n",
       "        [ 3.5079e-01, -1.9935e+00,  3.7673e-01],\n",
       "        [-3.1459e-01, -3.5090e-01, -2.6953e+00],\n",
       "        [ 4.3536e-01,  2.0665e-02,  1.8690e+00],\n",
       "        [ 2.5908e+00,  3.7127e+00,  9.4882e-01],\n",
       "        [ 8.2717e-01,  4.6499e+00,  2.1839e+00],\n",
       "        [ 3.2079e+00,  1.3999e+00,  1.0923e+00],\n",
       "        [-6.6057e-01,  1.9195e-01,  1.0578e+00],\n",
       "        [ 8.7575e-01,  9.5020e-01,  2.9225e+00],\n",
       "        [-8.5116e-01, -8.4498e-01,  1.3327e-01],\n",
       "        [-1.8859e+00, -9.3505e-01, -9.5342e-01],\n",
       "        [ 1.2632e+00,  2.3001e+00,  2.3550e+00],\n",
       "        [ 1.0731e+00, -1.1530e+00,  1.6344e+00],\n",
       "        [-1.5486e+00,  1.4057e+00,  1.1252e+00],\n",
       "        [-1.5496e+00, -8.2554e-03, -2.1254e+00],\n",
       "        [ 2.3421e+00,  2.4773e+00,  1.4595e+00],\n",
       "        [ 5.3076e-01,  3.4401e+00,  2.7213e+00],\n",
       "        [ 1.8352e+00,  4.7886e+00,  1.2867e+00],\n",
       "        [ 2.1635e+00,  6.1350e+00,  7.3391e-01],\n",
       "        [-4.6343e-01, -1.1827e+00, -3.2166e+00],\n",
       "        [ 3.9405e+00,  1.5499e+00,  3.6354e-01],\n",
       "        [ 3.2150e+00,  4.9369e-01,  1.6047e+00],\n",
       "        [ 6.0742e-02,  1.0511e+00,  3.6714e+00],\n",
       "        [ 1.7455e+00,  5.3569e-01,  3.4776e+00],\n",
       "        [-1.9445e+00, -1.9819e+00, -1.3217e+00],\n",
       "        [-2.8868e+00, -6.8040e-01, -5.4766e-01],\n",
       "        [ 1.9406e+00, -1.4964e+00,  2.1832e+00],\n",
       "        [-1.0657e+00,  2.2487e+00,  5.8941e-01],\n",
       "        [-2.5383e+00,  1.2167e+00,  6.6537e-01],\n",
       "        [-1.7336e+00,  1.6890e+00,  2.1807e+00],\n",
       "        [-1.5029e+00,  1.0441e+00, -1.7747e+00],\n",
       "        [-2.3556e+00, -6.8899e-02, -2.8912e+00],\n",
       "        [-2.8840e-01,  3.3671e+00,  3.4248e+00],\n",
       "        [ 2.6013e+00,  6.0355e+00, -2.8172e-01],\n",
       "        [ 1.2448e+00,  6.7553e+00,  6.6576e-01],\n",
       "        [ 2.8954e+00,  6.6388e+00,  1.3990e+00]], device='cuda:0')"
      ]
     },
     "execution_count": 188,
     "metadata": {},
     "output_type": "execute_result"
    }
   ],
   "source": [
    "sample_batched[1].ndata[\"new_x\"]"
   ]
  },
  {
   "cell_type": "code",
   "execution_count": 183,
   "metadata": {},
   "outputs": [
    {
     "data": {
      "text/plain": [
       "tensor([[-3.8453e-02,  1.6737e+01,  7.3787e+01],\n",
       "        [-3.1174e-01,  1.6831e+01,  7.2777e+01],\n",
       "        [-1.3523e+00,  1.8286e+01,  6.8686e+01],\n",
       "        [ 4.0060e-02,  1.6786e+01,  7.4727e+01],\n",
       "        [-2.6052e-01,  1.6274e+01,  7.5340e+01],\n",
       "        [-1.0196e+00,  1.8157e+01,  7.1608e+01],\n",
       "        [ 2.7455e-01,  1.6196e+01,  7.4765e+01],\n",
       "        [-1.0560e-01,  1.6952e+01,  6.8890e+01],\n",
       "        [-1.6517e-01,  1.7229e+01,  7.0708e+01],\n",
       "        [-5.9970e-01,  1.7700e+01,  7.0311e+01],\n",
       "        [ 8.4728e-02,  1.6993e+01,  7.2016e+01],\n",
       "        [-8.2748e-01,  1.7821e+01,  6.9292e+01],\n",
       "        [-5.6004e-01,  1.7414e+01,  6.8733e+01],\n",
       "        [-3.5707e-02,  1.7011e+01,  7.0029e+01],\n",
       "        [-8.5652e-01,  1.7504e+01,  6.7340e+01],\n",
       "        [-9.1743e-01,  1.8024e+01,  7.0912e+01],\n",
       "        [-1.6051e+00,  1.8616e+01,  6.9034e+01],\n",
       "        [-4.4526e-02,  1.6816e+01,  7.4173e+01],\n",
       "        [-2.0862e-01,  1.6685e+01,  7.4627e+01],\n",
       "        [-1.2859e-01,  1.6877e+01,  7.2354e+01],\n",
       "        [-6.9523e-02,  1.7042e+01,  7.2239e+01],\n",
       "        [ 4.8901e-01,  1.6493e+01,  7.0361e+01],\n",
       "        [-1.0867e+00,  1.7709e+01,  6.7329e+01],\n",
       "        [-1.0393e+00,  1.7721e+01,  6.7311e+01],\n",
       "        [-7.1064e-01,  1.7365e+01,  6.7219e+01],\n",
       "        [-1.2918e+00,  1.8477e+01,  7.0824e+01]])"
      ]
     },
     "execution_count": 183,
     "metadata": {},
     "output_type": "execute_result"
    }
   ],
   "source": [
    "equibind_inference.run_corrections(ligs[0], sample_batched[], batched_res[0])"
   ]
  },
  {
   "cell_type": "code",
   "execution_count": 138,
   "metadata": {},
   "outputs": [
    {
     "name": "stdout",
     "output_type": "stream",
     "text": [
      "tensor(763.0118, device='cuda:0')\n",
      "tensor(1519.2156, device='cuda:0')\n",
      "tensor(92.5205, device='cuda:0')\n",
      "tensor(4293.4443, device='cuda:0')\n",
      "tensor(241.7461, device='cuda:0')\n",
      "tensor(70.6493, device='cuda:0')\n",
      "tensor(924.4200, device='cuda:0')\n",
      "tensor(8494.0371, device='cuda:0')\n",
      "\n",
      "tensor(762.9764, device='cuda:0')\n",
      "tensor(1519.2283, device='cuda:0')\n",
      "tensor(92.5231, device='cuda:0')\n",
      "tensor(4363.1582, device='cuda:0')\n",
      "tensor(234.4151, device='cuda:0')\n",
      "tensor(70.6483, device='cuda:0')\n",
      "tensor(935.2437, device='cuda:0')\n",
      "tensor(8494.0342, device='cuda:0')\n",
      "\n",
      "tensor(4.1634e-07, device='cuda:0')\n",
      "tensor(2.6505e-08, device='cuda:0')\n",
      "tensor(3.1971e-08, device='cuda:0')\n",
      "tensor(4.2061, device='cuda:0')\n",
      "tensor(2.1525, device='cuda:0')\n",
      "tensor(7.0997e-09, device='cuda:0')\n",
      "tensor(2.0750, device='cuda:0')\n",
      "tensor(1.4599e-08, device='cuda:0')\n",
      "\n"
     ]
    }
   ],
   "source": [
    "for single_coords, batched_coords, manual_coords in zip(single_res[0], batched_res[0], manual_res[0]):\n",
    "    print(((single_coords - batched_coords)**2).sum())\n",
    "print()\n",
    "\n",
    "for single_coords, batched_coords, manual_coords in zip(single_res[0], batched_res[0], manual_res[0]):\n",
    "    print(((single_coords - manual_coords)**2).sum())\n",
    "print()\n",
    "\n",
    "for single_coords, batched_coords, manual_coords in zip(single_res[0], batched_res[0], manual_res[0]):\n",
    "    print(((batched_coords - manual_coords)**2).sum())\n",
    "print()\n"
   ]
  },
  {
   "cell_type": "code",
   "execution_count": 173,
   "metadata": {},
   "outputs": [],
   "source": [
    "a, _, _ = 1, 2, 3"
   ]
  },
  {
   "cell_type": "code",
   "execution_count": 167,
   "metadata": {},
   "outputs": [
    {
     "data": {
      "text/plain": [
       "tensor([[ 6.7998e-01,  1.3429e+01,  7.7769e+01],\n",
       "        [ 4.3621e-01,  1.3325e+01,  7.6852e+01],\n",
       "        [-7.8746e-01,  1.4115e+01,  7.2590e+01],\n",
       "        [ 5.4453e-01,  1.3465e+01,  7.8758e+01],\n",
       "        [ 5.8788e-01,  1.2879e+01,  7.9418e+01],\n",
       "        [-7.4408e-01,  1.3959e+01,  7.5475e+01],\n",
       "        [ 1.1868e+00,  1.3157e+01,  7.8825e+01],\n",
       "        [ 7.5035e-01,  1.3861e+01,  7.3015e+01],\n",
       "        [ 4.7933e-01,  1.3901e+01,  7.4689e+01],\n",
       "        [-1.0091e-01,  1.4020e+01,  7.4269e+01],\n",
       "        [ 7.0891e-01,  1.3852e+01,  7.6073e+01],\n",
       "        [-2.6758e-01,  1.4063e+01,  7.3298e+01],\n",
       "        [ 1.9994e-01,  1.3943e+01,  7.2787e+01],\n",
       "        [ 6.6217e-01,  1.3870e+01,  7.4021e+01],\n",
       "        [ 4.0861e-02,  1.3919e+01,  7.1335e+01],\n",
       "        [-5.4422e-01,  1.4061e+01,  7.4970e+01],\n",
       "        [-1.1803e+00,  1.4177e+01,  7.2910e+01],\n",
       "        [ 4.0868e-01,  1.3438e+01,  7.8318e+01],\n",
       "        [ 3.6893e-01,  1.3131e+01,  7.8788e+01],\n",
       "        [ 5.5394e-01,  1.3676e+01,  7.6457e+01],\n",
       "        [ 6.4997e-01,  1.3715e+01,  7.6343e+01],\n",
       "        [ 1.2084e+00,  1.3781e+01,  7.4438e+01],\n",
       "        [-2.5762e-01,  1.3916e+01,  7.1351e+01],\n",
       "        [-2.1644e-01,  1.4015e+01,  7.1333e+01],\n",
       "        [ 2.7761e-01,  1.3938e+01,  7.1240e+01],\n",
       "        [-1.1010e+00,  1.4167e+01,  7.4736e+01]])"
      ]
     },
     "execution_count": 167,
     "metadata": {},
     "output_type": "execute_result"
    }
   ],
   "source": [
    "idk[0][0]"
   ]
  },
  {
   "cell_type": "code",
   "execution_count": 10,
   "metadata": {},
   "outputs": [
    {
     "name": "stdout",
     "output_type": "stream",
     "text": [
      "[2022-05-20 22:53:14.090991] [ Using Seed :  1  ]\n"
     ]
    }
   ],
   "source": [
    "seed_all(1)\n",
    "with torch.no_grad():\n",
    "    single = model(res[0][1], rec_graph, res[0][2])[0]"
   ]
  },
  {
   "cell_type": "code",
   "execution_count": 11,
   "metadata": {},
   "outputs": [
    {
     "data": {
      "text/plain": [
       "tensor([[-3.8455e-02,  1.6737e+01,  7.3787e+01],\n",
       "        [-3.1174e-01,  1.6831e+01,  7.2777e+01],\n",
       "        [-1.3523e+00,  1.8286e+01,  6.8686e+01],\n",
       "        [ 4.0050e-02,  1.6786e+01,  7.4727e+01],\n",
       "        [-2.6051e-01,  1.6274e+01,  7.5340e+01],\n",
       "        [-1.0196e+00,  1.8157e+01,  7.1608e+01],\n",
       "        [ 2.7455e-01,  1.6196e+01,  7.4765e+01],\n",
       "        [-1.0557e-01,  1.6952e+01,  6.8890e+01],\n",
       "        [-1.6517e-01,  1.7229e+01,  7.0708e+01],\n",
       "        [-5.9971e-01,  1.7700e+01,  7.0311e+01],\n",
       "        [ 8.4731e-02,  1.6993e+01,  7.2016e+01],\n",
       "        [-8.2749e-01,  1.7821e+01,  6.9292e+01],\n",
       "        [-5.6003e-01,  1.7414e+01,  6.8733e+01],\n",
       "        [-3.5692e-02,  1.7011e+01,  7.0029e+01],\n",
       "        [-8.5650e-01,  1.7504e+01,  6.7340e+01],\n",
       "        [-9.1745e-01,  1.8024e+01,  7.0912e+01],\n",
       "        [-1.6051e+00,  1.8616e+01,  6.9034e+01],\n",
       "        [-4.4533e-02,  1.6816e+01,  7.4173e+01],\n",
       "        [-2.0863e-01,  1.6685e+01,  7.4627e+01],\n",
       "        [-1.2859e-01,  1.6877e+01,  7.2354e+01],\n",
       "        [-6.9523e-02,  1.7042e+01,  7.2239e+01],\n",
       "        [ 4.8904e-01,  1.6493e+01,  7.0361e+01],\n",
       "        [-1.0867e+00,  1.7709e+01,  6.7329e+01],\n",
       "        [-1.0393e+00,  1.7721e+01,  6.7311e+01],\n",
       "        [-7.1061e-01,  1.7365e+01,  6.7219e+01],\n",
       "        [-1.2918e+00,  1.8477e+01,  7.0824e+01]])"
      ]
     },
     "execution_count": 11,
     "metadata": {},
     "output_type": "execute_result"
    }
   ],
   "source": [
    "single[0]"
   ]
  },
  {
   "cell_type": "code",
   "execution_count": 13,
   "metadata": {},
   "outputs": [
    {
     "data": {
      "text/plain": [
       "tensor([[-3.8454e-02,  1.6737e+01,  7.3787e+01],\n",
       "        [-3.1173e-01,  1.6831e+01,  7.2777e+01],\n",
       "        [-1.3523e+00,  1.8286e+01,  6.8686e+01],\n",
       "        [ 4.0051e-02,  1.6786e+01,  7.4727e+01],\n",
       "        [-2.6051e-01,  1.6274e+01,  7.5340e+01],\n",
       "        [-1.0196e+00,  1.8157e+01,  7.1608e+01],\n",
       "        [ 2.7455e-01,  1.6196e+01,  7.4765e+01],\n",
       "        [-1.0557e-01,  1.6952e+01,  6.8890e+01],\n",
       "        [-1.6517e-01,  1.7229e+01,  7.0708e+01],\n",
       "        [-5.9971e-01,  1.7700e+01,  7.0311e+01],\n",
       "        [ 8.4733e-02,  1.6993e+01,  7.2016e+01],\n",
       "        [-8.2749e-01,  1.7821e+01,  6.9292e+01],\n",
       "        [-5.6003e-01,  1.7414e+01,  6.8733e+01],\n",
       "        [-3.5690e-02,  1.7011e+01,  7.0029e+01],\n",
       "        [-8.5650e-01,  1.7504e+01,  6.7340e+01],\n",
       "        [-9.1745e-01,  1.8024e+01,  7.0912e+01],\n",
       "        [-1.6051e+00,  1.8616e+01,  6.9034e+01],\n",
       "        [-4.4532e-02,  1.6816e+01,  7.4173e+01],\n",
       "        [-2.0862e-01,  1.6685e+01,  7.4627e+01],\n",
       "        [-1.2859e-01,  1.6877e+01,  7.2354e+01],\n",
       "        [-6.9521e-02,  1.7042e+01,  7.2239e+01],\n",
       "        [ 4.8904e-01,  1.6493e+01,  7.0361e+01],\n",
       "        [-1.0867e+00,  1.7709e+01,  6.7329e+01],\n",
       "        [-1.0393e+00,  1.7721e+01,  6.7311e+01],\n",
       "        [-7.1061e-01,  1.7365e+01,  6.7219e+01],\n",
       "        [-1.2918e+00,  1.8477e+01,  7.0824e+01]])"
      ]
     },
     "execution_count": 13,
     "metadata": {},
     "output_type": "execute_result"
    }
   ],
   "source": [
    "idk[0][0]"
   ]
  },
  {
   "cell_type": "code",
   "execution_count": 12,
   "metadata": {},
   "outputs": [
    {
     "data": {
      "text/plain": [
       "tensor([[ 1.6689e-06, -9.5367e-06,  3.8147e-05],\n",
       "        [ 1.6689e-06, -9.5367e-06,  3.0518e-05],\n",
       "        [ 5.9605e-07, -1.1444e-05,  3.0518e-05],\n",
       "        [ 1.4305e-06, -9.5367e-06,  3.8147e-05],\n",
       "        [ 1.6689e-06, -9.5367e-06,  3.8147e-05],\n",
       "        [ 5.9605e-07, -1.1444e-05,  3.8147e-05],\n",
       "        [ 1.9073e-06, -9.5367e-06,  3.8147e-05],\n",
       "        [ 1.9073e-06, -1.1444e-05,  3.0518e-05],\n",
       "        [ 1.4305e-06, -9.5367e-06,  3.0518e-05],\n",
       "        [ 9.5367e-07, -1.1444e-05,  3.0518e-05],\n",
       "        [ 1.9073e-06, -1.1444e-05,  3.8147e-05],\n",
       "        [ 1.1921e-06, -1.1444e-05,  3.0518e-05],\n",
       "        [ 1.9073e-06, -1.1444e-05,  3.0518e-05],\n",
       "        [ 1.6689e-06, -1.1444e-05,  3.0518e-05],\n",
       "        [ 1.4305e-06, -1.1444e-05,  3.0518e-05],\n",
       "        [ 3.5763e-07, -1.1444e-05,  3.0518e-05],\n",
       "        [ 0.0000e+00, -1.1444e-05,  3.0518e-05],\n",
       "        [ 1.6689e-06, -9.5367e-06,  3.0518e-05],\n",
       "        [ 1.4305e-06, -9.5367e-06,  3.0518e-05],\n",
       "        [ 1.6689e-06, -9.5367e-06,  3.0518e-05],\n",
       "        [ 1.4305e-06, -1.1444e-05,  3.8147e-05],\n",
       "        [ 2.3842e-06, -9.5367e-06,  3.0518e-05],\n",
       "        [ 1.3113e-06, -1.1444e-05,  3.8147e-05],\n",
       "        [ 1.5497e-06, -1.1444e-05,  3.0518e-05],\n",
       "        [ 1.9073e-06, -1.1444e-05,  3.0518e-05],\n",
       "        [ 1.1921e-07, -1.1444e-05,  3.8147e-05]])"
      ]
     },
     "execution_count": 12,
     "metadata": {},
     "output_type": "execute_result"
    }
   ],
   "source": [
    "idk[0][0]-single[0]"
   ]
  }
 ],
 "metadata": {
  "interpreter": {
   "hash": "e2119a0a3301249aa1af3f612a7b1c0027908ee501c6b62aaf0fd0c409e1d1ad"
  },
  "kernelspec": {
   "display_name": "Python 3.7.12 ('equibind')",
   "language": "python",
   "name": "python3"
  },
  "language_info": {
   "codemirror_mode": {
    "name": "ipython",
    "version": 3
   },
   "file_extension": ".py",
   "mimetype": "text/x-python",
   "name": "python",
   "nbconvert_exporter": "python",
   "pygments_lexer": "ipython3",
   "version": "3.7.12"
  },
  "orig_nbformat": 4
 },
 "nbformat": 4,
 "nbformat_minor": 2
}
