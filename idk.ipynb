{
 "cells": [
  {
   "cell_type": "code",
   "execution_count": 1,
   "metadata": {},
   "outputs": [],
   "source": [
    "import models.equibind as eq\n",
    "from commons.process_mols import get_rec_graph, get_lig_graph_revised, get_receptor_inference, get_geometry_graph, distance_featurizer, rec_residue_featurizer\n",
    "import rdkit.Chem as Chem\n",
    "import inference_further_mods as inf\n",
    "from train import load_model\n",
    "import torch\n",
    "import math\n",
    "import numpy as np\n",
    "from scipy.special import softmax\n",
    "import dgl\n",
    "import scipy.spatial as spa\n",
    "from commons.geometry_utils import random_rotation_translation\n",
    "import re\n",
    "from models.equibind import EquiBind\n",
    "from commons.utils import seed_all\n",
    "import random\n",
    "from rdkit.Geometry import Point3D\n",
    "import py3Dmol\n",
    "from futils.loaders import load_bulk2\n",
    "import matplotlib.pyplot as plt\n",
    "import pandas as pd\n",
    "import importlib"
   ]
  },
  {
   "cell_type": "code",
   "execution_count": 7,
   "metadata": {},
   "outputs": [],
   "source": [
    "args = inf.parse_arguments([\"--config\", \"configs_clean/unit_test_sdf.yml\"])\n",
    "args = inf.get_default_args(args)\n",
    "dp = args.dataset_params\n",
    "use_rdkit_coords = args.use_rdkit_coords\n",
    "device = args.device\n",
    "checkpoint = torch.load(args.checkpoint, map_location=device)\n",
    "\n",
    "rec_path = \"/home/amfaber/cyp_screen/protein.pdb\"\n",
    "\n",
    "rec, rec_coords, c_alpha_coords, n_coords, c_coords = get_receptor_inference(rec_path)\n",
    "max_neighbor=dp['c_alpha_max_neighbors']\n",
    "cutoff=dp['rec_graph_radius']"
   ]
  },
  {
   "cell_type": "code",
   "execution_count": 44,
   "metadata": {},
   "outputs": [
    {
     "name": "stdout",
     "output_type": "stream",
     "text": [
      "[2022-05-12 09:04:37.730763] [ Using Seed :  1  ]\n"
     ]
    }
   ],
   "source": [
    "seed_all(1)"
   ]
  },
  {
   "cell_type": "code",
   "execution_count": 42,
   "metadata": {},
   "outputs": [],
   "source": [
    "model = EquiBind(device = device, lig_input_edge_feats_dim = 15, rec_input_edge_feats_dim = 27, **args.model_parameters)\n",
    "model.load_state_dict(checkpoint['model_state_dict'])\n",
    "model.to(device)\n",
    "model.eval()\n",
    "pass"
   ]
  },
  {
   "cell_type": "code",
   "execution_count": 45,
   "metadata": {},
   "outputs": [
    {
     "name": "stdout",
     "output_type": "stream",
     "text": [
      "tensor([0.7576])\n",
      "0.417022004702574\n",
      "tensor([0])\n",
      "0.13436424411240122\n"
     ]
    }
   ],
   "source": [
    "print(torch.rand(1))\n",
    "print(np.random.random())\n",
    "print(dgl.random.choice(10**3,1))\n",
    "print(random.random())"
   ]
  },
  {
   "cell_type": "code",
   "execution_count": 37,
   "metadata": {},
   "outputs": [
    {
     "data": {
      "text/plain": [
       "0.13436424411240122"
      ]
     },
     "execution_count": 37,
     "metadata": {},
     "output_type": "execute_result"
    }
   ],
   "source": [
    "torch.tensor([0.7576])\n",
    "0.417022004702574\n",
    "torch.tensor([0])\n",
    "0.13436424411240122"
   ]
  },
  {
   "cell_type": "code",
   "execution_count": null,
   "metadata": {},
   "outputs": [],
   "source": [
    "torch.manual_seed(seed)\n",
    "torch.cuda.manual_seed_all(seed)\n",
    "torch.cuda.manual_seed(seed)\n",
    "np.random.seed(seed)\n",
    "dgl.random.seed(seed)\n",
    "random.seed(seed)"
   ]
  },
  {
   "cell_type": "code",
   "execution_count": 124,
   "metadata": {},
   "outputs": [],
   "source": [
    "rec_path = \"/home/amfaber/equibind/data/PDBBind_processed/1a0q/1a0q_protein_processed.pdb\"\n",
    "rec, rec_coords, c_alpha_coords, n_coords, c_coords = get_receptor_inference(rec_path)"
   ]
  },
  {
   "cell_type": "code",
   "execution_count": 43,
   "metadata": {},
   "outputs": [],
   "source": [
    "rec_graph = get_rec_graph(rec, rec_coords, c_alpha_coords, n_coords, c_coords,\n",
    "                                    use_rec_atoms=dp['use_rec_atoms'], rec_radius=dp['rec_graph_radius'],\n",
    "                                    surface_max_neighbors=dp['surface_max_neighbors'],\n",
    "                                    surface_graph_cutoff=dp['surface_graph_cutoff'],\n",
    "                                    surface_mesh_cutoff=dp['surface_mesh_cutoff'],\n",
    "                                    c_alpha_max_neighbors=dp['c_alpha_max_neighbors'])"
   ]
  },
  {
   "cell_type": "code",
   "execution_count": 170,
   "metadata": {},
   "outputs": [
    {
     "name": "stderr",
     "output_type": "stream",
     "text": [
      "RDKit WARNING: [10:44:35] Warning: molecule is tagged as 3D, but all Z coords are zero\n",
      "[10:44:35] Warning: molecule is tagged as 3D, but all Z coords are zero\n"
     ]
    }
   ],
   "source": [
    "ligs = [mol for mol in Chem.SDMolSupplier(\"/home/amfaber/cyp_screen/test_3D_opt_1216.sdf\")]\n",
    "lig_graphs = [get_lig_graph_revised(lig, \"name\", max_neighbors=dp['lig_max_neighbors'],\n",
    "                                            use_rdkit_coords=False, radius=dp['lig_graph_radius']) for lig in ligs[:100]]\n",
    "\n",
    "geometry_graphs = [get_geometry_graph(lig).to(device) for lig in ligs[:100]]\n",
    "\n",
    "for lig_graph in lig_graphs:\n",
    "    rot_T, rot_b = random_rotation_translation(translation_distance=5)\n",
    "    if (use_rdkit_coords):\n",
    "        lig_coords_to_move = lig_graph.ndata['new_x']\n",
    "    else:\n",
    "        lig_coords_to_move = lig_graph.ndata['x']\n",
    "    mean_to_remove = lig_coords_to_move.mean(dim=0, keepdims=True)\n",
    "    input_coords = (rot_T @ (lig_coords_to_move - mean_to_remove).T).T + rot_b\n",
    "    lig_graph.ndata['new_x'] = input_coords\n"
   ]
  },
  {
   "cell_type": "code",
   "execution_count": 189,
   "metadata": {},
   "outputs": [],
   "source": [
    "\n",
    "def translatemol(mol, translation, conformer = 0):\n",
    "    conf = mol.GetConformer(conformer)\n",
    "    positions = conf.GetPositions()\n",
    "    positions += translation\n",
    "    for i, position in enumerate(positions):\n",
    "        conf.SetAtomPosition(i, Point3D(*position))"
   ]
  },
  {
   "cell_type": "code",
   "execution_count": 11,
   "metadata": {},
   "outputs": [
    {
     "data": {
      "text/plain": [
       "'Pyridoxal Phosphate'"
      ]
     },
     "execution_count": 11,
     "metadata": {},
     "output_type": "execute_result"
    }
   ],
   "source": [
    "mol = ligs[0]\n",
    "mol.GetProp(\"_Name\")"
   ]
  },
  {
   "cell_type": "code",
   "execution_count": 9,
   "metadata": {},
   "outputs": [
    {
     "name": "stderr",
     "output_type": "stream",
     "text": [
      "RDKit WARNING: [13:00:03] Warning: molecule is tagged as 3D, but all Z coords are zero\n",
      "[13:00:03] Warning: molecule is tagged as 3D, but all Z coords are zero\n"
     ]
    },
    {
     "data": {
      "text/plain": [
       "array([[ 3.5876, -0.0408,  0.3993],\n",
       "       [ 1.926 , -0.423 ,  0.4598],\n",
       "       [-3.2638,  0.4447,  1.3958],\n",
       "       [ 3.8041,  1.6331,  0.2655],\n",
       "       [ 4.328 , -0.5828,  1.8205],\n",
       "       [ 0.4199,  2.0199,  1.2909],\n",
       "       [ 4.2343, -0.7276, -0.7827],\n",
       "       [-2.0661, -1.3389, -1.5581],\n",
       "       [-0.1787, -0.1899, -0.6285],\n",
       "       [-1.0073,  0.3094,  0.4138],\n",
       "       [ 1.3054,  0.0892, -0.6964],\n",
       "       [-2.3799, -0.0412,  0.4255],\n",
       "       [-2.8852, -0.8844, -0.5768],\n",
       "       [-0.7512, -1.0158, -1.6083],\n",
       "       [-4.3317, -1.2746, -0.5948],\n",
       "       [-0.4599,  1.1464,  1.5085]])"
      ]
     },
     "execution_count": 9,
     "metadata": {},
     "output_type": "execute_result"
    }
   ],
   "source": [
    "ligs = [mol for mol in Chem.SDMolSupplier(\"/home/amfaber/cyp_screen/test_3D_opt_1216.sdf\")]\n",
    "ligs[0].GetConformer(0).GetPositions()"
   ]
  },
  {
   "cell_type": "code",
   "execution_count": 216,
   "metadata": {},
   "outputs": [
    {
     "name": "stderr",
     "output_type": "stream",
     "text": [
      "RDKit WARNING: [11:26:25] Warning: molecule is tagged as 3D, but all Z coords are zero\n",
      "[11:26:25] Warning: molecule is tagged as 3D, but all Z coords are zero\n"
     ]
    }
   ],
   "source": [
    "ligs = [mol for mol in Chem.SDMolSupplier(\"/home/amfaber/cyp_screen/test_3D_opt_1216.sdf\")]\n",
    "lig = ligs[0]\n"
   ]
  },
  {
   "cell_type": "code",
   "execution_count": null,
   "metadata": {},
   "outputs": [],
   "source": []
  },
  {
   "cell_type": "code",
   "execution_count": 191,
   "metadata": {},
   "outputs": [],
   "source": [
    "translation = np.array([10, 0, 0])\n",
    "\n",
    "[translatemol(mol, translation) for mol in ligs]\n",
    "with Chem.SDWriter(\"translated_10_along_x.sdf\") as writer:\n",
    "    [writer.write(mol) for mol in ligs]"
   ]
  },
  {
   "cell_type": "code",
   "execution_count": 176,
   "metadata": {},
   "outputs": [
    {
     "name": "stdout",
     "output_type": "stream",
     "text": [
      "Pyridoxal Phosphate\n",
      "     RDKit          3D\n",
      "\n",
      " 16 16  0  0  0  0  0  0  0  0999 V2000\n",
      "   13.5876   -0.0408    0.3993 P   0  0  0  0  0  0  0  0  0  0  0  0\n",
      "   11.9260   -0.4230    0.4598 O   0  0  0  0  0  0  0  0  0  0  0  0\n",
      "    6.7362    0.4447    1.3958 O   0  0  0  0  0  0  0  0  0  0  0  0\n",
      "   13.8041    1.6331    0.2655 O   0  0  0  0  0  0  0  0  0  0  0  0\n",
      "   14.3280   -0.5828    1.8205 O   0  0  0  0  0  0  0  0  0  0  0  0\n",
      "   10.4199    2.0199    1.2909 O   0  0  0  0  0  0  0  0  0  0  0  0\n",
      "   14.2343   -0.7276   -0.7827 O   0  0  0  0  0  0  0  0  0  0  0  0\n",
      "    7.9339   -1.3389   -1.5581 N   0  0  0  0  0  0  0  0  0  0  0  0\n",
      "    9.8213   -0.1899   -0.6285 C   0  0  0  0  0  0  0  0  0  0  0  0\n",
      "    8.9927    0.3094    0.4138 C   0  0  0  0  0  0  0  0  0  0  0  0\n",
      "   11.3054    0.0892   -0.6964 C   0  0  0  0  0  0  0  0  0  0  0  0\n",
      "    7.6201   -0.0412    0.4255 C   0  0  0  0  0  0  0  0  0  0  0  0\n",
      "    7.1148   -0.8844   -0.5768 C   0  0  0  0  0  0  0  0  0  0  0  0\n",
      "    9.2488   -1.0158   -1.6083 C   0  0  0  0  0  0  0  0  0  0  0  0\n",
      "    5.6683   -1.2746   -0.5948 C   0  0  0  0  0  0  0  0  0  0  0  0\n",
      "    9.5401    1.1464    1.5085 C   0  0  0  0  0  0  0  0  0  0  0  0\n",
      "  1  2  1  0\n",
      "  1  4  1  0\n",
      "  1  5  1  0\n",
      "  1  7  2  0\n",
      "  2 11  1  0\n",
      "  3 12  1  0\n",
      "  6 16  2  0\n",
      "  8 13  2  0\n",
      "  8 14  1  0\n",
      "  9 10  1  0\n",
      "  9 11  1  0\n",
      "  9 14  2  0\n",
      " 10 12  2  0\n",
      " 10 16  1  0\n",
      " 12 13  1  0\n",
      " 13 15  1  0\n",
      "M  END\n",
      "\n"
     ]
    }
   ],
   "source": [
    "print(Chem.MolToMolBlock(ligs[0]))"
   ]
  },
  {
   "cell_type": "code",
   "execution_count": null,
   "metadata": {},
   "outputs": [],
   "source": []
  },
  {
   "cell_type": "code",
   "execution_count": 5,
   "metadata": {},
   "outputs": [],
   "source": [
    "load_once_data = load_bulk2(\"/home/amfaber/equibind/load_once_gnina.txt\")\n",
    "#reload_data = load_bulk2(\"/home/amfaber/equibind/cypscreen_gnina.txt\")\n",
    "translated_data = load_bulk2(\"/home/amfaber/equibind/translated_gnina.txt\")\n",
    "dumb_data = load_bulk2(\"/home/amfaber/equibind/dumb_gnina.txt\")"
   ]
  },
  {
   "cell_type": "code",
   "execution_count": 25,
   "metadata": {},
   "outputs": [],
   "source": [
    "dumb_data = dumb_data.iloc[load_once_data.index]"
   ]
  },
  {
   "cell_type": "code",
   "execution_count": 28,
   "metadata": {},
   "outputs": [
    {
     "data": {
      "text/plain": [
       "[<matplotlib.lines.Line2D at 0x7fc8c1788290>]"
      ]
     },
     "execution_count": 28,
     "metadata": {},
     "output_type": "execute_result"
    },
    {
     "data": {
      "image/png": "[encoded data removed]",
      "text/plain": [
       "<Figure size 432x288 with 1 Axes>"
      ]
     },
     "metadata": {
      "needs_background": "light"
     },
     "output_type": "display_data"
    }
   ],
   "source": [
    "plt.plot(dumb_data.CNNscore, load_once_data.CNNscore, \".\")"
   ]
  },
  {
   "cell_type": "code",
   "execution_count": 29,
   "metadata": {},
   "outputs": [
    {
     "data": {
      "text/plain": [
       "[<matplotlib.lines.Line2D at 0x7fc8c16f7950>]"
      ]
     },
     "execution_count": 29,
     "metadata": {},
     "output_type": "execute_result"
    },
    {
     "data": {
      "image/png": "[encoded data removed]",
      "text/plain": [
       "<Figure size 432x288 with 1 Axes>"
      ]
     },
     "metadata": {
      "needs_background": "light"
     },
     "output_type": "display_data"
    }
   ],
   "source": [
    "plt.plot(dumb_data.CNNaffinity, load_once_data.CNNaffinity, \".\")"
   ]
  },
  {
   "cell_type": "code",
   "execution_count": 198,
   "metadata": {},
   "outputs": [
    {
     "name": "stdout",
     "output_type": "stream",
     "text": [
      "0.7774811687242799\n",
      "0.8052137366255143\n"
     ]
    }
   ],
   "source": [
    "print(dumb_data.CNNscore.mean())\n",
    "print(translated_data.CNNscore.mean())"
   ]
  },
  {
   "cell_type": "code",
   "execution_count": 199,
   "metadata": {},
   "outputs": [
    {
     "data": {
      "text/plain": [
       "[<matplotlib.lines.Line2D at 0x7f3adc3c7710>]"
      ]
     },
     "execution_count": 199,
     "metadata": {},
     "output_type": "execute_result"
    },
    {
     "data": {
      "image/png": "[encoded data removed]",
      "text/plain": [
       "<Figure size 432x288 with 1 Axes>"
      ]
     },
     "metadata": {
      "needs_background": "light"
     },
     "output_type": "display_data"
    }
   ],
   "source": [
    "plt.plot(dumb_data.CNNscore, translated_data.CNNscore, \".\")"
   ]
  },
  {
   "cell_type": "code",
   "execution_count": 201,
   "metadata": {},
   "outputs": [
    {
     "data": {
      "text/plain": [
       "0       3.12613\n",
       "1       2.92424\n",
       "2       2.77876\n",
       "3       2.52450\n",
       "4       3.44803\n",
       "         ...   \n",
       "1210    3.93433\n",
       "1211    3.26680\n",
       "1212    4.17075\n",
       "1213    4.38954\n",
       "1214    5.13474\n",
       "Name: CNNaffinity, Length: 1215, dtype: float64"
      ]
     },
     "execution_count": 201,
     "metadata": {},
     "output_type": "execute_result"
    }
   ],
   "source": [
    "dumb_data.CNNaffinity"
   ]
  },
  {
   "cell_type": "code",
   "execution_count": 206,
   "metadata": {},
   "outputs": [],
   "source": [
    "indices = []\n",
    "with open(\"/home/amfaber/equibind/data/results/unit_test/failed.txt\") as file:\n",
    "    lines = file.readlines()\n",
    "    for line in lines:\n",
    "        indices.append(int(line.split()[0]))"
   ]
  },
  {
   "cell_type": "code",
   "execution_count": 213,
   "metadata": {},
   "outputs": [
    {
     "data": {
      "text/plain": [
       "[186, 214, 397, 804, 973, 977, 992, 998, 1051, 1167, 1187]"
      ]
     },
     "execution_count": 213,
     "metadata": {},
     "output_type": "execute_result"
    }
   ],
   "source": [
    "indices"
   ]
  },
  {
   "cell_type": "code",
   "execution_count": 214,
   "metadata": {},
   "outputs": [
    {
     "data": {
      "text/plain": [
       "'1051'"
      ]
     },
     "execution_count": 214,
     "metadata": {},
     "output_type": "execute_result"
    }
   ],
   "source": [
    "\"1051\""
   ]
  },
  {
   "cell_type": "code",
   "execution_count": 209,
   "metadata": {},
   "outputs": [
    {
     "data": {
      "text/html": [
       "<div>\n",
       "<style scoped>\n",
       "    .dataframe tbody tr th:only-of-type {\n",
       "        vertical-align: middle;\n",
       "    }\n",
       "\n",
       "    .dataframe tbody tr th {\n",
       "        vertical-align: top;\n",
       "    }\n",
       "\n",
       "    .dataframe thead th {\n",
       "        text-align: right;\n",
       "    }\n",
       "</style>\n",
       "<table border=\"1\" class=\"dataframe\">\n",
       "  <thead>\n",
       "    <tr style=\"text-align: right;\">\n",
       "      <th></th>\n",
       "      <th>Affinity</th>\n",
       "      <th>RMSD</th>\n",
       "      <th>CNNscore</th>\n",
       "      <th>CNNaffinity</th>\n",
       "      <th>CNNvariance</th>\n",
       "    </tr>\n",
       "  </thead>\n",
       "  <tbody>\n",
       "    <tr>\n",
       "      <th>0</th>\n",
       "      <td>38.62427</td>\n",
       "      <td>1.56648</td>\n",
       "      <td>0.01668</td>\n",
       "      <td>2.83790</td>\n",
       "      <td>0.48300</td>\n",
       "    </tr>\n",
       "    <tr>\n",
       "      <th>1</th>\n",
       "      <td>-1.30736</td>\n",
       "      <td>7.68524</td>\n",
       "      <td>0.34334</td>\n",
       "      <td>3.73651</td>\n",
       "      <td>0.09872</td>\n",
       "    </tr>\n",
       "    <tr>\n",
       "      <th>2</th>\n",
       "      <td>-3.29877</td>\n",
       "      <td>5.41407</td>\n",
       "      <td>0.39026</td>\n",
       "      <td>2.69370</td>\n",
       "      <td>0.12786</td>\n",
       "    </tr>\n",
       "    <tr>\n",
       "      <th>3</th>\n",
       "      <td>-2.28624</td>\n",
       "      <td>5.48663</td>\n",
       "      <td>0.35660</td>\n",
       "      <td>2.70832</td>\n",
       "      <td>0.15356</td>\n",
       "    </tr>\n",
       "    <tr>\n",
       "      <th>4</th>\n",
       "      <td>-3.57964</td>\n",
       "      <td>7.24013</td>\n",
       "      <td>0.36294</td>\n",
       "      <td>3.77483</td>\n",
       "      <td>0.03975</td>\n",
       "    </tr>\n",
       "    <tr>\n",
       "      <th>...</th>\n",
       "      <td>...</td>\n",
       "      <td>...</td>\n",
       "      <td>...</td>\n",
       "      <td>...</td>\n",
       "      <td>...</td>\n",
       "    </tr>\n",
       "    <tr>\n",
       "      <th>1200</th>\n",
       "      <td>-3.77239</td>\n",
       "      <td>5.08395</td>\n",
       "      <td>0.42092</td>\n",
       "      <td>4.19442</td>\n",
       "      <td>0.14099</td>\n",
       "    </tr>\n",
       "    <tr>\n",
       "      <th>1201</th>\n",
       "      <td>-1.89935</td>\n",
       "      <td>7.70605</td>\n",
       "      <td>0.42754</td>\n",
       "      <td>3.28424</td>\n",
       "      <td>0.72305</td>\n",
       "    </tr>\n",
       "    <tr>\n",
       "      <th>1202</th>\n",
       "      <td>1.28221</td>\n",
       "      <td>10.67422</td>\n",
       "      <td>0.61828</td>\n",
       "      <td>4.47954</td>\n",
       "      <td>0.29119</td>\n",
       "    </tr>\n",
       "    <tr>\n",
       "      <th>1203</th>\n",
       "      <td>77.99104</td>\n",
       "      <td>3.34422</td>\n",
       "      <td>0.00935</td>\n",
       "      <td>3.52069</td>\n",
       "      <td>1.36106</td>\n",
       "    </tr>\n",
       "    <tr>\n",
       "      <th>1204</th>\n",
       "      <td>-3.16067</td>\n",
       "      <td>5.08547</td>\n",
       "      <td>0.49930</td>\n",
       "      <td>5.16753</td>\n",
       "      <td>0.03883</td>\n",
       "    </tr>\n",
       "  </tbody>\n",
       "</table>\n",
       "<p>1205 rows × 5 columns</p>\n",
       "</div>"
      ],
      "text/plain": [
       "      Affinity      RMSD  CNNscore  CNNaffinity  CNNvariance\n",
       "0     38.62427   1.56648   0.01668      2.83790      0.48300\n",
       "1     -1.30736   7.68524   0.34334      3.73651      0.09872\n",
       "2     -3.29877   5.41407   0.39026      2.69370      0.12786\n",
       "3     -2.28624   5.48663   0.35660      2.70832      0.15356\n",
       "4     -3.57964   7.24013   0.36294      3.77483      0.03975\n",
       "...        ...       ...       ...          ...          ...\n",
       "1200  -3.77239   5.08395   0.42092      4.19442      0.14099\n",
       "1201  -1.89935   7.70605   0.42754      3.28424      0.72305\n",
       "1202   1.28221  10.67422   0.61828      4.47954      0.29119\n",
       "1203  77.99104   3.34422   0.00935      3.52069      1.36106\n",
       "1204  -3.16067   5.08547   0.49930      5.16753      0.03883\n",
       "\n",
       "[1205 rows x 5 columns]"
      ]
     },
     "execution_count": 209,
     "metadata": {},
     "output_type": "execute_result"
    }
   ],
   "source": [
    "load_once_data"
   ]
  },
  {
   "cell_type": "code",
   "execution_count": 210,
   "metadata": {},
   "outputs": [
    {
     "data": {
      "text/html": [
       "<div>\n",
       "<style scoped>\n",
       "    .dataframe tbody tr th:only-of-type {\n",
       "        vertical-align: middle;\n",
       "    }\n",
       "\n",
       "    .dataframe tbody tr th {\n",
       "        vertical-align: top;\n",
       "    }\n",
       "\n",
       "    .dataframe thead th {\n",
       "        text-align: right;\n",
       "    }\n",
       "</style>\n",
       "<table border=\"1\" class=\"dataframe\">\n",
       "  <thead>\n",
       "    <tr style=\"text-align: right;\">\n",
       "      <th></th>\n",
       "      <th>Affinity</th>\n",
       "      <th>RMSD</th>\n",
       "      <th>CNNscore</th>\n",
       "      <th>CNNaffinity</th>\n",
       "      <th>CNNvariance</th>\n",
       "    </tr>\n",
       "  </thead>\n",
       "  <tbody>\n",
       "    <tr>\n",
       "      <th>0</th>\n",
       "      <td>-0.00269</td>\n",
       "      <td>0.52667</td>\n",
       "      <td>0.80086</td>\n",
       "      <td>3.12613</td>\n",
       "      <td>0.48702</td>\n",
       "    </tr>\n",
       "    <tr>\n",
       "      <th>1</th>\n",
       "      <td>0.00000</td>\n",
       "      <td>0.16550</td>\n",
       "      <td>0.86657</td>\n",
       "      <td>2.92424</td>\n",
       "      <td>0.50314</td>\n",
       "    </tr>\n",
       "    <tr>\n",
       "      <th>2</th>\n",
       "      <td>-1.13255</td>\n",
       "      <td>7.27561</td>\n",
       "      <td>0.71418</td>\n",
       "      <td>2.77876</td>\n",
       "      <td>0.13787</td>\n",
       "    </tr>\n",
       "    <tr>\n",
       "      <th>3</th>\n",
       "      <td>-0.26932</td>\n",
       "      <td>4.69477</td>\n",
       "      <td>0.84722</td>\n",
       "      <td>2.52450</td>\n",
       "      <td>0.25661</td>\n",
       "    </tr>\n",
       "    <tr>\n",
       "      <th>4</th>\n",
       "      <td>-0.42930</td>\n",
       "      <td>4.28503</td>\n",
       "      <td>0.82325</td>\n",
       "      <td>3.44803</td>\n",
       "      <td>0.67477</td>\n",
       "    </tr>\n",
       "    <tr>\n",
       "      <th>...</th>\n",
       "      <td>...</td>\n",
       "      <td>...</td>\n",
       "      <td>...</td>\n",
       "      <td>...</td>\n",
       "      <td>...</td>\n",
       "    </tr>\n",
       "    <tr>\n",
       "      <th>1210</th>\n",
       "      <td>-0.60693</td>\n",
       "      <td>4.05761</td>\n",
       "      <td>0.81840</td>\n",
       "      <td>3.93433</td>\n",
       "      <td>1.00507</td>\n",
       "    </tr>\n",
       "    <tr>\n",
       "      <th>1211</th>\n",
       "      <td>-1.06060</td>\n",
       "      <td>5.88918</td>\n",
       "      <td>0.69919</td>\n",
       "      <td>3.26680</td>\n",
       "      <td>0.21383</td>\n",
       "    </tr>\n",
       "    <tr>\n",
       "      <th>1212</th>\n",
       "      <td>-0.01748</td>\n",
       "      <td>0.47794</td>\n",
       "      <td>0.79729</td>\n",
       "      <td>4.17075</td>\n",
       "      <td>0.26672</td>\n",
       "    </tr>\n",
       "    <tr>\n",
       "      <th>1213</th>\n",
       "      <td>-0.96432</td>\n",
       "      <td>3.58069</td>\n",
       "      <td>0.72942</td>\n",
       "      <td>4.38954</td>\n",
       "      <td>0.24661</td>\n",
       "    </tr>\n",
       "    <tr>\n",
       "      <th>1214</th>\n",
       "      <td>-2.40458</td>\n",
       "      <td>7.54938</td>\n",
       "      <td>0.63176</td>\n",
       "      <td>5.13474</td>\n",
       "      <td>0.17426</td>\n",
       "    </tr>\n",
       "  </tbody>\n",
       "</table>\n",
       "<p>1204 rows × 5 columns</p>\n",
       "</div>"
      ],
      "text/plain": [
       "      Affinity     RMSD  CNNscore  CNNaffinity  CNNvariance\n",
       "0     -0.00269  0.52667   0.80086      3.12613      0.48702\n",
       "1      0.00000  0.16550   0.86657      2.92424      0.50314\n",
       "2     -1.13255  7.27561   0.71418      2.77876      0.13787\n",
       "3     -0.26932  4.69477   0.84722      2.52450      0.25661\n",
       "4     -0.42930  4.28503   0.82325      3.44803      0.67477\n",
       "...        ...      ...       ...          ...          ...\n",
       "1210  -0.60693  4.05761   0.81840      3.93433      1.00507\n",
       "1211  -1.06060  5.88918   0.69919      3.26680      0.21383\n",
       "1212  -0.01748  0.47794   0.79729      4.17075      0.26672\n",
       "1213  -0.96432  3.58069   0.72942      4.38954      0.24661\n",
       "1214  -2.40458  7.54938   0.63176      5.13474      0.17426\n",
       "\n",
       "[1204 rows x 5 columns]"
      ]
     },
     "execution_count": 210,
     "metadata": {},
     "output_type": "execute_result"
    }
   ],
   "source": [
    "dumb_data.drop(indices)"
   ]
  },
  {
   "cell_type": "code",
   "execution_count": 202,
   "metadata": {},
   "outputs": [
    {
     "ename": "ValueError",
     "evalue": "x and y must have same first dimension, but have shapes (1215,) and (1205,)",
     "output_type": "error",
     "traceback": [
      "\u001b[0;31m---------------------------------------------------------------------------\u001b[0m",
      "\u001b[0;31mValueError\u001b[0m                                Traceback (most recent call last)",
      "\u001b[0;32m/tmp/ipykernel_488/3792611425.py\u001b[0m in \u001b[0;36m<module>\u001b[0;34m\u001b[0m\n\u001b[0;32m----> 1\u001b[0;31m \u001b[0mplt\u001b[0m\u001b[0;34m.\u001b[0m\u001b[0mplot\u001b[0m\u001b[0;34m(\u001b[0m\u001b[0mdumb_data\u001b[0m\u001b[0;34m.\u001b[0m\u001b[0mCNNaffinity\u001b[0m\u001b[0;34m,\u001b[0m \u001b[0mload_once_data\u001b[0m\u001b[0;34m.\u001b[0m\u001b[0mCNNaffinity\u001b[0m\u001b[0;34m)\u001b[0m\u001b[0;34m\u001b[0m\u001b[0;34m\u001b[0m\u001b[0m\n\u001b[0m",
      "\u001b[0;32m~/anaconda3/envs/equibind/lib/python3.7/site-packages/matplotlib/pyplot.py\u001b[0m in \u001b[0;36mplot\u001b[0;34m(scalex, scaley, data, *args, **kwargs)\u001b[0m\n\u001b[1;32m   2757\u001b[0m     return gca().plot(\n\u001b[1;32m   2758\u001b[0m         \u001b[0;34m*\u001b[0m\u001b[0margs\u001b[0m\u001b[0;34m,\u001b[0m \u001b[0mscalex\u001b[0m\u001b[0;34m=\u001b[0m\u001b[0mscalex\u001b[0m\u001b[0;34m,\u001b[0m \u001b[0mscaley\u001b[0m\u001b[0;34m=\u001b[0m\u001b[0mscaley\u001b[0m\u001b[0;34m,\u001b[0m\u001b[0;34m\u001b[0m\u001b[0;34m\u001b[0m\u001b[0m\n\u001b[0;32m-> 2759\u001b[0;31m         **({\"data\": data} if data is not None else {}), **kwargs)\n\u001b[0m\u001b[1;32m   2760\u001b[0m \u001b[0;34m\u001b[0m\u001b[0m\n\u001b[1;32m   2761\u001b[0m \u001b[0;34m\u001b[0m\u001b[0m\n",
      "\u001b[0;32m~/anaconda3/envs/equibind/lib/python3.7/site-packages/matplotlib/axes/_axes.py\u001b[0m in \u001b[0;36mplot\u001b[0;34m(self, scalex, scaley, data, *args, **kwargs)\u001b[0m\n\u001b[1;32m   1630\u001b[0m         \"\"\"\n\u001b[1;32m   1631\u001b[0m         \u001b[0mkwargs\u001b[0m \u001b[0;34m=\u001b[0m \u001b[0mcbook\u001b[0m\u001b[0;34m.\u001b[0m\u001b[0mnormalize_kwargs\u001b[0m\u001b[0;34m(\u001b[0m\u001b[0mkwargs\u001b[0m\u001b[0;34m,\u001b[0m \u001b[0mmlines\u001b[0m\u001b[0;34m.\u001b[0m\u001b[0mLine2D\u001b[0m\u001b[0;34m)\u001b[0m\u001b[0;34m\u001b[0m\u001b[0;34m\u001b[0m\u001b[0m\n\u001b[0;32m-> 1632\u001b[0;31m         \u001b[0mlines\u001b[0m \u001b[0;34m=\u001b[0m \u001b[0;34m[\u001b[0m\u001b[0;34m*\u001b[0m\u001b[0mself\u001b[0m\u001b[0;34m.\u001b[0m\u001b[0m_get_lines\u001b[0m\u001b[0;34m(\u001b[0m\u001b[0;34m*\u001b[0m\u001b[0margs\u001b[0m\u001b[0;34m,\u001b[0m \u001b[0mdata\u001b[0m\u001b[0;34m=\u001b[0m\u001b[0mdata\u001b[0m\u001b[0;34m,\u001b[0m \u001b[0;34m**\u001b[0m\u001b[0mkwargs\u001b[0m\u001b[0;34m)\u001b[0m\u001b[0;34m]\u001b[0m\u001b[0;34m\u001b[0m\u001b[0;34m\u001b[0m\u001b[0m\n\u001b[0m\u001b[1;32m   1633\u001b[0m         \u001b[0;32mfor\u001b[0m \u001b[0mline\u001b[0m \u001b[0;32min\u001b[0m \u001b[0mlines\u001b[0m\u001b[0;34m:\u001b[0m\u001b[0;34m\u001b[0m\u001b[0;34m\u001b[0m\u001b[0m\n\u001b[1;32m   1634\u001b[0m             \u001b[0mself\u001b[0m\u001b[0;34m.\u001b[0m\u001b[0madd_line\u001b[0m\u001b[0;34m(\u001b[0m\u001b[0mline\u001b[0m\u001b[0;34m)\u001b[0m\u001b[0;34m\u001b[0m\u001b[0;34m\u001b[0m\u001b[0m\n",
      "\u001b[0;32m~/anaconda3/envs/equibind/lib/python3.7/site-packages/matplotlib/axes/_base.py\u001b[0m in \u001b[0;36m__call__\u001b[0;34m(self, data, *args, **kwargs)\u001b[0m\n\u001b[1;32m    310\u001b[0m                 \u001b[0mthis\u001b[0m \u001b[0;34m+=\u001b[0m \u001b[0margs\u001b[0m\u001b[0;34m[\u001b[0m\u001b[0;36m0\u001b[0m\u001b[0;34m]\u001b[0m\u001b[0;34m,\u001b[0m\u001b[0;34m\u001b[0m\u001b[0;34m\u001b[0m\u001b[0m\n\u001b[1;32m    311\u001b[0m                 \u001b[0margs\u001b[0m \u001b[0;34m=\u001b[0m \u001b[0margs\u001b[0m\u001b[0;34m[\u001b[0m\u001b[0;36m1\u001b[0m\u001b[0;34m:\u001b[0m\u001b[0;34m]\u001b[0m\u001b[0;34m\u001b[0m\u001b[0;34m\u001b[0m\u001b[0m\n\u001b[0;32m--> 312\u001b[0;31m             \u001b[0;32myield\u001b[0m \u001b[0;32mfrom\u001b[0m \u001b[0mself\u001b[0m\u001b[0;34m.\u001b[0m\u001b[0m_plot_args\u001b[0m\u001b[0;34m(\u001b[0m\u001b[0mthis\u001b[0m\u001b[0;34m,\u001b[0m \u001b[0mkwargs\u001b[0m\u001b[0;34m)\u001b[0m\u001b[0;34m\u001b[0m\u001b[0;34m\u001b[0m\u001b[0m\n\u001b[0m\u001b[1;32m    313\u001b[0m \u001b[0;34m\u001b[0m\u001b[0m\n\u001b[1;32m    314\u001b[0m     \u001b[0;32mdef\u001b[0m \u001b[0mget_next_color\u001b[0m\u001b[0;34m(\u001b[0m\u001b[0mself\u001b[0m\u001b[0;34m)\u001b[0m\u001b[0;34m:\u001b[0m\u001b[0;34m\u001b[0m\u001b[0;34m\u001b[0m\u001b[0m\n",
      "\u001b[0;32m~/anaconda3/envs/equibind/lib/python3.7/site-packages/matplotlib/axes/_base.py\u001b[0m in \u001b[0;36m_plot_args\u001b[0;34m(self, tup, kwargs, return_kwargs)\u001b[0m\n\u001b[1;32m    496\u001b[0m \u001b[0;34m\u001b[0m\u001b[0m\n\u001b[1;32m    497\u001b[0m         \u001b[0;32mif\u001b[0m \u001b[0mx\u001b[0m\u001b[0;34m.\u001b[0m\u001b[0mshape\u001b[0m\u001b[0;34m[\u001b[0m\u001b[0;36m0\u001b[0m\u001b[0;34m]\u001b[0m \u001b[0;34m!=\u001b[0m \u001b[0my\u001b[0m\u001b[0;34m.\u001b[0m\u001b[0mshape\u001b[0m\u001b[0;34m[\u001b[0m\u001b[0;36m0\u001b[0m\u001b[0;34m]\u001b[0m\u001b[0;34m:\u001b[0m\u001b[0;34m\u001b[0m\u001b[0;34m\u001b[0m\u001b[0m\n\u001b[0;32m--> 498\u001b[0;31m             raise ValueError(f\"x and y must have same first dimension, but \"\n\u001b[0m\u001b[1;32m    499\u001b[0m                              f\"have shapes {x.shape} and {y.shape}\")\n\u001b[1;32m    500\u001b[0m         \u001b[0;32mif\u001b[0m \u001b[0mx\u001b[0m\u001b[0;34m.\u001b[0m\u001b[0mndim\u001b[0m \u001b[0;34m>\u001b[0m \u001b[0;36m2\u001b[0m \u001b[0;32mor\u001b[0m \u001b[0my\u001b[0m\u001b[0;34m.\u001b[0m\u001b[0mndim\u001b[0m \u001b[0;34m>\u001b[0m \u001b[0;36m2\u001b[0m\u001b[0;34m:\u001b[0m\u001b[0;34m\u001b[0m\u001b[0;34m\u001b[0m\u001b[0m\n",
      "\u001b[0;31mValueError\u001b[0m: x and y must have same first dimension, but have shapes (1215,) and (1205,)"
     ]
    },
    {
     "data": {
      "image/png": "[encoded data removed]",
      "text/plain": [
       "<Figure size 432x288 with 1 Axes>"
      ]
     },
     "metadata": {
      "needs_background": "light"
     },
     "output_type": "display_data"
    }
   ],
   "source": [
    "plt.plot(dumb_data.CNNaffinity, load_once_data.CNNaffinity)"
   ]
  },
  {
   "cell_type": "code",
   "execution_count": 62,
   "metadata": {},
   "outputs": [
    {
     "data": {
      "text/plain": [
       "(array([  5.,  34., 131., 199., 289., 270., 179.,  67.,  24.,   7.]),\n",
       " array([1.88662 , 2.333975, 2.78133 , 3.228685, 3.67604 , 4.123395,\n",
       "        4.57075 , 5.018105, 5.46546 , 5.912815, 6.36017 ]),\n",
       " <BarContainer object of 10 artists>)"
      ]
     },
     "execution_count": 62,
     "metadata": {},
     "output_type": "execute_result"
    },
    {
     "data": {
      "image/png": "[encoded data removed]",
      "text/plain": [
       "<Figure size 432x288 with 1 Axes>"
      ]
     },
     "metadata": {
      "needs_background": "light"
     },
     "output_type": "display_data"
    }
   ],
   "source": [
    "plt.hist(load_once_data.CNNaffinity)"
   ]
  },
  {
   "cell_type": "code",
   "execution_count": 63,
   "metadata": {},
   "outputs": [
    {
     "data": {
      "text/plain": [
       "(array([  4.,  23., 113., 210., 285., 281., 195.,  61.,  28.,   5.]),\n",
       " array([1.72965 , 2.203356, 2.677062, 3.150768, 3.624474, 4.09818 ,\n",
       "        4.571886, 5.045592, 5.519298, 5.993004, 6.46671 ]),\n",
       " <BarContainer object of 10 artists>)"
      ]
     },
     "execution_count": 63,
     "metadata": {},
     "output_type": "execute_result"
    },
    {
     "data": {
      "image/png": "[encoded data removed]",
      "text/plain": [
       "<Figure size 432x288 with 1 Axes>"
      ]
     },
     "metadata": {
      "needs_background": "light"
     },
     "output_type": "display_data"
    }
   ],
   "source": [
    "plt.hist(reload_data.CNNaffinity)"
   ]
  },
  {
   "cell_type": "code",
   "execution_count": 67,
   "metadata": {},
   "outputs": [
    {
     "data": {
      "text/plain": [
       "[<matplotlib.lines.Line2D at 0x7f0ce188c6d0>]"
      ]
     },
     "execution_count": 67,
     "metadata": {},
     "output_type": "execute_result"
    },
    {
     "data": {
      "image/png": "[encoded data removed]",
      "text/plain": [
       "<Figure size 432x288 with 1 Axes>"
      ]
     },
     "metadata": {
      "needs_background": "light"
     },
     "output_type": "display_data"
    }
   ],
   "source": [
    "plt.plot(reload_data.CNNaffinity, load_once_data.CNNaffinity, \".\")"
   ]
  },
  {
   "cell_type": "code",
   "execution_count": 74,
   "metadata": {},
   "outputs": [
    {
     "data": {
      "text/plain": [
       "0       2.83790\n",
       "1       3.73651\n",
       "2       2.69370\n",
       "3       2.70832\n",
       "4       3.77483\n",
       "         ...   \n",
       "1200    4.19442\n",
       "1201    3.28424\n",
       "1202    4.47954\n",
       "1203    3.52069\n",
       "1204    5.16753\n",
       "Name: CNNaffinity, Length: 1205, dtype: float64"
      ]
     },
     "execution_count": 74,
     "metadata": {},
     "output_type": "execute_result"
    }
   ],
   "source": [
    "load_once_data.CNNaffinity"
   ]
  },
  {
   "cell_type": "code",
   "execution_count": 79,
   "metadata": {},
   "outputs": [
    {
     "data": {
      "text/plain": [
       "228"
      ]
     },
     "execution_count": 79,
     "metadata": {},
     "output_type": "execute_result"
    }
   ],
   "source": [
    "((reload_data.CNNaffinity - load_once_data.CNNaffinity).abs() < 0.01).sum()"
   ]
  },
  {
   "cell_type": "code",
   "execution_count": null,
   "metadata": {},
   "outputs": [],
   "source": [
    "plt.plot(reload_data.CNNaffinity, load_once_data.CNNaffinity, \".\")"
   ]
  },
  {
   "cell_type": "code",
   "execution_count": 243,
   "metadata": {},
   "outputs": [
    {
     "data": {
      "text/html": [
       "<div>\n",
       "<style scoped>\n",
       "    .dataframe tbody tr th:only-of-type {\n",
       "        vertical-align: middle;\n",
       "    }\n",
       "\n",
       "    .dataframe tbody tr th {\n",
       "        vertical-align: top;\n",
       "    }\n",
       "\n",
       "    .dataframe thead th {\n",
       "        text-align: right;\n",
       "    }\n",
       "</style>\n",
       "<table border=\"1\" class=\"dataframe\">\n",
       "  <thead>\n",
       "    <tr style=\"text-align: right;\">\n",
       "      <th></th>\n",
       "      <th>Affinity</th>\n",
       "      <th>RMSD</th>\n",
       "      <th>CNNscore</th>\n",
       "      <th>CNNaffinity</th>\n",
       "      <th>CNNvariance</th>\n",
       "    </tr>\n",
       "  </thead>\n",
       "  <tbody>\n",
       "    <tr>\n",
       "      <th>2</th>\n",
       "      <td>-1.30736</td>\n",
       "      <td>7.68524</td>\n",
       "      <td>0.34334</td>\n",
       "      <td>3.73651</td>\n",
       "      <td>0.09872</td>\n",
       "    </tr>\n",
       "    <tr>\n",
       "      <th>0</th>\n",
       "      <td>-3.57964</td>\n",
       "      <td>7.24013</td>\n",
       "      <td>0.36294</td>\n",
       "      <td>3.77483</td>\n",
       "      <td>0.03975</td>\n",
       "    </tr>\n",
       "    <tr>\n",
       "      <th>3</th>\n",
       "      <td>-2.28624</td>\n",
       "      <td>5.48663</td>\n",
       "      <td>0.35660</td>\n",
       "      <td>2.70832</td>\n",
       "      <td>0.15356</td>\n",
       "    </tr>\n",
       "    <tr>\n",
       "      <th>5</th>\n",
       "      <td>-3.29877</td>\n",
       "      <td>5.41407</td>\n",
       "      <td>0.39026</td>\n",
       "      <td>2.69370</td>\n",
       "      <td>0.12786</td>\n",
       "    </tr>\n",
       "    <tr>\n",
       "      <th>4</th>\n",
       "      <td>-4.67143</td>\n",
       "      <td>6.30009</td>\n",
       "      <td>0.28671</td>\n",
       "      <td>3.09066</td>\n",
       "      <td>0.41060</td>\n",
       "    </tr>\n",
       "    <tr>\n",
       "      <th>...</th>\n",
       "      <td>...</td>\n",
       "      <td>...</td>\n",
       "      <td>...</td>\n",
       "      <td>...</td>\n",
       "      <td>...</td>\n",
       "    </tr>\n",
       "    <tr>\n",
       "      <th>1200</th>\n",
       "      <td>-3.77239</td>\n",
       "      <td>5.08395</td>\n",
       "      <td>0.42092</td>\n",
       "      <td>4.19442</td>\n",
       "      <td>0.14099</td>\n",
       "    </tr>\n",
       "    <tr>\n",
       "      <th>1201</th>\n",
       "      <td>-1.89935</td>\n",
       "      <td>7.70605</td>\n",
       "      <td>0.42754</td>\n",
       "      <td>3.28424</td>\n",
       "      <td>0.72305</td>\n",
       "    </tr>\n",
       "    <tr>\n",
       "      <th>1202</th>\n",
       "      <td>1.28221</td>\n",
       "      <td>10.67422</td>\n",
       "      <td>0.61828</td>\n",
       "      <td>4.47954</td>\n",
       "      <td>0.29119</td>\n",
       "    </tr>\n",
       "    <tr>\n",
       "      <th>1203</th>\n",
       "      <td>77.99104</td>\n",
       "      <td>3.34422</td>\n",
       "      <td>0.00935</td>\n",
       "      <td>3.52069</td>\n",
       "      <td>1.36106</td>\n",
       "    </tr>\n",
       "    <tr>\n",
       "      <th>1204</th>\n",
       "      <td>-3.16067</td>\n",
       "      <td>5.08547</td>\n",
       "      <td>0.49930</td>\n",
       "      <td>5.16753</td>\n",
       "      <td>0.03883</td>\n",
       "    </tr>\n",
       "  </tbody>\n",
       "</table>\n",
       "<p>1205 rows × 5 columns</p>\n",
       "</div>"
      ],
      "text/plain": [
       "      Affinity      RMSD  CNNscore  CNNaffinity  CNNvariance\n",
       "2     -1.30736   7.68524   0.34334      3.73651      0.09872\n",
       "0     -3.57964   7.24013   0.36294      3.77483      0.03975\n",
       "3     -2.28624   5.48663   0.35660      2.70832      0.15356\n",
       "5     -3.29877   5.41407   0.39026      2.69370      0.12786\n",
       "4     -4.67143   6.30009   0.28671      3.09066      0.41060\n",
       "...        ...       ...       ...          ...          ...\n",
       "1200  -3.77239   5.08395   0.42092      4.19442      0.14099\n",
       "1201  -1.89935   7.70605   0.42754      3.28424      0.72305\n",
       "1202   1.28221  10.67422   0.61828      4.47954      0.29119\n",
       "1203  77.99104   3.34422   0.00935      3.52069      1.36106\n",
       "1204  -3.16067   5.08547   0.49930      5.16753      0.03883\n",
       "\n",
       "[1205 rows x 5 columns]"
      ]
     },
     "execution_count": 243,
     "metadata": {},
     "output_type": "execute_result"
    }
   ],
   "source": [
    "fp = \"/home/amfaber/equibind/load_once_gnina.txt\"\n",
    "out = {}\n",
    "with open(fp) as file:\n",
    "    s = file.read()\n",
    "s = s.split(\"---BEGIN DATA---\\n\")[1]\n",
    "s = s.split(\"## \")[1:]\n",
    "for mol in s:\n",
    "    mol = re.split(\" |\\n\", mol, 2)\n",
    "    idx, name = mol[:2]\n",
    "    idx = int(idx)\n",
    "    out[idx] = {}\n",
    "    for match in re.findall(\"[a-zA-Z]+: -?[0-9]+\\.?[0-9]*\", mol[2]):\n",
    "        key, val = match.split(\": \")\n",
    "        val = float(val)\n",
    "        out[idx][key] = val\n",
    "pd.DataFrame(out).T"
   ]
  },
  {
   "cell_type": "code",
   "execution_count": 242,
   "metadata": {},
   "outputs": [
    {
     "data": {
      "text/html": [
       "<div>\n",
       "<style scoped>\n",
       "    .dataframe tbody tr th:only-of-type {\n",
       "        vertical-align: middle;\n",
       "    }\n",
       "\n",
       "    .dataframe tbody tr th {\n",
       "        vertical-align: top;\n",
       "    }\n",
       "\n",
       "    .dataframe thead th {\n",
       "        text-align: right;\n",
       "    }\n",
       "</style>\n",
       "<table border=\"1\" class=\"dataframe\">\n",
       "  <thead>\n",
       "    <tr style=\"text-align: right;\">\n",
       "      <th></th>\n",
       "      <th>Affinity</th>\n",
       "      <th>RMSD</th>\n",
       "      <th>CNNscore</th>\n",
       "      <th>CNNaffinity</th>\n",
       "      <th>CNNvariance</th>\n",
       "    </tr>\n",
       "  </thead>\n",
       "  <tbody>\n",
       "    <tr>\n",
       "      <th>2</th>\n",
       "      <td>-1.30736</td>\n",
       "      <td>7.68524</td>\n",
       "      <td>0.34334</td>\n",
       "      <td>3.73651</td>\n",
       "      <td>0.09872</td>\n",
       "    </tr>\n",
       "    <tr>\n",
       "      <th>0</th>\n",
       "      <td>-3.57964</td>\n",
       "      <td>7.24013</td>\n",
       "      <td>0.36294</td>\n",
       "      <td>3.77483</td>\n",
       "      <td>0.03975</td>\n",
       "    </tr>\n",
       "    <tr>\n",
       "      <th>3</th>\n",
       "      <td>-2.28624</td>\n",
       "      <td>5.48663</td>\n",
       "      <td>0.35660</td>\n",
       "      <td>2.70832</td>\n",
       "      <td>0.15356</td>\n",
       "    </tr>\n",
       "    <tr>\n",
       "      <th>5</th>\n",
       "      <td>-3.29877</td>\n",
       "      <td>5.41407</td>\n",
       "      <td>0.39026</td>\n",
       "      <td>2.69370</td>\n",
       "      <td>0.12786</td>\n",
       "    </tr>\n",
       "    <tr>\n",
       "      <th>4</th>\n",
       "      <td>-4.67143</td>\n",
       "      <td>6.30009</td>\n",
       "      <td>0.28671</td>\n",
       "      <td>3.09066</td>\n",
       "      <td>0.41060</td>\n",
       "    </tr>\n",
       "    <tr>\n",
       "      <th>...</th>\n",
       "      <td>...</td>\n",
       "      <td>...</td>\n",
       "      <td>...</td>\n",
       "      <td>...</td>\n",
       "      <td>...</td>\n",
       "    </tr>\n",
       "    <tr>\n",
       "      <th>1200</th>\n",
       "      <td>-3.77239</td>\n",
       "      <td>5.08395</td>\n",
       "      <td>0.42092</td>\n",
       "      <td>4.19442</td>\n",
       "      <td>0.14099</td>\n",
       "    </tr>\n",
       "    <tr>\n",
       "      <th>1201</th>\n",
       "      <td>-1.89935</td>\n",
       "      <td>7.70605</td>\n",
       "      <td>0.42754</td>\n",
       "      <td>3.28424</td>\n",
       "      <td>0.72305</td>\n",
       "    </tr>\n",
       "    <tr>\n",
       "      <th>1202</th>\n",
       "      <td>1.28221</td>\n",
       "      <td>10.67422</td>\n",
       "      <td>0.61828</td>\n",
       "      <td>4.47954</td>\n",
       "      <td>0.29119</td>\n",
       "    </tr>\n",
       "    <tr>\n",
       "      <th>1203</th>\n",
       "      <td>77.99104</td>\n",
       "      <td>3.34422</td>\n",
       "      <td>0.00935</td>\n",
       "      <td>3.52069</td>\n",
       "      <td>1.36106</td>\n",
       "    </tr>\n",
       "    <tr>\n",
       "      <th>1204</th>\n",
       "      <td>-3.16067</td>\n",
       "      <td>5.08547</td>\n",
       "      <td>0.49930</td>\n",
       "      <td>5.16753</td>\n",
       "      <td>0.03883</td>\n",
       "    </tr>\n",
       "  </tbody>\n",
       "</table>\n",
       "<p>1205 rows × 5 columns</p>\n",
       "</div>"
      ],
      "text/plain": [
       "      Affinity      RMSD  CNNscore  CNNaffinity  CNNvariance\n",
       "2     -1.30736   7.68524   0.34334      3.73651      0.09872\n",
       "0     -3.57964   7.24013   0.36294      3.77483      0.03975\n",
       "3     -2.28624   5.48663   0.35660      2.70832      0.15356\n",
       "5     -3.29877   5.41407   0.39026      2.69370      0.12786\n",
       "4     -4.67143   6.30009   0.28671      3.09066      0.41060\n",
       "...        ...       ...       ...          ...          ...\n",
       "1200  -3.77239   5.08395   0.42092      4.19442      0.14099\n",
       "1201  -1.89935   7.70605   0.42754      3.28424      0.72305\n",
       "1202   1.28221  10.67422   0.61828      4.47954      0.29119\n",
       "1203  77.99104   3.34422   0.00935      3.52069      1.36106\n",
       "1204  -3.16067   5.08547   0.49930      5.16753      0.03883\n",
       "\n",
       "[1205 rows x 5 columns]"
      ]
     },
     "execution_count": 242,
     "metadata": {},
     "output_type": "execute_result"
    }
   ],
   "source": [
    "pd.DataFrame(out).T"
   ]
  },
  {
   "cell_type": "code",
   "execution_count": 259,
   "metadata": {},
   "outputs": [
    {
     "ename": "ImportError",
     "evalue": "cannot import name 'load_bulk2' from 'futils.loaders' (/home/amfaber/python_scripts/futils/loaders.py)",
     "output_type": "error",
     "traceback": [
      "\u001b[0;31m---------------------------------------------------------------------------\u001b[0m",
      "\u001b[0;31mImportError\u001b[0m                               Traceback (most recent call last)",
      "\u001b[0;32m/tmp/ipykernel_488/822201045.py\u001b[0m in \u001b[0;36m<module>\u001b[0;34m\u001b[0m\n\u001b[0;32m----> 1\u001b[0;31m \u001b[0;32mfrom\u001b[0m \u001b[0mfutils\u001b[0m\u001b[0;34m.\u001b[0m\u001b[0mloaders\u001b[0m \u001b[0;32mimport\u001b[0m \u001b[0mload_bulk2\u001b[0m\u001b[0;34m\u001b[0m\u001b[0;34m\u001b[0m\u001b[0m\n\u001b[0m",
      "\u001b[0;31mImportError\u001b[0m: cannot import name 'load_bulk2' from 'futils.loaders' (/home/amfaber/python_scripts/futils/loaders.py)"
     ]
    }
   ],
   "source": [
    "from futils.loaders import load_bulk2"
   ]
  },
  {
   "cell_type": "code",
   "execution_count": 55,
   "metadata": {},
   "outputs": [],
   "source": [
    "fp = \"/home/amfaber/equibind/load_once_gnina.txt\"\n",
    "out = {}\n",
    "with open(fp) as file:\n",
    "    s = file.read()\n",
    "for match in re.findall(\"[a-zA-Z]+: -?[0-9]+\\.?[0-9]*\", s):\n",
    "    key, value = match.split(\": \")\n",
    "    try:\n",
    "        out[key].append(float(value))\n",
    "    except KeyError:\n",
    "        out[key] = [float(value)]\n"
   ]
  },
  {
   "cell_type": "code",
   "execution_count": 82,
   "metadata": {},
   "outputs": [
    {
     "data": {
      "text/plain": [
       "(array([  9.,  53., 114., 181., 288., 326., 160.,  61.,  16.,   7.]),\n",
       " array([1.84742 , 2.270442, 2.693464, 3.116486, 3.539508, 3.96253 ,\n",
       "        4.385552, 4.808574, 5.231596, 5.654618, 6.07764 ]),\n",
       " <BarContainer object of 10 artists>)"
      ]
     },
     "execution_count": 82,
     "metadata": {},
     "output_type": "execute_result"
    },
    {
     "data": {
      "image/png": "[encoded data removed]",
      "text/plain": [
       "<Figure size 432x288 with 1 Axes>"
      ]
     },
     "metadata": {
      "needs_background": "light"
     },
     "output_type": "display_data"
    }
   ],
   "source": [
    "plt.hist(dumb_data.CNNaffinity)"
   ]
  },
  {
   "cell_type": "code",
   "execution_count": 83,
   "metadata": {},
   "outputs": [
    {
     "data": {
      "text/plain": [
       "(array([  2.,   0.,   3.,  13.,  49., 114., 190., 261., 335., 248.]),\n",
       " array([0.31819 , 0.378201, 0.438212, 0.498223, 0.558234, 0.618245,\n",
       "        0.678256, 0.738267, 0.798278, 0.858289, 0.9183  ]),\n",
       " <BarContainer object of 10 artists>)"
      ]
     },
     "execution_count": 83,
     "metadata": {},
     "output_type": "execute_result"
    },
    {
     "data": {
      "image/png": "[encoded data removed]",
      "text/plain": [
       "<Figure size 432x288 with 1 Axes>"
      ]
     },
     "metadata": {
      "needs_background": "light"
     },
     "output_type": "display_data"
    }
   ],
   "source": [
    "plt.hist(dumb_data.CNNscore)"
   ]
  },
  {
   "cell_type": "code",
   "execution_count": 84,
   "metadata": {},
   "outputs": [
    {
     "data": {
      "text/plain": [
       "(array([106.,  66., 100., 137., 166., 160., 186., 150.,  93.,  41.]),\n",
       " array([1.00000e-05, 9.33980e-02, 1.86786e-01, 2.80174e-01, 3.73562e-01,\n",
       "        4.66950e-01, 5.60338e-01, 6.53726e-01, 7.47114e-01, 8.40502e-01,\n",
       "        9.33890e-01]),\n",
       " <BarContainer object of 10 artists>)"
      ]
     },
     "execution_count": 84,
     "metadata": {},
     "output_type": "execute_result"
    },
    {
     "data": {
      "image/png": "[encoded data removed]",
      "text/plain": [
       "<Figure size 432x288 with 1 Axes>"
      ]
     },
     "metadata": {
      "needs_background": "light"
     },
     "output_type": "display_data"
    }
   ],
   "source": [
    "plt.hist(reload_data.CNNscore)"
   ]
  },
  {
   "cell_type": "code",
   "execution_count": 85,
   "metadata": {},
   "outputs": [
    {
     "data": {
      "text/plain": [
       "(array([107.,  69.,  98., 127., 150., 187., 189., 142.,  85.,  51.]),\n",
       " array([1.00000e-05, 9.28860e-02, 1.85762e-01, 2.78638e-01, 3.71514e-01,\n",
       "        4.64390e-01, 5.57266e-01, 6.50142e-01, 7.43018e-01, 8.35894e-01,\n",
       "        9.28770e-01]),\n",
       " <BarContainer object of 10 artists>)"
      ]
     },
     "execution_count": 85,
     "metadata": {},
     "output_type": "execute_result"
    },
    {
     "data": {
      "image/png": "[encoded data removed]",
      "text/plain": [
       "<Figure size 432x288 with 1 Axes>"
      ]
     },
     "metadata": {
      "needs_background": "light"
     },
     "output_type": "display_data"
    }
   ],
   "source": [
    "plt.hist(load_once_data.CNNscore)"
   ]
  },
  {
   "cell_type": "code",
   "execution_count": null,
   "metadata": {},
   "outputs": [],
   "source": []
  }
 ],
 "metadata": {
  "interpreter": {
   "hash": "e2119a0a3301249aa1af3f612a7b1c0027908ee501c6b62aaf0fd0c409e1d1ad"
  },
  "kernelspec": {
   "display_name": "Python 3.7.12 ('equibind': conda)",
   "language": "python",
   "name": "python3"
  },
  "language_info": {
   "codemirror_mode": {
    "name": "ipython",
    "version": 3
   },
   "file_extension": ".py",
   "mimetype": "text/x-python",
   "name": "python",
   "nbconvert_exporter": "python",
   "pygments_lexer": "ipython3",
   "version": "3.7.12"
  },
  "orig_nbformat": 4
 },
 "nbformat": 4,
 "nbformat_minor": 2
}
