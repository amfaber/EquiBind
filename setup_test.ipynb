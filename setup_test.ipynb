{
 "cells": [
  {
   "cell_type": "code",
   "execution_count": 3,
   "metadata": {},
   "outputs": [],
   "source": [
    "import rdkit.Chem as Chem\n",
    "import os\n",
    "from os.path import join\n",
    "import argparse\n",
    "\n",
    "supp = Chem.SDMolSupplier(\"../data/raw_data/cyp_screen/test_3D_opt_1216.sdf\", removeHs = False)\n",
    "it = iter(supp)\n",
    "mols = []\n",
    "for i in range(10):\n",
    "    mols.append(next(it))\n",
    "\n",
    "\n",
    "trad = \"equibind_inference_test/traditional\"\n",
    "os.makedirs(join(\"data\", trad), exist_ok = True)\n",
    "with Chem.SDWriter(\"data/equibind_inference_test/first_10_ligs.sdf\") as file:\n",
    "    for mol in mols:\n",
    "        path = join(\"data\", trad, mol.GetProp('_Name').replace(\" \", \"_\"))\n",
    "        os.makedirs(path, exist_ok=True)\n",
    "        with Chem.SDWriter(join(path, \"ligand.sdf\")) as file2:\n",
    "            file2.write(mol)\n",
    "        file.write(mol)\n"
   ]
  },
  {
   "cell_type": "code",
   "execution_count": 43,
   "metadata": {},
   "outputs": [],
   "source": [
    "from futils import loaders"
   ]
  },
  {
   "cell_type": "code",
   "execution_count": 71,
   "metadata": {},
   "outputs": [],
   "source": [
    "idk1 = loaders.load_bulk2(\"data/equibind_inference_test/gnina/old.txt\")\n",
    "idk2 = loaders.load_bulk2(\"data/equibind_inference_test/gnina/new.txt\")\n",
    "idk1 = idk1.sort_index()\n",
    "idk2 = idk2.sort_index()"
   ]
  },
  {
   "cell_type": "code",
   "execution_count": 77,
   "metadata": {},
   "outputs": [
    {
     "data": {
      "text/html": [
       "<div>\n",
       "<style scoped>\n",
       "    .dataframe tbody tr th:only-of-type {\n",
       "        vertical-align: middle;\n",
       "    }\n",
       "\n",
       "    .dataframe tbody tr th {\n",
       "        vertical-align: top;\n",
       "    }\n",
       "\n",
       "    .dataframe thead th {\n",
       "        text-align: right;\n",
       "    }\n",
       "</style>\n",
       "<table border=\"1\" class=\"dataframe\">\n",
       "  <thead>\n",
       "    <tr style=\"text-align: right;\">\n",
       "      <th></th>\n",
       "      <th>Affinity_x</th>\n",
       "      <th>RMSD_x</th>\n",
       "      <th>CNNscore_x</th>\n",
       "      <th>CNNaffinity_x</th>\n",
       "      <th>CNNvariance_x</th>\n",
       "      <th>Affinity_y</th>\n",
       "      <th>RMSD_y</th>\n",
       "      <th>CNNscore_y</th>\n",
       "      <th>CNNaffinity_y</th>\n",
       "      <th>CNNvariance_y</th>\n",
       "    </tr>\n",
       "  </thead>\n",
       "  <tbody>\n",
       "    <tr>\n",
       "      <th>0</th>\n",
       "      <td>-3.28760</td>\n",
       "      <td>7.62744</td>\n",
       "      <td>0.62209</td>\n",
       "      <td>3.98474</td>\n",
       "      <td>0.13294</td>\n",
       "      <td>-3.83560</td>\n",
       "      <td>5.30261</td>\n",
       "      <td>0.64537</td>\n",
       "      <td>3.99892</td>\n",
       "      <td>0.31732</td>\n",
       "    </tr>\n",
       "    <tr>\n",
       "      <th>1</th>\n",
       "      <td>38.62427</td>\n",
       "      <td>1.56648</td>\n",
       "      <td>0.01668</td>\n",
       "      <td>2.83790</td>\n",
       "      <td>0.48300</td>\n",
       "      <td>38.62434</td>\n",
       "      <td>1.56646</td>\n",
       "      <td>0.01668</td>\n",
       "      <td>2.83791</td>\n",
       "      <td>0.48303</td>\n",
       "    </tr>\n",
       "    <tr>\n",
       "      <th>2</th>\n",
       "      <td>-3.99482</td>\n",
       "      <td>6.72708</td>\n",
       "      <td>0.12423</td>\n",
       "      <td>3.35970</td>\n",
       "      <td>0.24628</td>\n",
       "      <td>-1.57220</td>\n",
       "      <td>7.03574</td>\n",
       "      <td>0.47274</td>\n",
       "      <td>3.94876</td>\n",
       "      <td>1.89515</td>\n",
       "    </tr>\n",
       "    <tr>\n",
       "      <th>3</th>\n",
       "      <td>-2.67083</td>\n",
       "      <td>3.80475</td>\n",
       "      <td>0.67283</td>\n",
       "      <td>3.10549</td>\n",
       "      <td>0.06746</td>\n",
       "      <td>-2.51674</td>\n",
       "      <td>4.93175</td>\n",
       "      <td>0.58492</td>\n",
       "      <td>2.97297</td>\n",
       "      <td>0.10012</td>\n",
       "    </tr>\n",
       "    <tr>\n",
       "      <th>4</th>\n",
       "      <td>-3.86084</td>\n",
       "      <td>5.82073</td>\n",
       "      <td>0.14346</td>\n",
       "      <td>2.70187</td>\n",
       "      <td>0.40759</td>\n",
       "      <td>31.95067</td>\n",
       "      <td>4.28315</td>\n",
       "      <td>0.09479</td>\n",
       "      <td>2.56137</td>\n",
       "      <td>0.12761</td>\n",
       "    </tr>\n",
       "    <tr>\n",
       "      <th>5</th>\n",
       "      <td>-3.15577</td>\n",
       "      <td>5.58285</td>\n",
       "      <td>0.32386</td>\n",
       "      <td>2.49802</td>\n",
       "      <td>0.25251</td>\n",
       "      <td>-3.15575</td>\n",
       "      <td>5.58304</td>\n",
       "      <td>0.32399</td>\n",
       "      <td>2.49813</td>\n",
       "      <td>0.25239</td>\n",
       "    </tr>\n",
       "    <tr>\n",
       "      <th>6</th>\n",
       "      <td>-3.57740</td>\n",
       "      <td>6.87529</td>\n",
       "      <td>0.31177</td>\n",
       "      <td>3.36817</td>\n",
       "      <td>0.42246</td>\n",
       "      <td>0.37097</td>\n",
       "      <td>5.07232</td>\n",
       "      <td>0.56558</td>\n",
       "      <td>4.03827</td>\n",
       "      <td>0.26912</td>\n",
       "    </tr>\n",
       "    <tr>\n",
       "      <th>7</th>\n",
       "      <td>-2.98807</td>\n",
       "      <td>5.94396</td>\n",
       "      <td>0.60506</td>\n",
       "      <td>4.25407</td>\n",
       "      <td>0.06311</td>\n",
       "      <td>-1.89366</td>\n",
       "      <td>6.19015</td>\n",
       "      <td>0.68847</td>\n",
       "      <td>4.32716</td>\n",
       "      <td>0.22811</td>\n",
       "    </tr>\n",
       "    <tr>\n",
       "      <th>8</th>\n",
       "      <td>12.98886</td>\n",
       "      <td>3.15486</td>\n",
       "      <td>0.57594</td>\n",
       "      <td>3.74505</td>\n",
       "      <td>0.26680</td>\n",
       "      <td>12.98906</td>\n",
       "      <td>3.39595</td>\n",
       "      <td>0.57597</td>\n",
       "      <td>3.74521</td>\n",
       "      <td>0.26673</td>\n",
       "    </tr>\n",
       "    <tr>\n",
       "      <th>9</th>\n",
       "      <td>-3.63906</td>\n",
       "      <td>4.20170</td>\n",
       "      <td>0.59644</td>\n",
       "      <td>3.45660</td>\n",
       "      <td>0.40518</td>\n",
       "      <td>-3.63852</td>\n",
       "      <td>4.20095</td>\n",
       "      <td>0.59647</td>\n",
       "      <td>3.45692</td>\n",
       "      <td>0.40544</td>\n",
       "    </tr>\n",
       "  </tbody>\n",
       "</table>\n",
       "</div>"
      ],
      "text/plain": [
       "   Affinity_x   RMSD_x  CNNscore_x  ...  CNNscore_y  CNNaffinity_y  CNNvariance_y\n",
       "0    -3.28760  7.62744     0.62209  ...     0.64537        3.99892        0.31732\n",
       "1    38.62427  1.56648     0.01668  ...     0.01668        2.83791        0.48303\n",
       "2    -3.99482  6.72708     0.12423  ...     0.47274        3.94876        1.89515\n",
       "3    -2.67083  3.80475     0.67283  ...     0.58492        2.97297        0.10012\n",
       "4    -3.86084  5.82073     0.14346  ...     0.09479        2.56137        0.12761\n",
       "5    -3.15577  5.58285     0.32386  ...     0.32399        2.49813        0.25239\n",
       "6    -3.57740  6.87529     0.31177  ...     0.56558        4.03827        0.26912\n",
       "7    -2.98807  5.94396     0.60506  ...     0.68847        4.32716        0.22811\n",
       "8    12.98886  3.15486     0.57594  ...     0.57597        3.74521        0.26673\n",
       "9    -3.63906  4.20170     0.59644  ...     0.59647        3.45692        0.40544\n",
       "\n",
       "[10 rows x 10 columns]"
      ]
     },
     "execution_count": 77,
     "metadata": {},
     "output_type": "execute_result"
    }
   ],
   "source": [
    "idk1.merge(idk2, left_index=True, right_index=True)"
   ]
  },
  {
   "cell_type": "code",
   "execution_count": 81,
   "metadata": {},
   "outputs": [
    {
     "data": {
      "text/html": [
       "<div>\n",
       "<style scoped>\n",
       "    .dataframe tbody tr th:only-of-type {\n",
       "        vertical-align: middle;\n",
       "    }\n",
       "\n",
       "    .dataframe tbody tr th {\n",
       "        vertical-align: top;\n",
       "    }\n",
       "\n",
       "    .dataframe thead th {\n",
       "        text-align: right;\n",
       "    }\n",
       "</style>\n",
       "<table border=\"1\" class=\"dataframe\">\n",
       "  <thead>\n",
       "    <tr style=\"text-align: right;\">\n",
       "      <th></th>\n",
       "      <th>Affinity</th>\n",
       "      <th>RMSD</th>\n",
       "      <th>CNNscore</th>\n",
       "      <th>CNNaffinity</th>\n",
       "      <th>CNNvariance</th>\n",
       "    </tr>\n",
       "  </thead>\n",
       "  <tbody>\n",
       "    <tr>\n",
       "      <th>0</th>\n",
       "      <td>0.54800</td>\n",
       "      <td>2.32483</td>\n",
       "      <td>-0.02328</td>\n",
       "      <td>-0.01418</td>\n",
       "      <td>-0.18438</td>\n",
       "    </tr>\n",
       "    <tr>\n",
       "      <th>1</th>\n",
       "      <td>-0.00007</td>\n",
       "      <td>0.00002</td>\n",
       "      <td>0.00000</td>\n",
       "      <td>-0.00001</td>\n",
       "      <td>-0.00003</td>\n",
       "    </tr>\n",
       "    <tr>\n",
       "      <th>2</th>\n",
       "      <td>-2.42262</td>\n",
       "      <td>-0.30866</td>\n",
       "      <td>-0.34851</td>\n",
       "      <td>-0.58906</td>\n",
       "      <td>-1.64887</td>\n",
       "    </tr>\n",
       "    <tr>\n",
       "      <th>3</th>\n",
       "      <td>-0.15409</td>\n",
       "      <td>-1.12700</td>\n",
       "      <td>0.08791</td>\n",
       "      <td>0.13252</td>\n",
       "      <td>-0.03266</td>\n",
       "    </tr>\n",
       "    <tr>\n",
       "      <th>4</th>\n",
       "      <td>-35.81151</td>\n",
       "      <td>1.53758</td>\n",
       "      <td>0.04867</td>\n",
       "      <td>0.14050</td>\n",
       "      <td>0.27998</td>\n",
       "    </tr>\n",
       "    <tr>\n",
       "      <th>5</th>\n",
       "      <td>-0.00002</td>\n",
       "      <td>-0.00019</td>\n",
       "      <td>-0.00013</td>\n",
       "      <td>-0.00011</td>\n",
       "      <td>0.00012</td>\n",
       "    </tr>\n",
       "    <tr>\n",
       "      <th>6</th>\n",
       "      <td>-3.94837</td>\n",
       "      <td>1.80297</td>\n",
       "      <td>-0.25381</td>\n",
       "      <td>-0.67010</td>\n",
       "      <td>0.15334</td>\n",
       "    </tr>\n",
       "    <tr>\n",
       "      <th>7</th>\n",
       "      <td>-1.09441</td>\n",
       "      <td>-0.24619</td>\n",
       "      <td>-0.08341</td>\n",
       "      <td>-0.07309</td>\n",
       "      <td>-0.16500</td>\n",
       "    </tr>\n",
       "    <tr>\n",
       "      <th>8</th>\n",
       "      <td>-0.00020</td>\n",
       "      <td>-0.24109</td>\n",
       "      <td>-0.00003</td>\n",
       "      <td>-0.00016</td>\n",
       "      <td>0.00007</td>\n",
       "    </tr>\n",
       "    <tr>\n",
       "      <th>9</th>\n",
       "      <td>-0.00054</td>\n",
       "      <td>0.00075</td>\n",
       "      <td>-0.00003</td>\n",
       "      <td>-0.00032</td>\n",
       "      <td>-0.00026</td>\n",
       "    </tr>\n",
       "  </tbody>\n",
       "</table>\n",
       "</div>"
      ],
      "text/plain": [
       "   Affinity     RMSD  CNNscore  CNNaffinity  CNNvariance\n",
       "0   0.54800  2.32483  -0.02328     -0.01418     -0.18438\n",
       "1  -0.00007  0.00002   0.00000     -0.00001     -0.00003\n",
       "2  -2.42262 -0.30866  -0.34851     -0.58906     -1.64887\n",
       "3  -0.15409 -1.12700   0.08791      0.13252     -0.03266\n",
       "4 -35.81151  1.53758   0.04867      0.14050      0.27998\n",
       "5  -0.00002 -0.00019  -0.00013     -0.00011      0.00012\n",
       "6  -3.94837  1.80297  -0.25381     -0.67010      0.15334\n",
       "7  -1.09441 -0.24619  -0.08341     -0.07309     -0.16500\n",
       "8  -0.00020 -0.24109  -0.00003     -0.00016      0.00007\n",
       "9  -0.00054  0.00075  -0.00003     -0.00032     -0.00026"
      ]
     },
     "execution_count": 81,
     "metadata": {},
     "output_type": "execute_result"
    }
   ],
   "source": [
    "idk1-idk2"
   ]
  },
  {
   "cell_type": "code",
   "execution_count": 82,
   "metadata": {},
   "outputs": [],
   "source": [
    "new_mols = Chem.SDMolSupplier(\"data/equibind_inference_test/ultimate_outputs/new.sdf\")\n",
    "old_mols = Chem.SDMolSupplier(\"data/equibind_inference_test/ultimate_outputs/old.sdf\")\n",
    "unprocessed = Chem.SDMolSupplier(\"data/equibind_inference_test/first_10_ligs.sdf\")"
   ]
  },
  {
   "cell_type": "code",
   "execution_count": 84,
   "metadata": {},
   "outputs": [
    {
     "name": "stdout",
     "output_type": "stream",
     "text": [
      "0 4.000000000127905e-08\n",
      "1 0.37098655999999736\n",
      "2 23.075276299999988\n",
      "3 19.393032710000025\n",
      "4 5.999999999687816e-08\n",
      "5 4.0000000000568506e-08\n",
      "6 2.0000000000706138e-08\n",
      "7 2.9999999999860164e-08\n",
      "8 4.412734360000007\n",
      "9 5.0000000000477486e-08\n"
     ]
    }
   ],
   "source": [
    "for i, (new_mol, old_mol, dumb_mol) in enumerate(zip(new_mols, old_mols, unprocessed)):\n",
    "    print(i, ((new_mol.GetConformer().GetPositions() - old_mol.GetConformer().GetPositions())**2).sum())"
   ]
  },
  {
   "cell_type": "code",
   "execution_count": null,
   "metadata": {},
   "outputs": [],
   "source": []
  },
  {
   "cell_type": "code",
   "execution_count": 20,
   "metadata": {},
   "outputs": [
    {
     "name": "stdout",
     "output_type": "stream",
     "text": [
      "['Pyridoxal Phosphate', 'L-Phenylalanine', 'Biotin', 'Methionine', 'L-Tyrosine', 'L-Leucine', 'L-Tryptophan', 'Thiamine', 'L-Valine', 'Pyridoxine']\n",
      "\n",
      "['Pyridoxal Phosphate', 'L-Phenylalanine', 'Biotin', 'Methionine', 'L-Tyrosine', 'L-Leucine', 'L-Tryptophan', 'Thiamine', 'L-Valine', 'Pyridoxine']\n"
     ]
    }
   ],
   "source": [
    "print([mol.GetProp('_Name') for mol in new_mols])\n",
    "print()\n",
    "print([mol.GetProp('_Name') for mol in old_mols])"
   ]
  },
  {
   "cell_type": "code",
   "execution_count": 23,
   "metadata": {},
   "outputs": [
    {
     "data": {
      "text/plain": [
       "array([[-1.0171, -2.1451, -0.7204],\n",
       "       [ 0.8197, -2.2254,  1.1048],\n",
       "       [-0.2362, -2.1967,  0.6439],\n",
       "       [-0.607 , -1.1498, -1.3314],\n",
       "       [-2.4297, -4.1758, -0.0602],\n",
       "       [ 0.3808,  0.1043, -1.2608],\n",
       "       [-1.8027, -1.3919, -2.1735],\n",
       "       [ 1.0389, -2.1404,  1.6017],\n",
       "       [ 1.6909, -1.339 ,  1.0062],\n",
       "       [ 1.0601, -1.5085,  0.7721],\n",
       "       [ 2.3928, -0.8698,  0.8258],\n",
       "       [ 0.4215, -1.9909,  0.9501],\n",
       "       [ 0.4335, -2.2908,  1.3687],\n",
       "       [ 1.6491, -1.6745,  1.4187],\n",
       "       [-0.2278, -2.7701,  1.5834],\n",
       "       [ 1.0553, -1.2149,  0.3521]])"
      ]
     },
     "execution_count": 23,
     "metadata": {},
     "output_type": "execute_result"
    }
   ],
   "source": [
    "new_mol.GetConformer().GetPositions() - old_mol.GetConformer().GetPositions()"
   ]
  },
  {
   "cell_type": "code",
   "execution_count": 16,
   "metadata": {},
   "outputs": [],
   "source": [
    "def parse(arglist = None):\n",
    "    p = argparse.ArgumentParser()\n",
    "    p.add_argument(\"--trad\", action=\"store_true\")\n",
    "    p.add_argument(\"--no_new\", dest = \"new\", action=\"store_false\")\n",
    "    p.add_argument(\"--no_gnina\", dest = \"gnina\", action=\"store_false\")\n",
    "    p.add_argument(\"--force_gnina\", dest = \"force\", action=\"store_true\")\n",
    "    p.add_argument(\"--seed\", type=int, default = 1)\n",
    "    p.add_argument(\"--use_rdkit_coords\", action=\"store_const\", const = \"--use_rdkit_coords\", default = None)\n",
    "    \n",
    "    return p.parse_args(arglist)"
   ]
  },
  {
   "cell_type": "code",
   "execution_count": 56,
   "metadata": {},
   "outputs": [],
   "source": [
    "def parse(arglist = None):\n",
    "    p = argparse.ArgumentParser()\n",
    "    p.add_argument(\"--no_use_rdkit_coords\", action=\"store_false\", dest = \"use_rdkit_coords\")\n",
    "    p.add_argument(\"--use_rdkit_coords\", action=\"store_true\")\n",
    "    \n",
    "    return p.parse_args(arglist)"
   ]
  },
  {
   "cell_type": "code",
   "execution_count": 57,
   "metadata": {},
   "outputs": [
    {
     "data": {
      "text/plain": [
       "Namespace(use_rdkit_coords=True)"
      ]
     },
     "execution_count": 57,
     "metadata": {},
     "output_type": "execute_result"
    }
   ],
   "source": [
    "parse([])"
   ]
  },
  {
   "cell_type": "code",
   "execution_count": 18,
   "metadata": {},
   "outputs": [
    {
     "data": {
      "text/plain": [
       "Namespace(force=False, gnina=True, new=True, seed=1, trad=False, use_rdkit_coords='--use_rdkit_coords')"
      ]
     },
     "execution_count": 18,
     "metadata": {},
     "output_type": "execute_result"
    }
   ],
   "source": [
    "parse([\"--use_rdkit_coords\"])"
   ]
  },
  {
   "cell_type": "code",
   "execution_count": 11,
   "metadata": {},
   "outputs": [
    {
     "data": {
      "text/plain": [
       "array([[ 0.7551, 16.2956, 72.9805],\n",
       "       [-0.7845, 16.1968, 73.7088],\n",
       "       [-1.2199, 19.1857, 68.4471],\n",
       "       [ 1.4799, 17.7849, 73.3313],\n",
       "       [ 1.7288, 15.0505, 73.5833],\n",
       "       [-2.8979, 19.2321, 72.2437],\n",
       "       [ 0.6301, 16.1377, 71.4816],\n",
       "       [ 0.1062, 16.0394, 69.7446],\n",
       "       [-1.1636, 17.0399, 71.5147],\n",
       "       [-1.4866, 18.1269, 70.6567],\n",
       "       [-1.7   , 16.9242, 72.9233],\n",
       "       [-0.9777, 18.1308, 69.3345],\n",
       "       [-0.185 , 17.0579, 68.8971],\n",
       "       [-0.3531, 16.0069, 71.0189],\n",
       "       [ 0.3698, 17.0304, 67.5055],\n",
       "       [-2.3772, 19.2273, 71.0977]])"
      ]
     },
     "execution_count": 11,
     "metadata": {},
     "output_type": "execute_result"
    }
   ],
   "source": [
    "conf.GetPositions()"
   ]
  },
  {
   "cell_type": "code",
   "execution_count": 8,
   "metadata": {},
   "outputs": [
    {
     "data": {
      "image/png": "[encoded data removed]",
      "text/plain": [
       "<rdkit.Chem.rdchem.Mol at 0x7f2fe180dee0>"
      ]
     },
     "execution_count": 8,
     "metadata": {},
     "output_type": "execute_result"
    }
   ],
   "source": [
    "old_mol"
   ]
  }
 ],
 "metadata": {
  "interpreter": {
   "hash": "e2119a0a3301249aa1af3f612a7b1c0027908ee501c6b62aaf0fd0c409e1d1ad"
  },
  "kernelspec": {
   "display_name": "Python 3.7.12 ('equibind')",
   "language": "python",
   "name": "python3"
  },
  "language_info": {
   "codemirror_mode": {
    "name": "ipython",
    "version": 3
   },
   "file_extension": ".py",
   "mimetype": "text/x-python",
   "name": "python",
   "nbconvert_exporter": "python",
   "pygments_lexer": "ipython3",
   "version": "3.7.12"
  },
  "orig_nbformat": 4
 },
 "nbformat": 4,
 "nbformat_minor": 2
}
